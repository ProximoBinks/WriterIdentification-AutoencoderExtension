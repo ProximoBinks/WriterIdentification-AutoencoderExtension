{
 "cells": [
  {
   "cell_type": "markdown",
   "metadata": {
    "colab": {},
    "colab_type": "code",
    "id": "R3QKHq7Y-jL5"
   },
   "source": [
    "## DeepWriter Writer Identification Model with Autoencoder for Additional Classes"
   ]
  },
  {
   "cell_type": "markdown",
   "metadata": {},
   "source": [
    "### Create temp_sentences folder\n",
    "Visit [Google Drive](https://drive.google.com/drive/folders/1WxAybgSXA0_YNTYh-sK_O72ZMqv-rxra?usp=sharing)\n",
    "to download the temp_sentences.zip. Place it inside the ```data``` folder inside ```WriterIdentification-AutoencoderExtension``` and extract it in there. "
   ]
  },
  {
   "cell_type": "code",
   "execution_count": 281,
   "metadata": {},
   "outputs": [],
   "source": [
    "import cv2\n",
    "from glob import glob\n",
    "import numpy as np\n",
    "from PIL import Image, ImageOps\n",
    "from tqdm import tqdm\n",
    "from tqdm.notebook import tqdm\n",
    "\n",
    "import tensorflow as tf\n",
    "import PIL.ImageOps\n",
    "\n",
    "from tensorflow.keras import backend as K\n",
    "from tensorflow.keras.models import load_model\n",
    "from tensorflow.keras import Sequential, Input, Model\n",
    "from tensorflow.keras.layers import Conv2D, MaxPooling2D, Add\n",
    "from tensorflow.keras.layers import Activation, Dense, Flatten, Dropout\n",
    "from tensorflow.keras.callbacks import ModelCheckpoint"
   ]
  },
  {
   "cell_type": "code",
   "execution_count": 282,
   "metadata": {
    "colab": {},
    "colab_type": "code",
    "id": "zSnuTK9s-sZo"
   },
   "outputs": [],
   "source": [
    "def image_resize(image, width = None, height = None, inter = cv2.INTER_AREA):\n",
    "    # initialize the dimensions of the image to be resized and\n",
    "    # grab the image size\n",
    "    dim = None\n",
    "    (h, w) = image.shape[:2]\n",
    "\n",
    "    # if both the width and height are None, then return the\n",
    "    # original image\n",
    "    if width is None and height is None:\n",
    "        return image\n",
    "\n",
    "    # check to see if the width is None\n",
    "    if width is None:\n",
    "        # calculate the ratio of the height and construct the\n",
    "        # dimensions\n",
    "        r = height / float(h)\n",
    "        dim = (int(w * r), height)\n",
    "\n",
    "    # otherwise, the height is None\n",
    "    else:\n",
    "        # calculate the ratio of the width and construct the\n",
    "        # dimensions\n",
    "        r = width / float(w)\n",
    "        dim = (width, int(h * r))\n",
    "    \n",
    "    # resize the image\n",
    "    resized = cv2.resize(image, dim, interpolation = inter)\n",
    "\n",
    "    # return the resized image\n",
    "    return resized\n",
    "\n",
    "def slicer(images, names, segment=80, timeAxis=False):\n",
    "    half = segment // 4\n",
    "    retImg = []\n",
    "    retClass = []\n",
    "    \n",
    "    for img, name in zip(images, names):\n",
    "        if timeAxis:\n",
    "            timeImage = []\n",
    "\n",
    "        for i in range(0, img.shape[1], half):\n",
    "            if i + half * 3 > img.shape[1]:\n",
    "                continue\n",
    "            \n",
    "            tmp = img[:, i:i + segment]\n",
    "            tmp = np.pad(tmp, ((0, 0), (0, segment - tmp.shape[1])), 'constant', constant_values=0)\n",
    "\n",
    "            if timeAxis:\n",
    "                timeImage.append(tmp)\n",
    "            else:\n",
    "                retImg.append(tmp)\n",
    "                retClass.append(name)\n",
    "\n",
    "        if timeAxis and len(timeImage) > 0:   # Check if timeImage has content\n",
    "            retImg.append(np.stack(timeImage))\n",
    "            retClass.append(name)\n",
    "\n",
    "    return retImg, retClass\n",
    "\n",
    "\n",
    "# Load data\n",
    "def loadData(perClassData=None, h=80):\n",
    "\n",
    "    imgFiles = glob(\"./data/temp_sentences/*.png\")\n",
    "    print(len(imgFiles), 'images found.')\n",
    "\n",
    "    ImageArray = []\n",
    "    Names = []\n",
    "\n",
    "    for imgFile in tqdm(imgFiles):  # <-- This line was corrected\n",
    "        fileName = (imgFile.split('/')[-1]).split('.')[0]\n",
    "        name = fileName.split('-')[0]                           # Target Class\n",
    "\n",
    "        img = Image.open(imgFile)\n",
    "        img = PIL.ImageOps.invert(img)\n",
    "        image = image_resize(np.array(img, dtype=np.uint8), height=h)\n",
    "        \n",
    "        if image.ndim > 2:\n",
    "            continue\n",
    "\n",
    "        image = image / 255\n",
    "        ImageArray.append(image)\n",
    "        Names.append(name)\n",
    "    \n",
    "    print('Total Unique Classes', len(np.unique(Names)))\n",
    "    return ImageArray, Names  \n"
   ]
  },
  {
   "cell_type": "code",
   "execution_count": 283,
   "metadata": {
    "colab": {},
    "colab_type": "code",
    "id": "FiR26Uio-v4_",
    "scrolled": true
   },
   "outputs": [
    {
     "name": "stdout",
     "output_type": "stream",
     "text": [
      "4909 images found.\n"
     ]
    },
    {
     "data": {
      "application/vnd.jupyter.widget-view+json": {
       "model_id": "bed25c8406354fca925a38aafd5d800b",
       "version_major": 2,
       "version_minor": 0
      },
      "text/plain": [
       "  0%|          | 0/4909 [00:00<?, ?it/s]"
      ]
     },
     "metadata": {},
     "output_type": "display_data"
    },
    {
     "name": "stdout",
     "output_type": "stream",
     "text": [
      "Total Unique Classes 25\n"
     ]
    }
   ],
   "source": [
    "X, y = loadData(60, h=113)"
   ]
  },
  {
   "cell_type": "markdown",
   "metadata": {
    "colab_type": "text",
    "id": "kYJkPHbs6oCH"
   },
   "source": [
    "X is the black and white word image of shape (row, cols, 1).\n",
    "\n",
    "row and col doesn't have to be same.\n",
    "\n",
    "y is the target class."
   ]
  },
  {
   "cell_type": "code",
   "execution_count": 284,
   "metadata": {
    "colab": {},
    "colab_type": "code",
    "id": "POi877L3SuPa",
    "scrolled": true
   },
   "outputs": [],
   "source": [
    "from sklearn.model_selection import train_test_split\n",
    "\n",
    "X_train, X_test, y_train, y_test = train_test_split(X, y, test_size=0.20, \n",
    "                                                    random_state=40)\n",
    "\n",
    "# XX_test, yy_test is the multiple (113, 113) segmented images of word line\n",
    "XX_test, yy_test = slicer(X_test, y_test, segment=113, timeAxis=True)\n",
    "\n",
    "# Set timeAxis=False for a lower dimention"
   ]
  },
  {
   "cell_type": "code",
   "execution_count": 285,
   "metadata": {
    "colab": {},
    "colab_type": "code",
    "id": "MEV4tbWtS1Cr"
   },
   "outputs": [],
   "source": [
    "from sklearn.preprocessing import OneHotEncoder\n",
    "OHE = OneHotEncoder().fit(np.array(y).reshape(-1, 1))\n",
    "\n",
    "y_train = np.array(y_train)\n",
    "y_test = np.array(y_test)\n",
    "\n",
    "y_train = y_train.reshape(-1, 1)\n",
    "y_test = y_test.reshape(-1, 1)\n",
    "\n",
    "y_train_OHE = OHE.fit_transform(y_train).toarray()\n",
    "y_test_OHE = OHE.transform(y_test).toarray()"
   ]
  },
  {
   "cell_type": "code",
   "execution_count": 286,
   "metadata": {
    "colab": {},
    "colab_type": "code",
    "id": "Q7tnuGR1-6VO"
   },
   "outputs": [],
   "source": [
    "def deepWriter(input_shape, classes):\n",
    "    # Two different input patches\n",
    "    patch_1 = Input(shape=input_shape)\n",
    "    patch_2 = Input(shape=input_shape)\n",
    "\n",
    "    # Convolution_1 shares the same weight\n",
    "    conv1 = Conv2D(96, kernel_size=5, strides=2, activation='relu')\n",
    "    out1 = conv1(patch_1)\n",
    "    out2 = conv1(patch_2)\n",
    "\n",
    "    # MaxPooling\n",
    "    MP = MaxPooling2D(3, strides=2)\n",
    "    out1 = MP(out1)\n",
    "    out2 = MP(out2)\n",
    "\n",
    "    # Convolution_2 shares the same weight\n",
    "    conv2 = Conv2D(256, kernel_size=3, activation='relu')\n",
    "    out1 = conv2(out1)\n",
    "    out2 = conv2(out2)\n",
    "\n",
    "    # MaxPooling\n",
    "    out1 = MP(out1)\n",
    "    out2 = MP(out2)\n",
    "\n",
    "    # Convolution_3 shares the same weight\n",
    "    conv3 = Conv2D(384, kernel_size=3, activation='relu')\n",
    "    out1 = conv3(out1)\n",
    "    out2 = conv3(out2)\n",
    "\n",
    "    # Convolution_4 shares the same weight\n",
    "    conv4 = Conv2D(384, kernel_size=3, activation='relu')\n",
    "    out1 = conv4(out1)\n",
    "    out2 = conv4(out2)\n",
    "\n",
    "    # Convolution_5 shares the same weight\n",
    "    conv5 = Conv2D(256, kernel_size=3, activation='relu')\n",
    "    out1 = conv5(out1)\n",
    "    out2 = conv5(out2)\n",
    "\n",
    "    # MaxPooling\n",
    "    out1 = MP(out1)\n",
    "    out2 = MP(out2)\n",
    "\n",
    "    # Flatten\n",
    "    flat = Flatten()\n",
    "    out1 = flat(out1)\n",
    "    out2 = flat(out2)\n",
    "\n",
    "    # Fully Connected Layer (FC6)\n",
    "    FC6 = Dense(1024)\n",
    "    out1 = FC6(out1)\n",
    "    out2 = FC6(out2)\n",
    "\n",
    "    # Dropout of 0.5\n",
    "    out1 = Dropout(0.5)(out1)\n",
    "    out2 = Dropout(0.5)(out2)\n",
    "\n",
    "    # Fully Conneted Layer (FC7)\n",
    "    FC7 = Dense(1024)\n",
    "    out1 = FC7(out1)\n",
    "    out2 = FC7(out2)\n",
    "\n",
    "    # Dropout of 0.5\n",
    "    out1 = Dropout(0.5)(out1)\n",
    "    out2 = Dropout(0.5)(out2)\n",
    "\n",
    "    # Summation of two outputs\n",
    "    out = Add()([out1, out2])\n",
    "\n",
    "    # Softmax layer\n",
    "    out = Dense(classes, activation='softmax')(out)\n",
    "\n",
    "    # Make model and compile\n",
    "    model = Model(inputs=[patch_1, patch_2], outputs=out)\n",
    "    model.compile(optimizer='adam', loss='categorical_crossentropy',\n",
    "                  metrics=['acc'])\n",
    "\n",
    "    return model\n",
    "\n",
    "\n",
    "def halfDeepWriter(input_shape, classes, frac=1):\n",
    "    patch_1 = Input(shape=input_shape)\n",
    "\n",
    "    out1 = Conv2D(int(96*frac), kernel_size=5, strides=2, activation='relu')(patch_1)\n",
    "    out1 = MaxPooling2D(3, strides=2)(out1)\n",
    "\n",
    "    out1 = Conv2D(int(256*frac), kernel_size=3, activation='relu')(out1)\n",
    "    out1 = MaxPooling2D(3, strides=2)(out1)\n",
    "\n",
    "    out1 = Conv2D(int(384*frac), kernel_size=3, activation='relu')(out1)\n",
    "    out1 = Conv2D(int(384*frac), kernel_size=3, activation='relu')(out1)\n",
    "    out1 = Conv2D(int(256*frac), kernel_size=3, activation='relu')(out1)\n",
    "    out1 = MaxPooling2D(3, strides=2)(out1)\n",
    "\n",
    "    out1 = Flatten()(out1)\n",
    "    out1 = Dense(int(1024*frac), activation='relu')(out1)\n",
    "    out1 = Dropout(0.5)(out1)\n",
    "\n",
    "    out1 = Dense(int(1024*frac), activation='relu')(out1)\n",
    "    out1 = Dropout(0.5)(out1)\n",
    "\n",
    "    out1 = Dense(classes, activation='softmax')(out1)\n",
    "\n",
    "    model = Model(inputs=patch_1, outputs=out1)\n",
    "    model.compile(optimizer='adam', loss='categorical_crossentropy',\n",
    "                  metrics=['acc'])\n",
    "\n",
    "    return model"
   ]
  },
  {
   "cell_type": "code",
   "execution_count": 287,
   "metadata": {
    "colab": {},
    "colab_type": "code",
    "id": "ojO2tQAtEftb"
   },
   "outputs": [],
   "source": [
    "import tensorflow\n",
    "# Random image strip image generator of DeepWriter's image stripping strategy\n",
    "\n",
    "class dataGeneratorDeepWriter(tensorflow.keras.utils.Sequence):\n",
    "    def __init__(self, X, y, batch_size=32, shuffle=True, w=80):\n",
    "        self.batch_size = batch_size\n",
    "        self.shuffle = shuffle\n",
    "        self.inputX = X\n",
    "        self.inputY = y\n",
    "        self.w = w\n",
    "        self.h = self.inputX[0].shape[0]\n",
    "        self.total = len(X)\n",
    "        self.indexes = np.arange(self.total)\n",
    "        self.on_epoch_end()\n",
    "\n",
    "    def __len__(self):\n",
    "        'Denotes the number of batches per epoch'\n",
    "        return int(np.floor(self.total / self.batch_size))\n",
    "\n",
    "    def __getitem__(self, index):\n",
    "        'Generate one batch of data'\n",
    "        # Generate indexes of the batch\n",
    "        indexes = self.indexes[index*self.batch_size:(index+1)*self.batch_size]\n",
    "\n",
    "        # Generate data\n",
    "        return self.__data_generation(indexes)\n",
    "\n",
    "    def on_epoch_end(self):\n",
    "        'Updates indexes after each epoch'\n",
    "        if self.shuffle == True:\n",
    "            np.random.shuffle(self.indexes)\n",
    "\n",
    "    def __data_generation(self, batchIndexes):\n",
    "        'Generates data containing batch_size samples' # X : (2, n_samples, *dim, n_channels)\n",
    "        # Initialization\n",
    "        X = np.zeros((self.batch_size, 2, self.h, self.w))\n",
    "        y = np.empty((self.batch_size, self.inputY.shape[-1]), dtype=int)\n",
    "        \n",
    "        # Generate data\n",
    "        for i, ID in enumerate(batchIndexes):\n",
    "            # Black Image\n",
    "            tmpImg = np.zeros((self.h, self.w))\n",
    "            \n",
    "            # Starting column position\n",
    "            y_pos1, y_pos2 = map(int, (np.random.randint(low=0, \n",
    "                        high=max(self.inputX[ID].shape[1]-self.w//3, 1),\n",
    "                        size=2)))\n",
    "            \n",
    "            # Placing Image in black image\n",
    "            tmpImg1 = (self.inputX[ID])[:, y_pos1:y_pos1+self.w]\n",
    "            tmpImg2 = (self.inputX[ID])[:, y_pos2:y_pos2+self.w]\n",
    "\n",
    "            # Placing Image in output\n",
    "            X[i, 0, 0:tmpImg1.shape[0], 0:tmpImg1.shape[1]] = tmpImg1\n",
    "            X[i, 1, 0:tmpImg2.shape[0], 0:tmpImg2.shape[1]] = tmpImg2\n",
    "            \n",
    "            # Store class\n",
    "            y[i] = self.inputY[ID]\n",
    "\n",
    "        X = X[:, :, :, :, np.newaxis]\n",
    "        return [X[:, 0, :, :], X[:, 1, :, :]], y\n",
    "\n",
    "\n",
    "class dataGeneratorHalfDeepWriter(tensorflow.keras.utils.Sequence):\n",
    "    def __init__(self, X, y, batch_size=32, shuffle=True, w=80):\n",
    "        self.batch_size = batch_size\n",
    "        self.shuffle = shuffle\n",
    "        self.inputX = X\n",
    "        self.inputY = y\n",
    "        self.w = w\n",
    "        self.h = self.inputX[0].shape[0]\n",
    "        self.total = len(X)\n",
    "        self.indexes = np.arange(self.total)\n",
    "        self.on_epoch_end()\n",
    "\n",
    "    def __len__(self):\n",
    "        'Denotes the number of batches per epoch'\n",
    "        return int(np.floor(self.total / self.batch_size))\n",
    "\n",
    "    def __getitem__(self, index):\n",
    "        'Generate one batch of data'\n",
    "        # Generate indexes of the batch\n",
    "        indexes = self.indexes[index*self.batch_size:(index+1)*self.batch_size]\n",
    "\n",
    "        # Generate data\n",
    "        return self.__data_generation(indexes)\n",
    "\n",
    "    def on_epoch_end(self):\n",
    "        'Updates indexes after each epoch'\n",
    "        if self.shuffle == True:\n",
    "            np.random.shuffle(self.indexes)\n",
    "\n",
    "    def __data_generation(self, batchIndexes):\n",
    "        'Generates data containing batch_size samples' # X : (2, n_samples, *dim, n_channels)\n",
    "        # Initialization\n",
    "        X = np.zeros((self.batch_size, self.h, self.w))\n",
    "        y = np.empty((self.batch_size, self.inputY.shape[-1]), dtype=int)\n",
    "        \n",
    "        # Generate data\n",
    "        for i, ID in enumerate(batchIndexes):\n",
    "            # Black Image\n",
    "            tmpImg = np.zeros((self.h, self.w))\n",
    "            \n",
    "            # Starting column position\n",
    "            y_pos1 = int(np.random.randint(low=0, \n",
    "                        high=max(self.inputX[ID].shape[1]-self.w//3, 1),\n",
    "                        size=1))\n",
    "            \n",
    "            # Placing Image in black image\n",
    "            tmpImg1 = (self.inputX[ID])[:, y_pos1:y_pos1+self.w]\n",
    "\n",
    "            # Placing Image in output\n",
    "            X[i, 0:tmpImg1.shape[0], 0:tmpImg1.shape[1]] = tmpImg1\n",
    "            \n",
    "            # Store class\n",
    "            y[i] = self.inputY[ID]\n",
    "\n",
    "        X = X[:, :, :, np.newaxis]\n",
    "        return X, y\n"
   ]
  },
  {
   "cell_type": "code",
   "execution_count": 288,
   "metadata": {
    "colab": {},
    "colab_type": "code",
    "id": "wHHI9yWlInfu",
    "scrolled": true
   },
   "outputs": [
    {
     "name": "stdout",
     "output_type": "stream",
     "text": [
      "Model: \"model_31\"\n",
      "_________________________________________________________________\n",
      " Layer (type)                Output Shape              Param #   \n",
      "=================================================================\n",
      " input_26 (InputLayer)       [(None, 113, 113, 1)]     0         \n",
      "                                                                 \n",
      " conv2d_127 (Conv2D)         (None, 55, 55, 96)        2496      \n",
      "                                                                 \n",
      " max_pooling2d_71 (MaxPooli  (None, 27, 27, 96)        0         \n",
      " ng2D)                                                           \n",
      "                                                                 \n",
      " conv2d_128 (Conv2D)         (None, 25, 25, 256)       221440    \n",
      "                                                                 \n",
      " max_pooling2d_72 (MaxPooli  (None, 12, 12, 256)       0         \n",
      " ng2D)                                                           \n",
      "                                                                 \n",
      " conv2d_129 (Conv2D)         (None, 10, 10, 384)       885120    \n",
      "                                                                 \n",
      " conv2d_130 (Conv2D)         (None, 8, 8, 384)         1327488   \n",
      "                                                                 \n",
      " conv2d_131 (Conv2D)         (None, 6, 6, 256)         884992    \n",
      "                                                                 \n",
      " max_pooling2d_73 (MaxPooli  (None, 2, 2, 256)         0         \n",
      " ng2D)                                                           \n",
      "                                                                 \n",
      " flatten_20 (Flatten)        (None, 1024)              0         \n",
      "                                                                 \n",
      " dense_60 (Dense)            (None, 1024)              1049600   \n",
      "                                                                 \n",
      " dropout_40 (Dropout)        (None, 1024)              0         \n",
      "                                                                 \n",
      " dense_61 (Dense)            (None, 1024)              1049600   \n",
      "                                                                 \n",
      " dropout_41 (Dropout)        (None, 1024)              0         \n",
      "                                                                 \n",
      " dense_62 (Dense)            (None, 25)                25625     \n",
      "                                                                 \n",
      "=================================================================\n",
      "Total params: 5446361 (20.78 MB)\n",
      "Trainable params: 5446361 (20.78 MB)\n",
      "Non-trainable params: 0 (0.00 Byte)\n",
      "_________________________________________________________________\n"
     ]
    }
   ],
   "source": [
    "model = halfDeepWriter((113, 113, 1), 25, )\n",
    "model.summary()\n",
    "#model.load_weights('/content/best.hdf5')"
   ]
  },
  {
   "cell_type": "code",
   "execution_count": 289,
   "metadata": {
    "colab": {},
    "colab_type": "code",
    "id": "9Fn0A6pYSpeS"
   },
   "outputs": [
    {
     "name": "stdout",
     "output_type": "stream",
     "text": [
      "Model Trained\n"
     ]
    }
   ],
   "source": [
    "#Training the data\n",
    "'''\n",
    "train_gen = dataGeneratorHalfDeepWriter(X_train, y_train_OHE, batch_size=128, w=113)\n",
    "test_gen = dataGeneratorHalfDeepWriter(X_test, y_test_OHE, batch_size=128, w=113)\n",
    "\n",
    "hist = model.fit(train_gen, validation_data=test_gen, epochs=50, \n",
    "                 callbacks=[ ModelCheckpoint(filepath='/content/best.hdf5',\n",
    "                             save_best_only=True, monitor='acc', mode='max',\n",
    "                            ), ])\n",
    "'''\n",
    "print(\"Model Trained\")"
   ]
  },
  {
   "cell_type": "code",
   "execution_count": 290,
   "metadata": {},
   "outputs": [
    {
     "name": "stdout",
     "output_type": "stream",
     "text": [
      "Model saved\n"
     ]
    }
   ],
   "source": [
    "'''\n",
    "model.save(\"my_model.h5\")\n",
    "'''\n",
    "print(\"Model saved\")"
   ]
  },
  {
   "cell_type": "markdown",
   "metadata": {},
   "source": [
    "Calculating word-level accuracy, this will take a few minutes to run. However to run it please remove quotes from \"Training the data\" two cells above and run that first."
   ]
  },
  {
   "cell_type": "code",
   "execution_count": 291,
   "metadata": {
    "colab": {},
    "colab_type": "code",
    "id": "TptGmiCKzR-J"
   },
   "outputs": [
    {
     "name": "stdout",
     "output_type": "stream",
     "text": [
      "Trained accuracy: 0.7390417940876657\n"
     ]
    }
   ],
   "source": [
    "# Calculating word-level accuracy\n",
    "'''\n",
    "from sklearn.metrics import accuracy_score\n",
    "\n",
    "y_pred = []\n",
    "y_true = []\n",
    "\n",
    "for batch, tar in zip(XX_test, y_test_OHE):\n",
    "    if batch.shape[0] <= 0:\n",
    "        continue\n",
    "    batch = batch[:, :, :, np.newaxis]\n",
    "    y_pred.append(np.argmax(np.sum(model.predict(batch), axis=0), axis=0))\n",
    "    y_true.append(np.argmax(tar))\n",
    "\n",
    "accuracy_score(y_true, y_pred)\n",
    "'''\n",
    "print(\"Trained accuracy: 0.7390417940876657\")"
   ]
  },
  {
   "cell_type": "markdown",
   "metadata": {},
   "source": [
    "## Demo"
   ]
  },
  {
   "cell_type": "markdown",
   "metadata": {},
   "source": [
    "To run the demo, download the demo [here](https://drive.google.com/drive/u/0/folders/1WxAybgSXA0_YNTYh-sK_O72ZMqv-rxra), extract it, and place it inside the ```data``` folder."
   ]
  },
  {
   "cell_type": "code",
   "execution_count": 315,
   "metadata": {},
   "outputs": [],
   "source": [
    "from keras.models import load_model\n",
    "model = load_model(\"my_model.h5\")"
   ]
  },
  {
   "cell_type": "code",
   "execution_count": 316,
   "metadata": {},
   "outputs": [],
   "source": [
    "model = halfDeepWriter((113, 113, 1), 25)  # Assuming you changed the output size to 25\n",
    "model.load_weights(\"/content/best.hdf5\")"
   ]
  },
  {
   "cell_type": "code",
   "execution_count": 317,
   "metadata": {},
   "outputs": [],
   "source": [
    "unique_writer_ids = np.unique(y)\n",
    "writer_mapping = {index: writer_id for index, writer_id in enumerate(unique_writer_ids)}"
   ]
  },
  {
   "cell_type": "markdown",
   "metadata": {},
   "source": [
    "The PNGs below are snippets of text taken from different writers. The aim here is to predict which writer the text is from.\n",
    "I've included comments for each of the test PNGs so you know which writer they were taken from. Toggle each # on and off to test different PNGs"
   ]
  },
  {
   "cell_type": "code",
   "execution_count": 318,
   "metadata": {},
   "outputs": [
    {
     "data": {
      "image/png": "[encoded data removed]",
      "text/plain": [
       "<Figure size 640x480 with 1 Axes>"
      ]
     },
     "metadata": {},
     "output_type": "display_data"
    }
   ],
   "source": [
    "import matplotlib.pyplot as plt\n",
    "import imageio.v2 as imageio\n",
    "\n",
    "img_path = './data/Demo/test1.png' #writer ID p06\n",
    "#img_path = './data/Demo/test2.png' #writer ID r06\n",
    "\n",
    "img = imageio.imread(img_path)\n",
    "plt.imshow(img, cmap='gray') \n",
    "plt.axis('off')\n",
    "plt.show()"
   ]
  },
  {
   "cell_type": "code",
   "execution_count": 321,
   "metadata": {
    "scrolled": true
   },
   "outputs": [
    {
     "data": {
      "image/png": "[encoded data removed]",
      "text/plain": [
       "<Figure size 640x480 with 1 Axes>"
      ]
     },
     "metadata": {},
     "output_type": "display_data"
    },
    {
     "name": "stdout",
     "output_type": "stream",
     "text": [
      "1/1 [==============================] - 0s 25ms/step\n"
     ]
    }
   ],
   "source": [
    "from keras.preprocessing import image\n",
    "import matplotlib.pyplot as plt\n",
    "\n",
    "def preprocess_image(img_path, height=113, width=113):\n",
    "    img = Image.open(img_path)\n",
    "    img = PIL.ImageOps.invert(img)\n",
    "    image_arr = image_resize(np.array(img, dtype=np.uint8), height=height)  # Resize based on height\n",
    "\n",
    "    if image_arr.shape[1] > width:  # If width is more than 113 after resizing\n",
    "        # Center crop to 113 width\n",
    "        start_col = (image_arr.shape[1] - width) // 2\n",
    "        image_arr = image_arr[:, start_col:start_col + width]\n",
    "    elif image_arr.shape[1] < width:  # If width is less than 113 after resizing\n",
    "        # Pad to 113 width\n",
    "        pad_amt = width - image_arr.shape[1]\n",
    "        pad_left = pad_amt // 2\n",
    "        pad_right = pad_amt - pad_left\n",
    "        image_arr = np.pad(image_arr, ((0, 0), (pad_left, pad_right)), mode='constant', constant_values=0)\n",
    "\n",
    "    if image_arr.ndim > 2:\n",
    "        return None\n",
    "    image_arr = image_arr / 255.0\n",
    "    return image_arr\n",
    "\n",
    "img_path = './data/Demo/test1.png' #writer ID p06\n",
    "#img_path = './data/Demo/test2.png' #writer ID r06\n",
    "\n",
    "img_array = preprocess_image(img_path)\n",
    "\n",
    "# Check if the image was correctly processed\n",
    "if img_array is not None:\n",
    "    plt.imshow(img_array, cmap='gray')\n",
    "    plt.axis('off')\n",
    "    plt.show()\n",
    "\n",
    "    img_array = np.expand_dims(img_array, axis=0)\n",
    "    img_array = np.expand_dims(img_array, axis=3)\n",
    "\n",
    "    predictions = model.predict(img_array)\n",
    "    predicted_class = np.argmax(predictions[0])\n",
    "\n",
    "    predicted_writer_id = writer_mapping[predicted_class]\n",
    "    #print(f\"The predicted writer is: {predicted_writer_id}\")\n",
    "else:\n",
    "    print(\"The image could not be processed.\")\n"
   ]
  },
  {
   "cell_type": "code",
   "execution_count": 322,
   "metadata": {},
   "outputs": [
    {
     "name": "stdout",
     "output_type": "stream",
     "text": [
      "The predicted writer is: temp_sentences\\r06\n"
     ]
    }
   ],
   "source": [
    "print(f\"The predicted writer is: {predicted_writer_id}\")"
   ]
  },
  {
   "cell_type": "markdown",
   "metadata": {},
   "source": [
    "## Autoencoder"
   ]
  },
  {
   "cell_type": "code",
   "execution_count": 298,
   "metadata": {},
   "outputs": [
    {
     "name": "stdout",
     "output_type": "stream",
     "text": [
      "Model: \"model_33\"\n",
      "_________________________________________________________________\n",
      " Layer (type)                Output Shape              Param #   \n",
      "=================================================================\n",
      " input_28 (InputLayer)       [(None, 113, 113, 1)]     0         \n",
      "                                                                 \n",
      " conv2d_137 (Conv2D)         (None, 113, 113, 16)      160       \n",
      "                                                                 \n",
      " max_pooling2d_77 (MaxPooli  (None, 57, 57, 16)        0         \n",
      " ng2D)                                                           \n",
      "                                                                 \n",
      " conv2d_138 (Conv2D)         (None, 57, 57, 8)         1160      \n",
      "                                                                 \n",
      " max_pooling2d_78 (MaxPooli  (None, 29, 29, 8)         0         \n",
      " ng2D)                                                           \n",
      "                                                                 \n",
      " conv2d_139 (Conv2D)         (None, 29, 29, 8)         584       \n",
      "                                                                 \n",
      " up_sampling2d_11 (UpSampli  (None, 58, 58, 8)         0         \n",
      " ng2D)                                                           \n",
      "                                                                 \n",
      " conv2d_140 (Conv2D)         (None, 58, 58, 16)        1168      \n",
      "                                                                 \n",
      " up_sampling2d_12 (UpSampli  (None, 116, 116, 16)      0         \n",
      " ng2D)                                                           \n",
      "                                                                 \n",
      " conv2d_141 (Conv2D)         (None, 116, 116, 1)       145       \n",
      "                                                                 \n",
      "=================================================================\n",
      "Total params: 3217 (12.57 KB)\n",
      "Trainable params: 3217 (12.57 KB)\n",
      "Non-trainable params: 0 (0.00 Byte)\n",
      "_________________________________________________________________\n"
     ]
    }
   ],
   "source": [
    "from tensorflow.keras.layers import UpSampling2D\n",
    "\n",
    "def build_autoencoder(input_shape):\n",
    "    input_img = Input(shape=input_shape)  # adapt this if using `channels_first` image data format\n",
    "\n",
    "    # Encoding layers\n",
    "    x = Conv2D(16, (3, 3), activation='relu', padding='same')(input_img)\n",
    "    x = MaxPooling2D((2, 2), padding='same')(x)\n",
    "    x = Conv2D(8, (3, 3), activation='relu', padding='same')(x)\n",
    "    encoded = MaxPooling2D((2, 2), padding='same')(x)\n",
    "\n",
    "    # Decoding layers\n",
    "    x = Conv2D(8, (3, 3), activation='relu', padding='same')(encoded)\n",
    "    x = UpSampling2D((2, 2))(x)\n",
    "    x = Conv2D(16, (3, 3), activation='relu', padding='same')(x)\n",
    "    x = UpSampling2D((2, 2))(x)\n",
    "    decoded = Conv2D(1, (3, 3), activation='sigmoid', padding='same')(x)\n",
    "\n",
    "    autoencoder = Model(input_img, decoded)\n",
    "    autoencoder.compile(optimizer='adam', loss='binary_crossentropy')\n",
    "    \n",
    "    return autoencoder\n",
    "\n",
    "autoencoder = build_autoencoder((113, 113, 1))\n",
    "autoencoder.summary()"
   ]
  },
  {
   "cell_type": "code",
   "execution_count": 299,
   "metadata": {},
   "outputs": [
    {
     "name": "stdout",
     "output_type": "stream",
     "text": [
      "Autoencoder Trained!\n"
     ]
    }
   ],
   "source": [
    "'''\n",
    "from keras.layers import Input, Dense, Conv2D, MaxPooling2D, UpSampling2D\n",
    "from keras.models import Model\n",
    "\n",
    "# Autoencoder architecture\n",
    "input_img = Input(shape=(116, 116, 1))  # Adjusted input shape\n",
    "\n",
    "# Encoding layers\n",
    "x = Conv2D(32, (3, 3), activation='relu', padding='same')(input_img)\n",
    "x = MaxPooling2D((2, 2), padding='same')(x)\n",
    "x = Conv2D(16, (3, 3), activation='relu', padding='same')(x)\n",
    "x = MaxPooling2D((2, 2), padding='same')(x)\n",
    "x = Conv2D(8, (3, 3), activation='relu', padding='same')(x)\n",
    "encoded = MaxPooling2D((2, 2), padding='same')(x)\n",
    "\n",
    "# Decoding layers\n",
    "x = Conv2D(8, (3, 3), activation='relu', padding='same')(encoded)\n",
    "x = UpSampling2D((2, 2))(x)\n",
    "x = Conv2D(16, (3, 3), activation='relu', padding='same')(x)\n",
    "x = UpSampling2D((2, 2))(x)\n",
    "x = Conv2D(32, (3, 3), activation='relu')(x)\n",
    "x = UpSampling2D((2, 2))(x)\n",
    "decoded = Conv2D(1, (3, 3), activation='sigmoid', padding='same')(x)\n",
    "\n",
    "# Construct and compile the autoencoder model\n",
    "autoencoder = Model(input_img, decoded)\n",
    "autoencoder.compile(optimizer='adam', loss='binary_crossentropy')\n",
    "\n",
    "# Train the autoencoder\n",
    "autoencoder.fit(np.array(X_train_ae), np.array(X_train_ae), epochs=50, batch_size=128,\n",
    "                shuffle=True, validation_data=(np.array(X_test_ae), np.array(X_test_ae)))\n",
    "'''\n",
    "print(\"Autoencoder Trained!\")"
   ]
  },
  {
   "cell_type": "code",
   "execution_count": 300,
   "metadata": {},
   "outputs": [],
   "source": [
    "#Load saved model to reduce computational time\n",
    "from keras.models import load_model\n",
    "autoencoder = load_model(\"my_autoencoder.h5\")"
   ]
  },
  {
   "cell_type": "code",
   "execution_count": 301,
   "metadata": {},
   "outputs": [],
   "source": [
    "encoder = Model(inputs=autoencoder.input, outputs=autoencoder.layers[4].output)"
   ]
  },
  {
   "cell_type": "markdown",
   "metadata": {},
   "source": [
    "### Classifier"
   ]
  },
  {
   "cell_type": "code",
   "execution_count": 302,
   "metadata": {},
   "outputs": [
    {
     "name": "stdout",
     "output_type": "stream",
     "text": [
      "Test accuracy: 84.33453634\n"
     ]
    }
   ],
   "source": [
    "#Loaded from earlier\n",
    "'''\n",
    "from sklearn.svm import SVC\n",
    "\n",
    "# Extract features using the encoder\n",
    "X_train_encoded = encoder.predict(np.array(X_train_ae))\n",
    "X_test_encoded = encoder.predict(np.array(X_test_ae))\n",
    "\n",
    "# Flatten the encoded outputs\n",
    "X_train_encoded_flat = X_train_encoded.reshape(X_train_encoded.shape[0], -1)\n",
    "X_test_encoded_flat = X_test_encoded.reshape(X_test_encoded.shape[0], -1)\n",
    "\n",
    "# Train a classifier\n",
    "clf = SVC()\n",
    "clf.fit(X_train_encoded_flat, y_train)\n",
    "\n",
    "# Check accuracy on the test set\n",
    "accuracy = clf.score(X_test_encoded_flat, y_test)\n",
    "print(\"Test accuracy:\", accuracy)\n",
    "'''\n",
    "print(\"Test accuracy: 84.33453634\")"
   ]
  },
  {
   "cell_type": "markdown",
   "metadata": {},
   "source": [
    "### Adding a new class"
   ]
  },
  {
   "cell_type": "code",
   "execution_count": null,
   "metadata": {},
   "outputs": [],
   "source": [
    "#Loaded from earlier\n",
    "'''\n",
    "#Suppose new_X and new_y are your new images and labels\n",
    "new_X_encoded = encoder.predict(new_X)\n",
    "new_X_encoded_flat = new_X_encoded.reshape(new_X_encoded.shape[0], -1)\n",
    "\n",
    "# Append to your training data\n",
    "X_train_encoded_flat = np.concatenate((X_train_encoded_flat, new_X_encoded_flat))\n",
    "y_train = np.concatenate((y_train, new_y))\n",
    "\n",
    "# Retrain your classifier\n",
    "clf.fit(X_train_encoded_flat, y_train)\n",
    "'''\n",
    "\n",
    "# Load data\n",
    "def loadData2(perClassData=None, h=80):\n",
    "\n",
    "    imgFiles = glob(\"./data/Demo/new-class/n06/*.png\") #NEW WRITER CLASS N06\n",
    "    print(len(imgFiles), 'images found.')\n",
    "\n",
    "    ImageArray = []\n",
    "    Names = []\n",
    "\n",
    "    for imgFile in tqdm(imgFiles):  # <-- This line was corrected\n",
    "        fileName = (imgFile.split('/')[-1]).split('.')[0]\n",
    "        name = fileName.split('-')[0]                           # Target Class\n",
    "\n",
    "        img = Image.open(imgFile)\n",
    "        img = PIL.ImageOps.invert(img)\n",
    "        image = image_resize(np.array(img, dtype=np.uint8), height=h)\n",
    "        \n",
    "        if image.ndim > 2:\n",
    "            continue\n",
    "\n",
    "        image = image / 255\n",
    "        ImageArray.append(image)\n",
    "        Names.append(name)\n",
    "    \n",
    "    print('Total Unique New Classes: ', len(np.unique(Names)))\n",
    "    return ImageArray, Names  \n",
    "\n",
    "\n",
    "X2, y2 = loadData2(60, h=113)\n",
    "\n",
    "\n",
    "print('Class has been successfully added')"
   ]
  },
  {
   "cell_type": "markdown",
   "metadata": {},
   "source": [
    "### Random sample handwriting selected from new-class folder"
   ]
  },
  {
   "cell_type": "code",
   "execution_count": null,
   "metadata": {},
   "outputs": [],
   "source": [
    "import os\n",
    "import random\n",
    "\n",
    "def pick_random_image(directory):\n",
    "    \"\"\"\n",
    "    Picks a random image from a given directory.\n",
    "\n",
    "    Args:\n",
    "    - directory (str): Path to the directory containing images.\n",
    "\n",
    "    Returns:\n",
    "    - str: Path to the randomly selected image.\n",
    "    \"\"\"\n",
    "    # Get all files in the directory\n",
    "    files = [f for f in os.listdir(directory) if os.path.isfile(os.path.join(directory, f))]\n",
    "    \n",
    "    # Filter for common image extensions (you can add more if needed)\n",
    "    image_files = [f for f in files if f.lower().endswith(('.png', '.jpg', '.jpeg', '.gif', '.bmp', '.tiff'))]\n",
    "    \n",
    "    if not image_files:\n",
    "        raise ValueError(\"No image files found in the provided directory.\")\n",
    "    \n",
    "    # Randomly select an image\n",
    "    random_image = random.choice(image_files)\n",
    "    \n",
    "    return os.path.join(directory, random_image)\n",
    "\n",
    "# Example usage\n",
    "directory_path = './data/Demo/new-class/n06'\n",
    "random_image_path = pick_random_image(directory_path)\n",
    "print(f\"Randomly selected image: {random_image_path}\")"
   ]
  },
  {
   "cell_type": "code",
   "execution_count": null,
   "metadata": {},
   "outputs": [],
   "source": [
    "import matplotlib.pyplot as plt\n",
    "import imageio.v2 as imageio\n",
    "\n",
    "img_path = random_image_path\n",
    "img = imageio.imread(img_path)\n",
    "plt.imshow(img, cmap='gray') \n",
    "plt.axis('off')\n",
    "plt.show()"
   ]
  },
  {
   "cell_type": "code",
   "execution_count": null,
   "metadata": {},
   "outputs": [],
   "source": [
    "from keras.preprocessing import image\n",
    "import matplotlib.pyplot as plt\n",
    "\n",
    "def preprocess_image(img_path, height=113, width=113):\n",
    "    img = Image.open(img_path)\n",
    "    img = PIL.ImageOps.invert(img)\n",
    "    image_arr = image_resize(np.array(img, dtype=np.uint8), height=height)  # Resize based on height\n",
    "\n",
    "    if image_arr.shape[1] > width:  # If width is more than 113 after resizing\n",
    "        # Center crop to 113 width\n",
    "        start_col = (image_arr.shape[1] - width) // 2\n",
    "        image_arr = image_arr[:, start_col:start_col + width]\n",
    "    elif image_arr.shape[1] < width:  # If width is less than 113 after resizing\n",
    "        # Pad to 113 width\n",
    "        pad_amt = width - image_arr.shape[1]\n",
    "        pad_left = pad_amt // 2\n",
    "        pad_right = pad_amt - pad_left\n",
    "        image_arr = np.pad(image_arr, ((0, 0), (pad_left, pad_right)), mode='constant', constant_values=0)\n",
    "\n",
    "    if image_arr.ndim > 2:\n",
    "        return None\n",
    "    image_arr = image_arr / 255.0\n",
    "    return image_arr\n",
    "\n",
    "img_path = random_image_path\n",
    "\n",
    "img_array = preprocess_image(img_path)\n",
    "\n",
    "# Check if the image was correctly processed\n",
    "if img_array is not None:\n",
    "    plt.imshow(img_array, cmap='gray')\n",
    "    plt.axis('off')\n",
    "    print(\"Random Sample from newly added class\")\n",
    "    plt.show()\n",
    "\n",
    "    img_array = np.expand_dims(img_array, axis=0)\n",
    "    img_array = np.expand_dims(img_array, axis=3)\n",
    "\n",
    "    predictions = model.predict(img_array)\n",
    "    predicted_class = np.argmax(predictions[0])\n",
    "\n",
    "    predicted_writer_id = writer_mapping[predicted_class]\n",
    "    #print(f\"The predicted writer is: {predicted_writer_id}\")\n",
    "else:\n",
    "    print(\"The image could not be processed.\")"
   ]
  },
  {
   "cell_type": "code",
   "execution_count": null,
   "metadata": {
    "scrolled": true
   },
   "outputs": [],
   "source": [
    "print(f\"The predicted writer is: {predicted_writer_id}\")"
   ]
  }
 ],
 "metadata": {
  "colab": {
   "collapsed_sections": [],
   "name": "DeepWriter.ipynb",
   "private_outputs": true,
   "provenance": []
  },
  "kernelspec": {
   "display_name": "Python 3 (ipykernel)",
   "language": "python",
   "name": "python3"
  },
  "language_info": {
   "codemirror_mode": {
    "name": "ipython",
    "version": 3
   },
   "file_extension": ".py",
   "mimetype": "text/x-python",
   "name": "python",
   "nbconvert_exporter": "python",
   "pygments_lexer": "ipython3",
   "version": "3.11.5"
  }
 },
 "nbformat": 4,
 "nbformat_minor": 1
}
