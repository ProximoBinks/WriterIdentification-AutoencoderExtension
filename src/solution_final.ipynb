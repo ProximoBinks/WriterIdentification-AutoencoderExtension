{
 "cells": [
  {
   "cell_type": "markdown",
   "metadata": {
    "colab_type": "text",
    "id": "FOICGEz6jN_e"
   },
   "source": [
    "# IAM Writer Recognition"
   ]
  },
  {
   "cell_type": "markdown",
   "metadata": {},
   "source": [
    "The goal of the notebook is to use the method explained in the paper [DeepWriter: A Multi-Stream Deep CNN for Text-independent Writer Identification](https://arxiv.org/abs/1606.06472) to identify the writer (author) of a text based on their writing styles. To do so, we'll use the [IAM Handwriting Database](http://www.fki.inf.unibe.ch/databases/iam-handwriting-database/download-the-iam-handwriting-database)."
   ]
  },
  {
   "cell_type": "markdown",
   "metadata": {
    "colab_type": "text",
    "id": "inxlDgefjN_j"
   },
   "source": [
    "# Reading The Dataset"
   ]
  },
  {
   "cell_type": "markdown",
   "metadata": {},
   "source": [
    "The first step is to create a dictionary which will map each form ID (sentence) to a writer. This information is available in the ``forms.txt`` file, where each line (except for the first 16 lines, which are documentation) defines the form ID at index ``0``, and its writer at index ``1``."
   ]
  },
  {
   "cell_type": "code",
   "execution_count": 1,
   "metadata": {
    "colab": {},
    "colab_type": "code",
    "id": "2zHuGCQFjN_l"
   },
   "outputs": [],
   "source": [
    "# Create a dictionary to store each form ID and its writer\n",
    "import os\n",
    "from itertools import islice\n",
    "\n",
    "form_writer = {}\n",
    "forms_file_path = \"../data/forms.txt\"\n",
    "with open(forms_file_path) as f:\n",
    "    for line in islice(f, 16, None):\n",
    "        line_list = line.split(' ')\n",
    "        form_id = line_list[0]\n",
    "        writer = line_list[1]\n",
    "        form_writer[form_id] = writer"
   ]
  },
  {
   "cell_type": "markdown",
   "metadata": {
    "colab_type": "text",
    "id": "TGIUdr5cjN_p"
   },
   "source": [
    "Visualize dictionary (as array for simplicity):"
   ]
  },
  {
   "cell_type": "code",
   "execution_count": 2,
   "metadata": {
    "colab": {
     "base_uri": "https://localhost:8080/",
     "height": 102
    },
    "colab_type": "code",
    "id": "FKJ6dsAGjN_q",
    "outputId": "cb98eba3-137f-4573-cd9f-6d172ba7d6cd"
   },
   "outputs": [
    {
     "name": "stdout",
     "output_type": "stream",
     "text": [
      "Number of form-writer pairs: 1539\n",
      "[('a01-000u', '000'), ('a01-000x', '001'), ('a01-003', '002'), ('a01-003u', '000'), ('a01-003x', '003')]\n",
      "Sample form-writer mappings: [('a01-000u', '000'), ('a01-000x', '001'), ('a01-003', '002'), ('a01-003u', '000'), ('a01-003x', '003')]\n"
     ]
    }
   ],
   "source": [
    "list(form_writer.items())[0:5]\n",
    "print(\"Number of form-writer pairs:\", len(form_writer))\n",
    "print(list(form_writer.items())[0:5])\n",
    "print(\"Sample form-writer mappings:\", list(form_writer.items())[:5])"
   ]
  },
  {
   "cell_type": "markdown",
   "metadata": {
    "colab_type": "text",
    "id": "ZdHVHlU_jN_t"
   },
   "source": [
    "For efficiency reasons,  we'll select the 50 most common writers from the dictionary we have created, and the rest of the notebook will only focus on them (as opposed to using the 221 authors present in the dataset)."
   ]
  },
  {
   "cell_type": "code",
   "execution_count": 3,
   "metadata": {
    "colab": {},
    "colab_type": "code",
    "id": "B4le_mL3jN_t"
   },
   "outputs": [],
   "source": [
    "# Select the 50 most common writer\n",
    "\n",
    "from collections import Counter\n",
    "\n",
    "top_writers = []\n",
    "num_writers = 50\n",
    "writers_counter = Counter(form_writer.values())\n",
    "for writer_id,_ in writers_counter.most_common(num_writers):\n",
    "    top_writers.append(writer_id)"
   ]
  },
  {
   "cell_type": "markdown",
   "metadata": {
    "colab_type": "text",
    "id": "X7DKQ0VijN_w"
   },
   "source": [
    "Visualize the writer id of the top 50 writers:"
   ]
  },
  {
   "cell_type": "code",
   "execution_count": 4,
   "metadata": {
    "colab": {
     "base_uri": "https://localhost:8080/",
     "height": 34
    },
    "colab_type": "code",
    "id": "5mhwA0LrjN_x",
    "outputId": "7c141aa2-d171-499f-b1fd-738c182cdc83"
   },
   "outputs": [
    {
     "name": "stdout",
     "output_type": "stream",
     "text": [
      "Top writer IDs: ['000', '150', '151', '152', '153']\n",
      "['000', '150', '151', '152', '153']\n"
     ]
    }
   ],
   "source": [
    "print(\"Top writer IDs:\", top_writers[0:5])\n",
    "print(top_writers[0:5])"
   ]
  },
  {
   "cell_type": "markdown",
   "metadata": {
    "colab_type": "text",
    "id": "HwW7ts-mjN_0"
   },
   "source": [
    "From the 50 most common writers we have selected, we'll now need to select the forms (sentences) they have written:"
   ]
  },
  {
   "cell_type": "code",
   "execution_count": 5,
   "metadata": {
    "colab": {},
    "colab_type": "code",
    "id": "MeRZBANbjN_0"
   },
   "outputs": [],
   "source": [
    "top_forms = []\n",
    "for form_id, author_id in form_writer.items():\n",
    "    if author_id in top_writers:\n",
    "        top_forms.append(form_id)"
   ]
  },
  {
   "cell_type": "markdown",
   "metadata": {
    "colab_type": "text",
    "id": "5HDd4y12jN_4"
   },
   "source": [
    "Visualize the form id of the top 50 writers:"
   ]
  },
  {
   "cell_type": "code",
   "execution_count": 6,
   "metadata": {
    "colab": {
     "base_uri": "https://localhost:8080/",
     "height": 34
    },
    "colab_type": "code",
    "id": "Uu5W_aXUjN_6",
    "outputId": "321e8045-0560-454a-80fe-479272f9f369"
   },
   "outputs": [
    {
     "name": "stdout",
     "output_type": "stream",
     "text": [
      "Number of top forms: 452\n",
      "Sample form IDs: ['a01-000u', 'a01-003u', 'a01-007u', 'a01-011u', 'a01-014u']\n",
      "['a01-000u', 'a01-003u', 'a01-007u', 'a01-011u', 'a01-014u']\n"
     ]
    }
   ],
   "source": [
    "print(\"Number of top forms:\", len(top_forms))\n",
    "print(\"Sample form IDs:\", top_forms[:5])\n",
    "print(top_forms[0:5])"
   ]
  },
  {
   "cell_type": "markdown",
   "metadata": {
    "colab_type": "text",
    "id": "be_0siyXjN_-"
   },
   "source": [
    "Create a temp directory which contains only the sentences of the forms selected above:"
   ]
  },
  {
   "cell_type": "code",
   "execution_count": 43,
   "metadata": {
    "colab": {},
    "colab_type": "code",
    "id": "qQBL7IeajN__"
   },
   "outputs": [],
   "source": [
    "import os\n",
    "import glob\n",
    "import shutil\n",
    "\n",
    "# Create temp directory to save writers' forms in (assumes files have already been copied if the directory exists)\n",
    "temp_sentences_path = \"../data/temp_sentences\"\n",
    "if not os.path.exists(temp_sentences_path):\n",
    "    os.makedirs(temp_sentences_path)\n",
    "\n",
    "# Debugging Line 4: Check if 'top_forms' is correctly set\n",
    "#print(f\"Top Forms: {top_forms}\")\n",
    "\n",
    "original_sentences_path = os.path.join(\"..\", \"data\", \"sentences\", \"*\", \"*\", \"*.png\")\n",
    "\n",
    "# Debugging Line 5: Verify the Paths\n",
    "#print(\"Files found:\", glob.glob(original_sentences_path)[:5])\n",
    "\n",
    "for file_path in glob.glob(original_sentences_path):\n",
    "    image_name = file_path.split(os.path.sep)[-1]  # Use os.path.sep for cross-platform compatibility\n",
    "    form_id = image_name.split('-')[0] + '-' + image_name.split('-')[1]\n",
    "\n",
    "    if form_id in top_forms:\n",
    "        # Debugging Line 6: Check if Files are Copied\n",
    "        #print(f\"Copying file {file_path} to {temp_sentences_path}/{image_name}\")\n",
    "        try:\n",
    "            shutil.copy(file_path, os.path.join(temp_sentences_path, image_name))\n",
    "        except Exception as e:\n",
    "            print(f\"Failed to copy {file_path}. Error: {e}\")\n"
   ]
  },
  {
   "cell_type": "markdown",
   "metadata": {
    "colab_type": "text",
    "id": "hSSAlzWVjOAD"
   },
   "source": [
    "Create arrays of file inputs (a form) and their respective targets (a writer id):"
   ]
  },
  {
   "cell_type": "code",
   "execution_count": 8,
   "metadata": {
    "colab": {},
    "colab_type": "code",
    "id": "mfzwf2BKjOAH"
   },
   "outputs": [
    {
     "name": "stdout",
     "output_type": "stream",
     "text": [
      "Array lengths: 4909 4909\n"
     ]
    }
   ],
   "source": [
    "import os\n",
    "import glob\n",
    "import shutil\n",
    "import numpy as np\n",
    "\n",
    "img_files = np.zeros((0), dtype=str)\n",
    "img_targets = []\n",
    "\n",
    "path_to_files = os.path.join(temp_sentences_path, '*')\n",
    "for file_path in glob.glob(path_to_files):\n",
    "    img_files = np.append(img_files, file_path)\n",
    "    file_name, _ = os.path.splitext(file_path.split(os.path.sep)[-1])\n",
    "    form_id = '-'.join(file_name.split('-')[0:2])\n",
    "    if form_id in form_writer:\n",
    "        img_targets.append(form_writer[form_id])\n",
    "\n",
    "# Convert img_targets to a NumPy array\n",
    "img_targets = np.array(img_targets)\n",
    "\n",
    "# Debugging Line 7: Validate Array Populations\n",
    "print(\"Array lengths:\", len(img_files), len(img_targets))\n"
   ]
  },
  {
   "cell_type": "markdown",
   "metadata": {
    "colab_type": "text",
    "id": "Jb6AwFvIjOAP"
   },
   "source": [
    "Visualize the form -> writer id arrays:"
   ]
  },
  {
   "cell_type": "code",
   "execution_count": 9,
   "metadata": {
    "colab": {
     "base_uri": "https://localhost:8080/",
     "height": 119
    },
    "colab_type": "code",
    "id": "KI9InV7sjOAQ",
    "outputId": "42ad7fa7-b577-480a-c626-6cf0fe8b33f5",
    "scrolled": true
   },
   "outputs": [
    {
     "name": "stdout",
     "output_type": "stream",
     "text": [
      "Checking path: ../data/temp_sentences\\*\n",
      "Found 4909 files.\n",
      "['../data/temp_sentences\\\\a01-000u-s00-00.png'\n",
      " '../data/temp_sentences\\\\a01-000u-s00-01.png'\n",
      " '../data/temp_sentences\\\\a01-000u-s00-02.png'\n",
      " '../data/temp_sentences\\\\a01-000u-s00-03.png'\n",
      " '../data/temp_sentences\\\\a01-000u-s01-00.png']\n",
      "['000' '000' '000' '000' '000']\n"
     ]
    }
   ],
   "source": [
    "print(f\"Checking path: {path_to_files}\")\n",
    "files_found = glob.glob(path_to_files)\n",
    "print(f\"Found {len(files_found)} files.\")\n",
    "\n",
    "print(img_files[0:5])\n",
    "print(img_targets[0:5])"
   ]
  },
  {
   "cell_type": "markdown",
   "metadata": {
    "colab_type": "text",
    "id": "WKiDRakVjOAS"
   },
   "source": [
    "Visualize dataset's images:"
   ]
  },
  {
   "cell_type": "code",
   "execution_count": 10,
   "metadata": {
    "colab": {
     "base_uri": "https://localhost:8080/",
     "height": 182
    },
    "colab_type": "code",
    "id": "J1m2JtZyjOAT",
    "outputId": "65742ceb-8bbb-489a-846e-c07deaea435d",
    "scrolled": true
   },
   "outputs": [
    {
     "data": {
      "image/png": "[encoded data removed]",
      "text/plain": [
       "<Figure size 1000x1000 with 1 Axes>"
      ]
     },
     "metadata": {},
     "output_type": "display_data"
    },
    {
     "data": {
      "image/png": "[encoded data removed]",
      "text/plain": [
       "<Figure size 1000x1000 with 1 Axes>"
      ]
     },
     "metadata": {},
     "output_type": "display_data"
    }
   ],
   "source": [
    "import matplotlib.pyplot as plt\n",
    "import matplotlib.image as mpimg\n",
    "%matplotlib inline\n",
    "\n",
    "for file_name in img_files[:2]:\n",
    "    img = mpimg.imread(file_name)\n",
    "    plt.figure(figsize = (10,10))\n",
    "    plt.imshow(img, cmap ='gray')"
   ]
  },
  {
   "cell_type": "markdown",
   "metadata": {
    "colab_type": "text",
    "id": "5yYh5_3vjOAV"
   },
   "source": [
    "Encode writers with a value between 0 and ``n_classes-1``:"
   ]
  },
  {
   "cell_type": "code",
   "execution_count": 11,
   "metadata": {
    "colab": {
     "base_uri": "https://localhost:8080/",
     "height": 51
    },
    "colab_type": "code",
    "id": "y9A4WbqPjOAV",
    "outputId": "d1f8fcc5-8127-4231-b7cc-690c10dea186"
   },
   "outputs": [
    {
     "name": "stdout",
     "output_type": "stream",
     "text": [
      "Writer ID        :  ['000' '000']\n",
      "Encoded writer ID:  [0 0]\n"
     ]
    }
   ],
   "source": [
    "from sklearn.preprocessing import LabelEncoder\n",
    "\n",
    "encoder = LabelEncoder()\n",
    "encoded_img_targets = encoder.fit_transform(img_targets)\n",
    "\n",
    "print(\"Writer ID        : \", img_targets[:2])\n",
    "print(\"Encoded writer ID: \", encoded_img_targets[:2])"
   ]
  },
  {
   "cell_type": "markdown",
   "metadata": {
    "colab_type": "text",
    "id": "FPMqJtNnjOAZ"
   },
   "source": [
    "Split dataset into train, validation, and tests sets:"
   ]
  },
  {
   "cell_type": "code",
   "execution_count": 12,
   "metadata": {
    "colab": {
     "base_uri": "https://localhost:8080/",
     "height": 51
    },
    "colab_type": "code",
    "id": "SqFgVvjEjOAZ",
    "outputId": "5d069de7-a41a-4180-8106-42d213f4cd69",
    "scrolled": true
   },
   "outputs": [
    {
     "name": "stdout",
     "output_type": "stream",
     "text": [
      "(3141,) (786,) (982,)\n",
      "(3141,) (786,) (982,)\n"
     ]
    }
   ],
   "source": [
    "from sklearn.model_selection import train_test_split\n",
    "\n",
    "# Split dataset into training and test sets\n",
    "X_train, X_test, y_train, y_test = train_test_split(img_files, encoded_img_targets, test_size=0.2, shuffle = True)\n",
    "\n",
    "# Further split training set into training and validation sets\n",
    "X_train, X_val, y_train, y_val = train_test_split(X_train, y_train, test_size=0.2, shuffle = True)\n",
    "\n",
    "print(X_train.shape, X_val.shape, X_test.shape)\n",
    "print(y_train.shape, y_val.shape, y_test.shape)"
   ]
  },
  {
   "cell_type": "markdown",
   "metadata": {
    "colab_type": "text",
    "id": "S5-nRNWFjOAc"
   },
   "source": [
    "Define a couple of constants that will be used throughout the model:"
   ]
  },
  {
   "cell_type": "code",
   "execution_count": 13,
   "metadata": {
    "colab": {},
    "colab_type": "code",
    "id": "7UXwDegTjOAd"
   },
   "outputs": [],
   "source": [
    "CROP_SIZE = 113\n",
    "NUM_LABELS = 50\n",
    "BATCH_SIZE = 16"
   ]
  },
  {
   "cell_type": "markdown",
   "metadata": {},
   "source": [
    "As suggested in the paper, the input to the model are not unique sentences but rather random patches cropped from each sentence. The ``get_augmented_sample`` method is in charge of doing so by resizing each sentence's height to ``113`` pixels, and its width such that original aspect ratio is maintained. Finally, from the resized image, patches of ``113x113`` are randomly cropped."
   ]
  },
  {
   "cell_type": "code",
   "execution_count": 14,
   "metadata": {
    "colab": {},
    "colab_type": "code",
    "id": "ckp7A0ZbjOAi"
   },
   "outputs": [],
   "source": [
    "from sklearn.utils import shuffle\n",
    "from PIL import Image\n",
    "import random\n",
    "\n",
    "def get_augmented_sample(sample, label, sample_ratio):\n",
    "    # Get current image details\n",
    "    img = Image.open(sample)\n",
    "    img_width = img.size[0]\n",
    "    img_height = img.size[1]\n",
    "\n",
    "    # Compute resize dimensions such that aspect ratio is maintained\n",
    "    height_fac = CROP_SIZE / img_height\n",
    "    size = (int(img_width * height_fac), CROP_SIZE)\n",
    "\n",
    "    # Resize image \n",
    "    new_img = img.resize(size, Image.LANCZOS)\n",
    "    new_img_width = new_img.size[0]\n",
    "    new_img_height = new_img.size[1]\n",
    "\n",
    "    # Generate a random number of crops of size 113x113 from the resized image\n",
    "    x_coord = list(range(0, new_img_width - CROP_SIZE))\n",
    "    num_crops = int(len(x_coord) * sample_ratio)\n",
    "    random_x_coord = random.sample(x_coord, num_crops)\n",
    "    \n",
    "    # Create augmented images (cropped forms) and map them to a label (writer)\n",
    "    images = []\n",
    "    labels = []\n",
    "    for x in random_x_coord:\n",
    "        img_crop = new_img.crop((x, 0, x + CROP_SIZE, CROP_SIZE))\n",
    "        # Transform image to an array of numbers\n",
    "        images.append(np.asarray(img_crop))\n",
    "        labels.append(label)\n",
    "\n",
    "    return (images, labels)"
   ]
  },
  {
   "cell_type": "markdown",
   "metadata": {},
   "source": [
    "Let's visualize what the ``get_augmented_sample`` method does by augmenting one sample from the training set. Let's first take a look at how the original image looks like:"
   ]
  },
  {
   "cell_type": "code",
   "execution_count": 15,
   "metadata": {},
   "outputs": [
    {
     "name": "stdout",
     "output_type": "stream",
     "text": [
      "Label:  42\n"
     ]
    },
    {
     "data": {
      "image/png": "[encoded data removed]",
      "text/plain": [
       "<Figure size 1000x1000 with 1 Axes>"
      ]
     },
     "metadata": {},
     "output_type": "display_data"
    }
   ],
   "source": [
    "sample, label = X_train[0], y_train[0]\n",
    "img = mpimg.imread(sample)\n",
    "plt.figure(figsize = (10,10))\n",
    "plt.imshow(img, cmap ='gray')\n",
    "print(\"Label: \", label)"
   ]
  },
  {
   "cell_type": "markdown",
   "metadata": {},
   "source": [
    "A now, let's augment it and see the result:"
   ]
  },
  {
   "cell_type": "code",
   "execution_count": 16,
   "metadata": {},
   "outputs": [],
   "source": [
    "images, labels = get_augmented_sample(sample, label, 0.1)"
   ]
  },
  {
   "cell_type": "markdown",
   "metadata": {},
   "source": [
    "The ``labels`` returned by the ``get_augmented_sample`` is simply the label of the original image for each cropped patch:"
   ]
  },
  {
   "cell_type": "code",
   "execution_count": 17,
   "metadata": {},
   "outputs": [
    {
     "name": "stdout",
     "output_type": "stream",
     "text": [
      "[42, 42, 42, 42, 42, 42, 42, 42, 42, 42, 42, 42, 42, 42, 42, 42, 42, 42, 42, 42, 42, 42, 42, 42, 42, 42, 42, 42, 42, 42, 42, 42, 42, 42, 42, 42, 42, 42, 42, 42, 42, 42, 42, 42, 42, 42, 42, 42, 42, 42, 42, 42, 42, 42, 42, 42, 42, 42, 42, 42, 42, 42, 42, 42, 42, 42, 42, 42, 42, 42, 42, 42, 42, 42, 42, 42, 42, 42, 42, 42, 42, 42, 42, 42, 42, 42, 42, 42, 42, 42, 42, 42, 42, 42, 42, 42, 42, 42, 42, 42, 42, 42, 42, 42, 42, 42, 42, 42, 42, 42, 42, 42, 42, 42, 42, 42, 42, 42, 42, 42, 42, 42, 42, 42, 42, 42, 42, 42, 42, 42, 42, 42, 42, 42, 42, 42, 42, 42, 42, 42, 42, 42, 42, 42, 42, 42, 42, 42, 42, 42, 42, 42, 42, 42, 42, 42, 42, 42, 42, 42, 42, 42, 42, 42, 42, 42, 42, 42, 42, 42, 42, 42, 42, 42, 42, 42, 42, 42, 42, 42, 42, 42, 42, 42, 42, 42, 42, 42, 42, 42, 42, 42, 42, 42, 42, 42, 42, 42, 42, 42, 42, 42, 42, 42, 42, 42, 42, 42, 42, 42, 42, 42]\n",
      "Num of labels:  212\n"
     ]
    }
   ],
   "source": [
    "print(labels)\n",
    "print(\"Num of labels: \", len(labels))"
   ]
  },
  {
   "cell_type": "markdown",
   "metadata": {},
   "source": [
    "And the ``images`` returned by it are the random patches created from the original image (only two samples shown for simplicity):"
   ]
  },
  {
   "cell_type": "code",
   "execution_count": 18,
   "metadata": {},
   "outputs": [
    {
     "name": "stdout",
     "output_type": "stream",
     "text": [
      "212\n"
     ]
    },
    {
     "data": {
      "text/plain": [
       "<matplotlib.image.AxesImage at 0x19a58cbd820>"
      ]
     },
     "execution_count": 18,
     "metadata": {},
     "output_type": "execute_result"
    },
    {
     "data": {
      "image/png": "[encoded data removed]",
      "text/plain": [
       "<Figure size 640x480 with 1 Axes>"
      ]
     },
     "metadata": {},
     "output_type": "display_data"
    }
   ],
   "source": [
    "print(len(images))\n",
    "plt.imshow(images[0], cmap ='gray')"
   ]
  },
  {
   "cell_type": "code",
   "execution_count": 19,
   "metadata": {},
   "outputs": [
    {
     "data": {
      "text/plain": [
       "<matplotlib.image.AxesImage at 0x19a58a51040>"
      ]
     },
     "execution_count": 19,
     "metadata": {},
     "output_type": "execute_result"
    },
    {
     "data": {
      "image/png": "[encoded data removed]",
      "text/plain": [
       "<Figure size 640x480 with 1 Axes>"
      ]
     },
     "metadata": {},
     "output_type": "display_data"
    }
   ],
   "source": [
    "plt.imshow(images[1], cmap ='gray')"
   ]
  },
  {
   "cell_type": "markdown",
   "metadata": {},
   "source": [
    "The model uses a generator in order to be able to call ``get_augmented_sample`` when training the model:"
   ]
  },
  {
   "cell_type": "code",
   "execution_count": 20,
   "metadata": {
    "colab": {
     "base_uri": "https://localhost:8080/",
     "height": 34
    },
    "colab_type": "code",
    "id": "QpwonMROjOAm",
    "outputId": "66054b7c-046c-447d-c284-90ead6a2d4d0",
    "scrolled": true
   },
   "outputs": [],
   "source": [
    "import operator\n",
    "from functools import reduce\n",
    "from keras.utils import to_categorical\n",
    "\n",
    "def generate_data(samples, labels, batch_size, sample_ratio):\n",
    "    while 1: \n",
    "        for offset in range(0, len(samples), batch_size):\n",
    "            batch_samples = samples[offset:(offset + batch_size)]\n",
    "            batch_labels = labels[offset:(offset + batch_size)]\n",
    "            \n",
    "            # Augment each sample in batch\n",
    "            augmented_batch_samples = []\n",
    "            augmented_batch_labels = []\n",
    "            for i in range(len(batch_samples)):\n",
    "                sample = batch_samples[i]\n",
    "                label = batch_labels[i]\n",
    "                augmented_samples, augmented_labels = get_augmented_sample(sample, label, sample_ratio)\n",
    "                augmented_batch_samples.append(augmented_samples)\n",
    "                augmented_batch_labels.append(augmented_labels)\n",
    "\n",
    "            # Flatten out samples and labels\n",
    "            augmented_batch_samples = reduce(operator.add, augmented_batch_samples)\n",
    "            augmented_batch_labels = reduce(operator.add, augmented_batch_labels)\n",
    "            \n",
    "            # Reshape input format\n",
    "            X_train = np.array(augmented_batch_samples)\n",
    "            X_train = X_train.reshape(X_train.shape[0], CROP_SIZE, CROP_SIZE, 1)\n",
    "\n",
    "            # Transform input to float and normalize\n",
    "            X_train = X_train.astype('float32')\n",
    "            X_train /= 255\n",
    "\n",
    "            # Encode y\n",
    "            y_train = np.array(augmented_batch_labels)\n",
    "            y_train = to_categorical(y_train, NUM_LABELS)\n",
    "\n",
    "            yield X_train, y_train"
   ]
  },
  {
   "cell_type": "markdown",
   "metadata": {
    "colab_type": "text",
    "id": "xeHRbGh_jOAo"
   },
   "source": [
    "Create training, validation, and test generators:"
   ]
  },
  {
   "cell_type": "code",
   "execution_count": 21,
   "metadata": {
    "colab": {},
    "colab_type": "code",
    "id": "l9dr2pogjOAp"
   },
   "outputs": [],
   "source": [
    "train_generator = generate_data(X_train, y_train, BATCH_SIZE, 0.3)\n",
    "validation_generator = generate_data(X_val, y_val, BATCH_SIZE, 0.3)\n",
    "test_generator = generate_data(X_test, y_test, BATCH_SIZE, 0.1)"
   ]
  },
  {
   "cell_type": "code",
   "execution_count": 22,
   "metadata": {
    "colab": {
     "base_uri": "https://localhost:8080/",
     "height": 34
    },
    "colab_type": "code",
    "id": "KeHK6NkTjOAr",
    "outputId": "cccba7d3-41fe-4924-8259-57d209c216d9"
   },
   "outputs": [],
   "source": [
    "import tensorflow as tf\n",
    "gpus = tf.config.experimental.list_physical_devices('GPU')\n",
    "if gpus:\n",
    "    try:\n",
    "        for gpu in gpus:\n",
    "            tf.config.experimental.set_memory_growth(gpu, True)\n",
    "    except RuntimeError as e:\n",
    "        print(e)"
   ]
  },
  {
   "cell_type": "code",
   "execution_count": 23,
   "metadata": {
    "colab": {},
    "colab_type": "code",
    "id": "Fvu-0oV4jOAu"
   },
   "outputs": [],
   "source": [
    "def resize_image(img):\n",
    "    size = round(CROP_SIZE/2)\n",
    "    return tf.image.resize(img, [size, size])"
   ]
  },
  {
   "cell_type": "markdown",
   "metadata": {},
   "source": [
    "The model used is exactly the same as the one in the \"[handwriting_recognition](https://github.com/priya-dwivedi/Deep-Learning/tree/master/handwriting_recognition)\" notebook by [Priyanka Dwivedi](https://github.com/priya-dwivedi):"
   ]
  },
  {
   "cell_type": "code",
   "execution_count": 24,
   "metadata": {
    "colab": {
     "base_uri": "https://localhost:8080/",
     "height": 867
    },
    "colab_type": "code",
    "id": "mR01wBGijOAx",
    "outputId": "b8f4c4d1-6599-4569-d08e-2d48a060f47a"
   },
   "outputs": [
    {
     "name": "stdout",
     "output_type": "stream",
     "text": [
      "Model: \"sequential\"\n",
      "_________________________________________________________________\n",
      " Layer (type)                Output Shape              Param #   \n",
      "=================================================================\n",
      " zero_padding2d (ZeroPadding  (None, 115, 115, 1)      0         \n",
      " 2D)                                                             \n",
      "                                                                 \n",
      " lambda (Lambda)             (None, 56, 56, 1)         0         \n",
      "                                                                 \n",
      " conv1 (Conv2D)              (None, 28, 28, 32)        832       \n",
      "                                                                 \n",
      " activation (Activation)     (None, 28, 28, 32)        0         \n",
      "                                                                 \n",
      " pool1 (MaxPooling2D)        (None, 14, 14, 32)        0         \n",
      "                                                                 \n",
      " conv2 (Conv2D)              (None, 14, 14, 64)        18496     \n",
      "                                                                 \n",
      " activation_1 (Activation)   (None, 14, 14, 64)        0         \n",
      "                                                                 \n",
      " pool2 (MaxPooling2D)        (None, 7, 7, 64)          0         \n",
      "                                                                 \n",
      " conv3 (Conv2D)              (None, 7, 7, 128)         73856     \n",
      "                                                                 \n",
      " activation_2 (Activation)   (None, 7, 7, 128)         0         \n",
      "                                                                 \n",
      " pool3 (MaxPooling2D)        (None, 3, 3, 128)         0         \n",
      "                                                                 \n",
      " flatten (Flatten)           (None, 1152)              0         \n",
      "                                                                 \n",
      " dropout (Dropout)           (None, 1152)              0         \n",
      "                                                                 \n",
      " dense1 (Dense)              (None, 512)               590336    \n",
      "                                                                 \n",
      " activation_3 (Activation)   (None, 512)               0         \n",
      "                                                                 \n",
      " dropout_1 (Dropout)         (None, 512)               0         \n",
      "                                                                 \n",
      " dense2 (Dense)              (None, 256)               131328    \n",
      "                                                                 \n",
      " activation_4 (Activation)   (None, 256)               0         \n",
      "                                                                 \n",
      " dropout_2 (Dropout)         (None, 256)               0         \n",
      "                                                                 \n",
      " output (Dense)              (None, 50)                12850     \n",
      "                                                                 \n",
      " activation_5 (Activation)   (None, 50)                0         \n",
      "                                                                 \n",
      "=================================================================\n",
      "Total params: 827,698\n",
      "Trainable params: 827,698\n",
      "Non-trainable params: 0\n",
      "_________________________________________________________________\n",
      "None\n"
     ]
    }
   ],
   "source": [
    "from keras.models import Sequential\n",
    "from keras.layers import Dense, Dropout, Flatten, Lambda, Activation\n",
    "from keras.layers.convolutional import Convolution2D, ZeroPadding2D, MaxPooling2D\n",
    "from keras.optimizers import Adam\n",
    "from keras import metrics\n",
    "\n",
    "model = Sequential()\n",
    "\n",
    "# Define network input shape\n",
    "model.add(ZeroPadding2D((1, 1), input_shape=(CROP_SIZE, CROP_SIZE, 1)))\n",
    "# Resize images to allow for easy computation\n",
    "model.add(Lambda(resize_image))\n",
    "\n",
    "# CNN model - Building the model suggested in paper\n",
    "model.add(Convolution2D(filters= 32, kernel_size =(5,5), strides= (2, 2), padding='same', name='conv1'))\n",
    "model.add(Activation('relu'))\n",
    "model.add(MaxPooling2D(pool_size=(2, 2), strides=(2, 2), name='pool1'))\n",
    "\n",
    "model.add(Convolution2D(filters= 64, kernel_size =(3, 3), strides= (1, 1), padding='same', name='conv2'))\n",
    "model.add(Activation('relu'))\n",
    "model.add(MaxPooling2D(pool_size=(2, 2), strides=(2, 2), name='pool2'))\n",
    "\n",
    "model.add(Convolution2D(filters= 128, kernel_size =(3, 3), strides= (1, 1), padding='same', name='conv3'))\n",
    "model.add(Activation('relu'))\n",
    "model.add(MaxPooling2D(pool_size=(2, 2), strides=(2, 2), name='pool3'))\n",
    "\n",
    "\n",
    "model.add(Flatten())\n",
    "model.add(Dropout(0.5))\n",
    "\n",
    "model.add(Dense(512, name='dense1'))\n",
    "model.add(Activation('relu'))\n",
    "model.add(Dropout(0.5))\n",
    "\n",
    "model.add(Dense(256, name='dense2'))\n",
    "model.add(Activation('relu'))\n",
    "model.add(Dropout(0.5))\n",
    "\n",
    "model.add(Dense(NUM_LABELS, name='output'))\n",
    "model.add(Activation('softmax'))\n",
    "\n",
    "model.compile(loss='categorical_crossentropy', optimizer=Adam(), metrics=['acc'])\n",
    "\n",
    "print(model.summary())"
   ]
  },
  {
   "cell_type": "markdown",
   "metadata": {},
   "source": [
    "Next, the model is trained for 20 epochs and the models obtained after each epoch are saved to the ``./model_checkpoints`` directory"
   ]
  },
  {
   "cell_type": "code",
   "execution_count": 25,
   "metadata": {
    "colab": {
     "base_uri": "https://localhost:8080/",
     "height": 1397
    },
    "colab_type": "code",
    "id": "AWcVj_1WjOAy",
    "outputId": "5fb3ea7c-b304-40f3-ad21-ab2b06aad5a1",
    "scrolled": true
   },
   "outputs": [
    {
     "name": "stdout",
     "output_type": "stream",
     "text": [
      "Epoch 1/20\n",
      "196/196 [==============================] - ETA: 0s - loss: 3.5636 - acc: 0.2091\n",
      "Epoch 1: saving model to ./model_checkpoints\\check_01_3.2259.hdf5\n",
      "196/196 [==============================] - 306s 2s/step - loss: 3.5636 - acc: 0.2091 - val_loss: 3.2259 - val_acc: 0.2204\n",
      "Epoch 2/20\n",
      "196/196 [==============================] - ETA: 0s - loss: 2.9660 - acc: 0.2447\n",
      "Epoch 2: saving model to ./model_checkpoints\\check_02_2.5765.hdf5\n",
      "196/196 [==============================] - 338s 2s/step - loss: 2.9660 - acc: 0.2447 - val_loss: 2.5765 - val_acc: 0.2938\n",
      "Epoch 3/20\n",
      "196/196 [==============================] - ETA: 0s - loss: 2.4971 - acc: 0.3057\n",
      "Epoch 3: saving model to ./model_checkpoints\\check_03_2.1167.hdf5\n",
      "196/196 [==============================] - 334s 2s/step - loss: 2.4971 - acc: 0.3057 - val_loss: 2.1167 - val_acc: 0.3830\n",
      "Epoch 4/20\n",
      "196/196 [==============================] - ETA: 0s - loss: 2.1790 - acc: 0.3727\n",
      "Epoch 4: saving model to ./model_checkpoints\\check_04_1.8242.hdf5\n",
      "196/196 [==============================] - 329s 2s/step - loss: 2.1790 - acc: 0.3727 - val_loss: 1.8242 - val_acc: 0.4579\n",
      "Epoch 5/20\n",
      "196/196 [==============================] - ETA: 0s - loss: 1.9275 - acc: 0.4315\n",
      "Epoch 5: saving model to ./model_checkpoints\\check_05_1.5391.hdf5\n",
      "196/196 [==============================] - 327s 2s/step - loss: 1.9275 - acc: 0.4315 - val_loss: 1.5391 - val_acc: 0.5374\n",
      "Epoch 6/20\n",
      "196/196 [==============================] - ETA: 0s - loss: 1.6934 - acc: 0.4869\n",
      "Epoch 6: saving model to ./model_checkpoints\\check_06_1.3599.hdf5\n",
      "196/196 [==============================] - 330s 2s/step - loss: 1.6934 - acc: 0.4869 - val_loss: 1.3599 - val_acc: 0.5786\n",
      "Epoch 7/20\n",
      "196/196 [==============================] - ETA: 0s - loss: 1.5385 - acc: 0.5264\n",
      "Epoch 7: saving model to ./model_checkpoints\\check_07_1.2698.hdf5\n",
      "196/196 [==============================] - 331s 2s/step - loss: 1.5385 - acc: 0.5264 - val_loss: 1.2698 - val_acc: 0.6026\n",
      "Epoch 8/20\n",
      "196/196 [==============================] - ETA: 0s - loss: 1.4244 - acc: 0.5587\n",
      "Epoch 8: saving model to ./model_checkpoints\\check_08_1.1861.hdf5\n",
      "196/196 [==============================] - 328s 2s/step - loss: 1.4244 - acc: 0.5587 - val_loss: 1.1861 - val_acc: 0.6279\n",
      "Epoch 9/20\n",
      "196/196 [==============================] - ETA: 0s - loss: 1.3332 - acc: 0.5851\n",
      "Epoch 9: saving model to ./model_checkpoints\\check_09_1.1167.hdf5\n",
      "196/196 [==============================] - 335s 2s/step - loss: 1.3332 - acc: 0.5851 - val_loss: 1.1167 - val_acc: 0.6476\n",
      "Epoch 10/20\n",
      "196/196 [==============================] - ETA: 0s - loss: 1.2592 - acc: 0.6077\n",
      "Epoch 10: saving model to ./model_checkpoints\\check_10_1.0460.hdf5\n",
      "196/196 [==============================] - 328s 2s/step - loss: 1.2592 - acc: 0.6077 - val_loss: 1.0460 - val_acc: 0.6699\n",
      "Epoch 11/20\n",
      "196/196 [==============================] - ETA: 0s - loss: 1.1878 - acc: 0.6309\n",
      "Epoch 11: saving model to ./model_checkpoints\\check_11_0.9748.hdf5\n",
      "196/196 [==============================] - 325s 2s/step - loss: 1.1878 - acc: 0.6309 - val_loss: 0.9748 - val_acc: 0.6929\n",
      "Epoch 12/20\n",
      "196/196 [==============================] - ETA: 0s - loss: 1.1357 - acc: 0.6477\n",
      "Epoch 12: saving model to ./model_checkpoints\\check_12_0.9626.hdf5\n",
      "196/196 [==============================] - 326s 2s/step - loss: 1.1357 - acc: 0.6477 - val_loss: 0.9626 - val_acc: 0.6985\n",
      "Epoch 13/20\n",
      "196/196 [==============================] - ETA: 0s - loss: 1.0902 - acc: 0.6631\n",
      "Epoch 13: saving model to ./model_checkpoints\\check_13_0.9022.hdf5\n",
      "196/196 [==============================] - 322s 2s/step - loss: 1.0902 - acc: 0.6631 - val_loss: 0.9022 - val_acc: 0.7187\n",
      "Epoch 14/20\n",
      "196/196 [==============================] - ETA: 0s - loss: 1.0464 - acc: 0.6772\n",
      "Epoch 14: saving model to ./model_checkpoints\\check_14_0.8537.hdf5\n",
      "196/196 [==============================] - 323s 2s/step - loss: 1.0464 - acc: 0.6772 - val_loss: 0.8537 - val_acc: 0.7344\n",
      "Epoch 15/20\n",
      "196/196 [==============================] - ETA: 0s - loss: 1.0072 - acc: 0.6896\n",
      "Epoch 15: saving model to ./model_checkpoints\\check_15_0.8204.hdf5\n",
      "196/196 [==============================] - 323s 2s/step - loss: 1.0072 - acc: 0.6896 - val_loss: 0.8204 - val_acc: 0.7457\n",
      "Epoch 16/20\n",
      "196/196 [==============================] - ETA: 0s - loss: 0.9784 - acc: 0.6984\n",
      "Epoch 16: saving model to ./model_checkpoints\\check_16_0.8488.hdf5\n",
      "196/196 [==============================] - 321s 2s/step - loss: 0.9784 - acc: 0.6984 - val_loss: 0.8488 - val_acc: 0.7379\n",
      "Epoch 17/20\n",
      "196/196 [==============================] - ETA: 0s - loss: 0.9473 - acc: 0.7089\n",
      "Epoch 17: saving model to ./model_checkpoints\\check_17_0.8568.hdf5\n",
      "196/196 [==============================] - 319s 2s/step - loss: 0.9473 - acc: 0.7089 - val_loss: 0.8568 - val_acc: 0.7322\n",
      "Epoch 18/20\n",
      "196/196 [==============================] - ETA: 0s - loss: 0.9226 - acc: 0.7167\n",
      "Epoch 18: saving model to ./model_checkpoints\\check_18_0.7583.hdf5\n",
      "196/196 [==============================] - 322s 2s/step - loss: 0.9226 - acc: 0.7167 - val_loss: 0.7583 - val_acc: 0.7624\n",
      "Epoch 19/20\n",
      "196/196 [==============================] - ETA: 0s - loss: 0.8898 - acc: 0.7268\n",
      "Epoch 19: saving model to ./model_checkpoints\\check_19_0.7173.hdf5\n",
      "196/196 [==============================] - 325s 2s/step - loss: 0.8898 - acc: 0.7268 - val_loss: 0.7173 - val_acc: 0.7771\n",
      "Epoch 20/20\n",
      "196/196 [==============================] - ETA: 0s - loss: 0.8525 - acc: 0.7381\n",
      "Epoch 20: saving model to ./model_checkpoints\\check_20_0.7104.hdf5\n",
      "196/196 [==============================] - 321s 2s/step - loss: 0.8525 - acc: 0.7381 - val_loss: 0.7104 - val_acc: 0.7789\n"
     ]
    }
   ],
   "source": [
    "from keras.callbacks import ModelCheckpoint, EarlyStopping\n",
    "import os\n",
    "\n",
    "# Create directory to save checkpoints at\n",
    "model_checkpoints_path = \"./model_checkpoints\"\n",
    "if not os.path.exists(model_checkpoints_path):\n",
    "    os.makedirs(model_checkpoints_path)\n",
    "\n",
    "# Save model after every epoch using checkpoints\n",
    "create_checkpoint = ModelCheckpoint(\n",
    "    filepath=\"./model_checkpoints/check_{epoch:02d}_{val_loss:.4f}.hdf5\",\n",
    "    verbose=1,\n",
    "    save_best_only=False\n",
    ")\n",
    "\n",
    "# Early stopping to stop the training if the validation loss does not improve for 5 epochs\n",
    "early_stopping = EarlyStopping(\n",
    "    monitor='val_loss',\n",
    "    patience=5,\n",
    "    verbose=1,\n",
    "    restore_best_weights=True\n",
    ")\n",
    "\n",
    "# Fit model using generators\n",
    "history_object = model.fit(\n",
    "    train_generator,\n",
    "    steps_per_epoch=round(len(X_train) / BATCH_SIZE),\n",
    "    validation_data=validation_generator,\n",
    "    validation_steps=round(len(X_val) / BATCH_SIZE),\n",
    "    epochs=20,\n",
    "    verbose=1,\n",
    "    callbacks=[create_checkpoint, early_stopping]\n",
    ")"
   ]
  },
  {
   "cell_type": "markdown",
   "metadata": {},
   "source": [
    "Save weights"
   ]
  },
  {
   "cell_type": "code",
   "execution_count": 31,
   "metadata": {},
   "outputs": [],
   "source": [
    "# Save only the model's weights\n",
    "model.save_weights('my_model_weights.h5')"
   ]
  },
  {
   "cell_type": "markdown",
   "metadata": {},
   "source": [
    "Load a saved model weights and use them to predict labels in the test set:"
   ]
  },
  {
   "cell_type": "code",
   "execution_count": 36,
   "metadata": {},
   "outputs": [
    {
     "name": "stdout",
     "output_type": "stream",
     "text": [
      "61/61 [==============================] - 22s 363ms/step - loss: 0.9271 - acc: 0.7130\n",
      "Accuracy:  0.7130382061004639\n"
     ]
    }
   ],
   "source": [
    "model_weights_path = \"./my_model_weights.h5\"\n",
    "if model_weights_path:\n",
    "    model.load_weights(model_weights_path)\n",
    "    scores = model.evaluate(test_generator, steps=round(len(X_test)/BATCH_SIZE))\n",
    "    print(\"Accuracy: \", scores[1])\n",
    "else:\n",
    "    print(\"Set model weights file to load in the 'model_weights_path' variable\")"
   ]
  },
  {
   "cell_type": "markdown",
   "metadata": {},
   "source": [
    "Save Model"
   ]
  },
  {
   "cell_type": "code",
   "execution_count": 34,
   "metadata": {},
   "outputs": [],
   "source": [
    "model.save('my_model.h5')"
   ]
  },
  {
   "cell_type": "markdown",
   "metadata": {},
   "source": [
    "Evaluate Model"
   ]
  },
  {
   "cell_type": "code",
   "execution_count": 40,
   "metadata": {},
   "outputs": [
    {
     "name": "stdout",
     "output_type": "stream",
     "text": [
      "61/61 [==============================] - 21s 339ms/step - loss: 0.9297 - acc: 0.7133\n",
      "Accuracy:  0.71332186460495\n"
     ]
    }
   ],
   "source": [
    "from keras.models import load_model\n",
    "\n",
    "# Path to the saved entire model\n",
    "model_path = \"./my_model.h5\"\n",
    "\n",
    "if model_path:\n",
    "    # Load the entire saved model\n",
    "    model = load_model(model_path)\n",
    "    \n",
    "    # Evaluate the model using the test generator\n",
    "    scores = model.evaluate(test_generator, steps=round(len(X_test)/BATCH_SIZE))\n",
    "    \n",
    "    print(\"Accuracy: \", scores[1])\n",
    "else:\n",
    "    print(\"Set model file to load in the 'model_path' variable\")\n"
   ]
  },
  {
   "cell_type": "markdown",
   "metadata": {},
   "source": [
    "### Train the Autoencoder"
   ]
  },
  {
   "cell_type": "code",
   "execution_count": 45,
   "metadata": {
    "collapsed": true
   },
   "outputs": [
    {
     "name": "stdout",
     "output_type": "stream",
     "text": [
      "Epoch 1/50\n",
      "196/196 [==============================] - 14s 70ms/step - loss: 0.2652 - val_loss: 0.2503\n",
      "Epoch 2/50\n",
      "196/196 [==============================] - 13s 69ms/step - loss: 0.2452 - val_loss: 0.2412\n",
      "Epoch 3/50\n",
      "196/196 [==============================] - 13s 68ms/step - loss: 0.2399 - val_loss: 0.2388\n",
      "Epoch 4/50\n",
      "196/196 [==============================] - 13s 68ms/step - loss: 0.2377 - val_loss: 0.2372\n",
      "Epoch 5/50\n",
      "196/196 [==============================] - 13s 67ms/step - loss: 0.2370 - val_loss: 0.2378\n",
      "Epoch 6/50\n",
      "196/196 [==============================] - 13s 68ms/step - loss: 0.2366 - val_loss: 0.2365\n",
      "Epoch 7/50\n",
      "196/196 [==============================] - 14s 72ms/step - loss: 0.2362 - val_loss: 0.2367\n",
      "Epoch 8/50\n",
      "196/196 [==============================] - 14s 70ms/step - loss: 0.2359 - val_loss: 0.2364\n",
      "Epoch 9/50\n",
      "196/196 [==============================] - 14s 70ms/step - loss: 0.2353 - val_loss: 0.2354\n",
      "Epoch 10/50\n",
      "196/196 [==============================] - 13s 64ms/step - loss: 0.2346 - val_loss: 0.2351\n",
      "Epoch 11/50\n",
      "196/196 [==============================] - 13s 67ms/step - loss: 0.2339 - val_loss: 0.2343\n",
      "Epoch 12/50\n",
      "196/196 [==============================] - 13s 66ms/step - loss: 0.2333 - val_loss: 0.2336\n",
      "Epoch 13/50\n",
      "196/196 [==============================] - 14s 70ms/step - loss: 0.2329 - val_loss: 0.2333\n",
      "Epoch 14/50\n",
      "196/196 [==============================] - 14s 71ms/step - loss: 0.2325 - val_loss: 0.2333\n",
      "Epoch 15/50\n",
      "196/196 [==============================] - 13s 67ms/step - loss: 0.2325 - val_loss: 0.2336\n",
      "Epoch 16/50\n",
      "196/196 [==============================] - 13s 68ms/step - loss: 0.2323 - val_loss: 0.2323\n",
      "Epoch 17/50\n",
      "196/196 [==============================] - 13s 66ms/step - loss: 0.2319 - val_loss: 0.2328\n",
      "Epoch 18/50\n",
      "196/196 [==============================] - 13s 68ms/step - loss: 0.2315 - val_loss: 0.2323\n",
      "Epoch 19/50\n",
      "196/196 [==============================] - 13s 67ms/step - loss: 0.2312 - val_loss: 0.2318\n",
      "Epoch 20/50\n",
      "196/196 [==============================] - 13s 68ms/step - loss: 0.2312 - val_loss: 0.2317\n",
      "Epoch 21/50\n",
      "196/196 [==============================] - 13s 67ms/step - loss: 0.2309 - val_loss: 0.2318\n",
      "Epoch 22/50\n",
      "196/196 [==============================] - 14s 69ms/step - loss: 0.2308 - val_loss: 0.2321\n",
      "Epoch 23/50\n",
      "196/196 [==============================] - 13s 68ms/step - loss: 0.2306 - val_loss: 0.2316\n",
      "Epoch 24/50\n",
      "196/196 [==============================] - 14s 72ms/step - loss: 0.2306 - val_loss: 0.2320\n",
      "Epoch 25/50\n",
      "196/196 [==============================] - 14s 73ms/step - loss: 0.2308 - val_loss: 0.2323\n",
      "Epoch 26/50\n",
      "196/196 [==============================] - 14s 72ms/step - loss: 0.2307 - val_loss: 0.2315\n",
      "Epoch 27/50\n",
      "196/196 [==============================] - 14s 70ms/step - loss: 0.2307 - val_loss: 0.2312\n",
      "Epoch 28/50\n",
      "196/196 [==============================] - 13s 67ms/step - loss: 0.2303 - val_loss: 0.2312\n",
      "Epoch 29/50\n",
      "196/196 [==============================] - 13s 68ms/step - loss: 0.2303 - val_loss: 0.2311\n",
      "Epoch 30/50\n",
      "196/196 [==============================] - 14s 69ms/step - loss: 0.2300 - val_loss: 0.2311\n",
      "Epoch 31/50\n",
      "196/196 [==============================] - 15s 76ms/step - loss: 0.2296 - val_loss: 0.2311\n",
      "Epoch 32/50\n",
      "196/196 [==============================] - 14s 72ms/step - loss: 0.2293 - val_loss: 0.2309\n",
      "Epoch 33/50\n",
      "196/196 [==============================] - 14s 70ms/step - loss: 0.2291 - val_loss: 0.2310\n",
      "Epoch 34/50\n",
      "196/196 [==============================] - 14s 70ms/step - loss: 0.2292 - val_loss: 0.2306\n",
      "Epoch 35/50\n",
      "196/196 [==============================] - 14s 71ms/step - loss: 0.2291 - val_loss: 0.2306\n",
      "Epoch 36/50\n",
      "196/196 [==============================] - 13s 68ms/step - loss: 0.2289 - val_loss: 0.2308\n",
      "Epoch 37/50\n",
      "196/196 [==============================] - 13s 66ms/step - loss: 0.2289 - val_loss: 0.2309\n",
      "Epoch 38/50\n",
      "196/196 [==============================] - 13s 65ms/step - loss: 0.2290 - val_loss: 0.2311\n",
      "Epoch 39/50\n",
      "196/196 [==============================] - 14s 70ms/step - loss: 0.2290 - val_loss: 0.2309\n",
      "Epoch 40/50\n",
      "196/196 [==============================] - 13s 68ms/step - loss: 0.2289 - val_loss: 0.2317\n",
      "Epoch 41/50\n",
      "196/196 [==============================] - 13s 69ms/step - loss: 0.2288 - val_loss: 0.2314\n",
      "Epoch 42/50\n",
      "196/196 [==============================] - 13s 65ms/step - loss: 0.2292 - val_loss: 0.2309\n",
      "Epoch 43/50\n",
      "196/196 [==============================] - 14s 70ms/step - loss: 0.2296 - val_loss: 0.2312\n",
      "Epoch 44/50\n",
      "196/196 [==============================] - 14s 69ms/step - loss: 0.2297 - val_loss: 0.2312\n",
      "Epoch 45/50\n",
      "196/196 [==============================] - 13s 69ms/step - loss: 0.2298 - val_loss: 0.2316\n",
      "Epoch 46/50\n",
      "196/196 [==============================] - 14s 70ms/step - loss: 0.2299 - val_loss: 0.2338\n",
      "Epoch 47/50\n",
      "196/196 [==============================] - 14s 71ms/step - loss: 0.2303 - val_loss: 0.2313\n",
      "Epoch 48/50\n",
      "196/196 [==============================] - 14s 69ms/step - loss: 0.2297 - val_loss: 0.2321\n",
      "Epoch 49/50\n",
      "196/196 [==============================] - 13s 64ms/step - loss: 0.2295 - val_loss: 0.2316\n",
      "Epoch 50/50\n",
      "196/196 [==============================] - 13s 65ms/step - loss: 0.2294 - val_loss: 0.2314\n"
     ]
    },
    {
     "data": {
      "text/plain": [
       "<keras.callbacks.History at 0x19ad0b66880>"
      ]
     },
     "execution_count": 45,
     "metadata": {},
     "output_type": "execute_result"
    }
   ],
   "source": [
    "def autoencoder_data_generator(samples, batch_size):\n",
    "    while 1: \n",
    "        for offset in range(0, len(samples), batch_size):\n",
    "            batch_samples = samples[offset:offset + batch_size]\n",
    "            \n",
    "            images = []\n",
    "            for sample in batch_samples:\n",
    "                img = Image.open(sample)\n",
    "                img = img.resize((113, 113))  # Resize to your input size\n",
    "                img_array = np.asarray(img)\n",
    "                images.append(img_array)\n",
    "            \n",
    "            X_train = np.array(images)\n",
    "            X_train = X_train.reshape(X_train.shape[0], 113, 113, 1)\n",
    "            X_train = X_train.astype('float32')\n",
    "            X_train /= 255\n",
    "            \n",
    "            yield X_train, X_train  # x and y are the same for an autoencoder\n",
    "\n",
    "# Create autoencoder data generators\n",
    "autoencoder_train_generator = autoencoder_data_generator(X_train, 16)\n",
    "autoencoder_val_generator = autoencoder_data_generator(X_val, 16)\n",
    "\n",
    "# Now you can use these in your autoencoder training:\n",
    "autoencoder.fit(autoencoder_train_generator, epochs=50, \n",
    "                steps_per_epoch=len(X_train) // 16,\n",
    "                validation_data=autoencoder_val_generator,\n",
    "                validation_steps=len(X_val) // 16)\n"
   ]
  },
  {
   "cell_type": "code",
   "execution_count": 47,
   "metadata": {
    "collapsed": true
   },
   "outputs": [
    {
     "name": "stdout",
     "output_type": "stream",
     "text": [
      "Epoch 1/50\n",
      "196/196 [==============================] - 14s 70ms/step - loss: 0.2668 - val_loss: 0.2528\n",
      "Epoch 2/50\n",
      "196/196 [==============================] - 14s 69ms/step - loss: 0.2491 - val_loss: 0.2478\n",
      "Epoch 3/50\n",
      "196/196 [==============================] - 13s 68ms/step - loss: 0.2425 - val_loss: 0.2401\n",
      "Epoch 4/50\n",
      "196/196 [==============================] - 13s 68ms/step - loss: 0.2385 - val_loss: 0.2375\n",
      "Epoch 5/50\n",
      "196/196 [==============================] - 14s 70ms/step - loss: 0.2371 - val_loss: 0.2370\n",
      "Epoch 6/50\n",
      "196/196 [==============================] - 14s 71ms/step - loss: 0.2365 - val_loss: 0.2370\n",
      "Epoch 7/50\n",
      "196/196 [==============================] - 14s 70ms/step - loss: 0.2365 - val_loss: 0.2368\n",
      "Epoch 8/50\n",
      "196/196 [==============================] - 14s 71ms/step - loss: 0.2362 - val_loss: 0.2368\n",
      "Epoch 9/50\n",
      "196/196 [==============================] - 14s 72ms/step - loss: 0.2359 - val_loss: 0.2364\n",
      "Epoch 10/50\n",
      "196/196 [==============================] - 14s 69ms/step - loss: 0.2356 - val_loss: 0.2360\n",
      "Epoch 11/50\n",
      "196/196 [==============================] - 14s 69ms/step - loss: 0.2352 - val_loss: 0.2356\n",
      "Epoch 12/50\n",
      "196/196 [==============================] - 15s 74ms/step - loss: 0.2347 - val_loss: 0.2356\n",
      "Epoch 13/50\n",
      "196/196 [==============================] - 15s 76ms/step - loss: 0.2340 - val_loss: 0.2344\n",
      "Epoch 14/50\n",
      "196/196 [==============================] - 15s 77ms/step - loss: 0.2334 - val_loss: 0.2340\n",
      "Epoch 15/50\n",
      "196/196 [==============================] - 14s 70ms/step - loss: 0.2333 - val_loss: 0.2339\n",
      "Epoch 16/50\n",
      "196/196 [==============================] - 14s 72ms/step - loss: 0.2329 - val_loss: 0.2334\n",
      "Epoch 17/50\n",
      "196/196 [==============================] - 14s 70ms/step - loss: 0.2326 - val_loss: 0.2331\n",
      "Epoch 18/50\n",
      "196/196 [==============================] - 13s 66ms/step - loss: 0.2325 - val_loss: 0.2331\n",
      "Epoch 19/50\n",
      "196/196 [==============================] - 13s 68ms/step - loss: 0.2325 - val_loss: 0.2335\n",
      "Epoch 20/50\n",
      "196/196 [==============================] - 15s 74ms/step - loss: 0.2331 - val_loss: 0.2335\n",
      "Epoch 21/50\n",
      "196/196 [==============================] - 14s 69ms/step - loss: 0.2328 - val_loss: 0.2328\n",
      "Epoch 22/50\n",
      "196/196 [==============================] - 14s 69ms/step - loss: 0.2329 - val_loss: 0.2327\n",
      "Epoch 23/50\n",
      "196/196 [==============================] - 13s 68ms/step - loss: 0.2326 - val_loss: 0.2327\n",
      "Epoch 24/50\n",
      "196/196 [==============================] - 13s 68ms/step - loss: 0.2324 - val_loss: 0.2329\n",
      "Epoch 25/50\n",
      "196/196 [==============================] - 14s 71ms/step - loss: 0.2322 - val_loss: 0.2330\n",
      "Epoch 26/50\n",
      "196/196 [==============================] - 13s 68ms/step - loss: 0.2320 - val_loss: 0.2329\n",
      "Epoch 27/50\n",
      "196/196 [==============================] - 14s 73ms/step - loss: 0.2321 - val_loss: 0.2326\n",
      "Epoch 28/50\n",
      "196/196 [==============================] - 13s 69ms/step - loss: 0.2319 - val_loss: 0.2327\n",
      "Epoch 29/50\n",
      "196/196 [==============================] - 14s 72ms/step - loss: 0.2318 - val_loss: 0.2326\n",
      "Epoch 30/50\n",
      "196/196 [==============================] - 14s 70ms/step - loss: 0.2314 - val_loss: 0.2325\n",
      "Epoch 31/50\n",
      "196/196 [==============================] - 14s 72ms/step - loss: 0.2314 - val_loss: 0.2325\n",
      "Epoch 32/50\n",
      "196/196 [==============================] - 13s 69ms/step - loss: 0.2313 - val_loss: 0.2325\n",
      "Epoch 33/50\n",
      "196/196 [==============================] - 13s 66ms/step - loss: 0.2312 - val_loss: 0.2324\n",
      "Epoch 34/50\n",
      "196/196 [==============================] - 14s 70ms/step - loss: 0.2311 - val_loss: 0.2327\n",
      "Epoch 35/50\n",
      "196/196 [==============================] - 14s 70ms/step - loss: 0.2310 - val_loss: 0.2328\n",
      "Epoch 36/50\n",
      "196/196 [==============================] - 14s 70ms/step - loss: 0.2310 - val_loss: 0.2331\n",
      "Epoch 37/50\n",
      "196/196 [==============================] - 14s 72ms/step - loss: 0.2309 - val_loss: 0.2325\n",
      "Epoch 38/50\n",
      "196/196 [==============================] - 14s 71ms/step - loss: 0.2309 - val_loss: 0.2329\n",
      "Epoch 39/50\n",
      "196/196 [==============================] - 13s 68ms/step - loss: 0.2310 - val_loss: 0.2330\n",
      "Epoch 40/50\n",
      "196/196 [==============================] - 14s 71ms/step - loss: 0.2308 - val_loss: 0.2325\n",
      "Epoch 41/50\n",
      "196/196 [==============================] - 14s 72ms/step - loss: 0.2310 - val_loss: 0.2326\n",
      "Epoch 42/50\n",
      "196/196 [==============================] - 14s 69ms/step - loss: 0.2310 - val_loss: 0.2324\n",
      "Epoch 43/50\n",
      "196/196 [==============================] - 14s 72ms/step - loss: 0.2319 - val_loss: 0.2327\n",
      "Epoch 44/50\n",
      "196/196 [==============================] - 14s 70ms/step - loss: 0.2319 - val_loss: 0.2332\n",
      "Epoch 45/50\n",
      "196/196 [==============================] - 13s 68ms/step - loss: 0.2315 - val_loss: 0.2328\n",
      "Epoch 46/50\n",
      "196/196 [==============================] - 13s 65ms/step - loss: 0.2316 - val_loss: 0.2329\n",
      "Epoch 47/50\n",
      "196/196 [==============================] - 14s 70ms/step - loss: 0.2318 - val_loss: 0.2327\n",
      "Epoch 48/50\n",
      "196/196 [==============================] - 13s 67ms/step - loss: 0.2316 - val_loss: 0.2328\n",
      "Epoch 49/50\n",
      "196/196 [==============================] - 14s 70ms/step - loss: 0.2314 - val_loss: 0.2330\n",
      "Epoch 50/50\n",
      "196/196 [==============================] - 14s 71ms/step - loss: 0.2311 - val_loss: 0.2327\n"
     ]
    },
    {
     "data": {
      "text/plain": [
       "<keras.callbacks.History at 0x19bb562be50>"
      ]
     },
     "execution_count": 47,
     "metadata": {},
     "output_type": "execute_result"
    }
   ],
   "source": [
    "from keras.layers import Input, Dense, Flatten, Reshape\n",
    "from keras.models import Model\n",
    "\n",
    "# Assuming each image has a shape of (113, 113, 1)\n",
    "input_shape = (113, 113, 1)\n",
    "encoding_dim = 64  # size of the encoded representations\n",
    "\n",
    "# Encoder\n",
    "input_img = Input(shape=input_shape)\n",
    "flattened = Flatten()(input_img)\n",
    "encoded = Dense(encoding_dim, activation='relu')(flattened)\n",
    "\n",
    "# Decoder\n",
    "decoded = Dense(np.prod(input_shape), activation='sigmoid')(encoded)\n",
    "decoded = Reshape(input_shape)(decoded)\n",
    "\n",
    "# Full autoencoder model\n",
    "autoencoder = Model(input_img, decoded)\n",
    "\n",
    "# Compile the autoencoder\n",
    "autoencoder.compile(optimizer='adam', loss='binary_crossentropy')\n",
    "\n",
    "# You may need to adjust your data generators to work with the autoencoder.\n",
    "# For now, I'm assuming you have suitable `autoencoder_train_generator` and `autoencoder_val_generator`.\n",
    "autoencoder.fit(autoencoder_train_generator, epochs=50, \n",
    "                steps_per_epoch=len(X_train) // 16,\n",
    "                validation_data=autoencoder_val_generator,\n",
    "                validation_steps=len(X_val) // 16)"
   ]
  },
  {
   "cell_type": "markdown",
   "metadata": {},
   "source": [
    "### Extract the Encoder"
   ]
  },
  {
   "cell_type": "code",
   "execution_count": 56,
   "metadata": {},
   "outputs": [],
   "source": [
    "# Encoder model for feature extraction\n",
    "encoder = Model(input_img, encoded)"
   ]
  },
  {
   "cell_type": "code",
   "execution_count": 60,
   "metadata": {},
   "outputs": [
    {
     "name": "stdout",
     "output_type": "stream",
     "text": [
      "2/2 [==============================] - 0s 12ms/step\n",
      "1/1 [==============================] - 0s 21ms/step\n",
      "1/1 [==============================] - 0s 51ms/step\n",
      "1/1 [==============================] - 0s 20ms/step\n",
      "1/1 [==============================] - 0s 55ms/step\n",
      "1/1 [==============================] - 0s 19ms/step\n",
      "1/1 [==============================] - 0s 50ms/step\n",
      "1/1 [==============================] - 0s 56ms/step\n",
      "1/1 [==============================] - 0s 20ms/step\n",
      "1/1 [==============================] - 0s 50ms/step\n",
      "1/1 [==============================] - 0s 50ms/step\n",
      "1/1 [==============================] - 0s 53ms/step\n",
      "1/1 [==============================] - 0s 18ms/step\n",
      "1/1 [==============================] - 0s 57ms/step\n",
      "1/1 [==============================] - 0s 50ms/step\n",
      "1/1 [==============================] - 0s 52ms/step\n",
      "1/1 [==============================] - 0s 51ms/step\n",
      "1/1 [==============================] - 0s 62ms/step\n",
      "1/1 [==============================] - 0s 51ms/step\n",
      "1/1 [==============================] - 0s 53ms/step\n",
      "1/1 [==============================] - 0s 18ms/step\n",
      "1/1 [==============================] - 0s 51ms/step\n",
      "1/1 [==============================] - 0s 18ms/step\n",
      "1/1 [==============================] - 0s 51ms/step\n",
      "1/1 [==============================] - 0s 18ms/step\n",
      "1/1 [==============================] - 0s 54ms/step\n",
      "1/1 [==============================] - 0s 20ms/step\n",
      "1/1 [==============================] - 0s 57ms/step\n",
      "1/1 [==============================] - 0s 27ms/step\n",
      "1/1 [==============================] - 0s 56ms/step\n",
      "1/1 [==============================] - 0s 31ms/step\n",
      "1/1 [==============================] - 0s 30ms/step\n",
      "1/1 [==============================] - 0s 43ms/step\n",
      "1/1 [==============================] - 0s 58ms/step\n",
      "1/1 [==============================] - 0s 18ms/step\n",
      "1/1 [==============================] - 0s 54ms/step\n",
      "1/1 [==============================] - 0s 50ms/step\n",
      "1/1 [==============================] - 0s 20ms/step\n",
      "1/1 [==============================] - 0s 19ms/step\n",
      "1/1 [==============================] - 0s 18ms/step\n",
      "1/1 [==============================] - 0s 18ms/step\n",
      "1/1 [==============================] - 0s 20ms/step\n",
      "1/1 [==============================] - 0s 20ms/step\n",
      "1/1 [==============================] - 0s 20ms/step\n",
      "1/1 [==============================] - 0s 26ms/step\n",
      "1/1 [==============================] - 0s 22ms/step\n",
      "1/1 [==============================] - 0s 21ms/step\n",
      "1/1 [==============================] - 0s 20ms/step\n",
      "1/1 [==============================] - 0s 22ms/step\n",
      "1/1 [==============================] - 0s 20ms/step\n"
     ]
    }
   ],
   "source": [
    "from collections import defaultdict\n",
    "import numpy as np\n",
    "\n",
    "writer_centroids = defaultdict(list)\n",
    "\n",
    "# Loop through each writer's images\n",
    "for writer_id in top_writers:  # Assuming top_writers contains the writer IDs\n",
    "    writer_images = []  # Collect all images for this writer\n",
    "    for form_id, writer in form_writer.items():\n",
    "        if writer == writer_id:\n",
    "            image_path = os.path.join(temp_sentences_path, form_id + '.png')  # Adjust as needed\n",
    "            image = Image.open(\"../data/a01-043u-s04-03.png\")\n",
    "            image = image.resize((113, 113))\n",
    "            writer_images.append(np.asarray(image))\n",
    "            \n",
    "    writer_images = np.array(writer_images).reshape(len(writer_images), 113, 113, 1)\n",
    "    encoded_images = encoder.predict(writer_images)\n",
    "    centroid = np.mean(encoded_images, axis=0)\n",
    "    writer_centroids[writer_id] = centroid\n"
   ]
  },
  {
   "cell_type": "code",
   "execution_count": 62,
   "metadata": {},
   "outputs": [
    {
     "name": "stdout",
     "output_type": "stream",
     "text": [
      "2/2 [==============================] - 0s 35ms/step\n",
      "1/1 [==============================] - 0s 52ms/step\n",
      "1/1 [==============================] - 0s 53ms/step\n",
      "1/1 [==============================] - 0s 50ms/step\n",
      "1/1 [==============================] - 0s 53ms/step\n",
      "1/1 [==============================] - 0s 19ms/step\n",
      "1/1 [==============================] - 0s 52ms/step\n",
      "1/1 [==============================] - 0s 51ms/step\n",
      "1/1 [==============================] - 0s 51ms/step\n",
      "1/1 [==============================] - 0s 50ms/step\n",
      "1/1 [==============================] - 0s 51ms/step\n",
      "1/1 [==============================] - 0s 51ms/step\n",
      "1/1 [==============================] - 0s 50ms/step\n",
      "1/1 [==============================] - 0s 19ms/step\n",
      "1/1 [==============================] - 0s 54ms/step\n",
      "1/1 [==============================] - 0s 18ms/step\n",
      "1/1 [==============================] - 0s 51ms/step\n",
      "1/1 [==============================] - 0s 18ms/step\n",
      "1/1 [==============================] - 0s 53ms/step\n",
      "1/1 [==============================] - 0s 27ms/step\n",
      "1/1 [==============================] - 0s 18ms/step\n",
      "1/1 [==============================] - 0s 18ms/step\n",
      "1/1 [==============================] - 0s 55ms/step\n",
      "1/1 [==============================] - 0s 51ms/step\n",
      "1/1 [==============================] - 0s 53ms/step\n",
      "1/1 [==============================] - 0s 53ms/step\n",
      "1/1 [==============================] - 0s 52ms/step\n",
      "1/1 [==============================] - 0s 19ms/step\n",
      "1/1 [==============================] - 0s 54ms/step\n",
      "1/1 [==============================] - 0s 20ms/step\n",
      "1/1 [==============================] - 0s 51ms/step\n",
      "1/1 [==============================] - 0s 50ms/step\n",
      "1/1 [==============================] - 0s 55ms/step\n",
      "1/1 [==============================] - 0s 52ms/step\n",
      "1/1 [==============================] - 0s 54ms/step\n",
      "1/1 [==============================] - 0s 50ms/step\n",
      "1/1 [==============================] - 0s 52ms/step\n",
      "1/1 [==============================] - 0s 20ms/step\n",
      "1/1 [==============================] - 0s 20ms/step\n",
      "1/1 [==============================] - 0s 21ms/step\n",
      "1/1 [==============================] - 0s 19ms/step\n",
      "1/1 [==============================] - 0s 21ms/step\n",
      "1/1 [==============================] - 0s 21ms/step\n",
      "1/1 [==============================] - 0s 21ms/step\n",
      "1/1 [==============================] - 0s 20ms/step\n",
      "1/1 [==============================] - 0s 20ms/step\n",
      "1/1 [==============================] - 0s 20ms/step\n",
      "1/1 [==============================] - 0s 20ms/step\n",
      "1/1 [==============================] - 0s 22ms/step\n",
      "1/1 [==============================] - 0s 24ms/step\n"
     ]
    }
   ],
   "source": [
    "writer_thresholds = {}\n",
    "\n",
    "for writer_id, centroid in writer_centroids.items():\n",
    "    writer_images = []  # Collect all images for this writer\n",
    "    for form_id, writer in form_writer.items():\n",
    "        if writer == writer_id:\n",
    "            image_path = os.path.join(temp_sentences_path, form_id + '.png')  # Adjust as needed\n",
    "            image = Image.open(\"../data/a01-043u-s04-03.png\")\n",
    "            image = image.resize((113, 113))\n",
    "            writer_images.append(np.asarray(image))\n",
    "            \n",
    "    writer_images = np.array(writer_images).reshape(len(writer_images), 113, 113, 1)\n",
    "    encoded_images = encoder.predict(writer_images)\n",
    "    distances = [np.linalg.norm(encoded - centroid) for encoded in encoded_images]\n",
    "    avg_distance = np.mean(distances)\n",
    "    writer_thresholds[writer_id] = avg_distance * 1.2  # Adding some margin\n"
   ]
  },
  {
   "cell_type": "code",
   "execution_count": 65,
   "metadata": {},
   "outputs": [],
   "source": [
    "def identify_writer(new_image, writer_centroids, writer_thresholds):\n",
    "    # Preprocess the new image and encode it\n",
    "    new_image = Image.open(new_image).resize((113, 113))\n",
    "    new_image = np.asarray(new_image).reshape(1, 113, 113, 1)\n",
    "    encoded_image = encoder.predict(new_image)\n",
    "\n",
    "    for writer_id, centroid in writer_centroids.items():\n",
    "        distance = np.linalg.norm(encoded_image - centroid)\n",
    "        if distance < writer_thresholds[writer_id]:\n",
    "            print(f\"Writer identified as {writer_id}\")\n",
    "            return writer_id\n",
    "\n",
    "    print(\"This is a new writer.\")\n",
    "    return None\n"
   ]
  },
  {
   "cell_type": "code",
   "execution_count": null,
   "metadata": {},
   "outputs": [],
   "source": []
  },
  {
   "cell_type": "markdown",
   "metadata": {},
   "source": [
    "### Anomaly Detection for New Class"
   ]
  },
  {
   "cell_type": "code",
   "execution_count": 50,
   "metadata": {},
   "outputs": [
    {
     "name": "stdout",
     "output_type": "stream",
     "text": [
      "4/4 [==============================] - 0s 23ms/step\n",
      "1/1 [==============================] - 0s 18ms/step\n",
      "No anomaly detected\n"
     ]
    }
   ],
   "source": [
    "# Assume you have some 'normal_data_points' and one 'new_data_point'\n",
    "normal_data_points = np.random.rand(100, 113, 113, 1)  # Replace with your actual normal data\n",
    "new_data_point = np.random.rand(1, 113, 113, 1)  # Replace with your actual new data point\n",
    "\n",
    "# Encode the normal data points to get their latent space representations\n",
    "encoded_normal_data_points = encoder.predict(normal_data_points)\n",
    "\n",
    "# Encode the new data point to get its latent space representation\n",
    "encoded_new_data_point = encoder.predict(new_data_point)\n",
    "\n",
    "# Calculate the centroid of the normal data points in the latent space\n",
    "centroid = np.mean(encoded_normal_data_points, axis=0)\n",
    "\n",
    "# Calculate the distance between the new data point and the centroid\n",
    "distance = np.linalg.norm(encoded_new_data_point - centroid)\n",
    "\n",
    "# Define a threshold for anomaly detection (this should be based on your specific case)\n",
    "threshold = 10.0\n",
    "\n",
    "# Detect if the new data point is an anomaly\n",
    "if distance > threshold:\n",
    "    print(\"Anomaly detected\")\n",
    "else:\n",
    "    print(\"No anomaly detected\")\n"
   ]
  },
  {
   "cell_type": "markdown",
   "metadata": {},
   "source": [
    "### Add new class"
   ]
  },
  {
   "cell_type": "code",
   "execution_count": null,
   "metadata": {},
   "outputs": [],
   "source": [
    "from PIL import Image\n",
    "import numpy as np\n",
    "\n",
    "# Step 1: Read the image\n",
    "img_path = 'path/to/your/test/image.png'  # Replace with the actual path\n",
    "img = Image.open(img_path)\n",
    "\n",
    "# Step 2: Resize and preprocess\n",
    "img = img.resize((CROP_SIZE, CROP_SIZE))  # Replace CROP_SIZE with the actual size\n",
    "img_array = np.asarray(img)\n",
    "\n",
    "# Step 3: Expand dimensions to match the input shape\n",
    "test_data_point = np.expand_dims(img_array, axis=0)  # Makes it (1, CROP_SIZE, CROP_SIZE, num_channels)\n",
    "\n",
    "# If your images are grayscale and your model expects a single channel image, you might also need to reshape:\n",
    "test_data_point = test_data_point.reshape(test_data_point.shape[0], CROP_SIZE, CROP_SIZE, 1)\n",
    "\n",
    "# Normalize the data if your model expects that\n",
    "test_data_point = test_data_point.astype('float32') / 255.0\n"
   ]
  },
  {
   "cell_type": "markdown",
   "metadata": {},
   "source": [
    "### Integrate with Original Classifier"
   ]
  },
  {
   "cell_type": "code",
   "execution_count": 55,
   "metadata": {},
   "outputs": [
    {
     "ename": "IndexError",
     "evalue": "tuple index out of range",
     "output_type": "error",
     "traceback": [
      "\u001b[1;31m---------------------------------------------------------------------------\u001b[0m",
      "\u001b[1;31mIndexError\u001b[0m                                Traceback (most recent call last)",
      "Cell \u001b[1;32mIn[55], line 8\u001b[0m\n\u001b[0;32m      5\u001b[0m test_data_point \u001b[38;5;241m=\u001b[39m \u001b[38;5;241m0\u001b[39m\n\u001b[0;32m      7\u001b[0m \u001b[38;5;66;03m# Make a prediction with the original classifier\u001b[39;00m\n\u001b[1;32m----> 8\u001b[0m original_prediction \u001b[38;5;241m=\u001b[39m \u001b[43moriginal_model\u001b[49m\u001b[38;5;241;43m.\u001b[39;49m\u001b[43mpredict\u001b[49m\u001b[43m(\u001b[49m\u001b[43mtest_data_point\u001b[49m\u001b[43m)\u001b[49m\n\u001b[0;32m     10\u001b[0m \u001b[38;5;66;03m# If prediction confidence is low, check for the new class\u001b[39;00m\n\u001b[0;32m     11\u001b[0m \u001b[38;5;28;01mif\u001b[39;00m \u001b[38;5;28mmax\u001b[39m(original_prediction[\u001b[38;5;241m0\u001b[39m]) \u001b[38;5;241m<\u001b[39m confidence_threshold:\n\u001b[0;32m     12\u001b[0m     \u001b[38;5;66;03m# Encode the test data point to get its latent space representation\u001b[39;00m\n",
      "File \u001b[1;32m~\\anaconda3\\lib\\site-packages\\keras\\utils\\traceback_utils.py:67\u001b[0m, in \u001b[0;36mfilter_traceback.<locals>.error_handler\u001b[1;34m(*args, **kwargs)\u001b[0m\n\u001b[0;32m     65\u001b[0m \u001b[38;5;28;01mexcept\u001b[39;00m \u001b[38;5;167;01mException\u001b[39;00m \u001b[38;5;28;01mas\u001b[39;00m e:  \u001b[38;5;66;03m# pylint: disable=broad-except\u001b[39;00m\n\u001b[0;32m     66\u001b[0m   filtered_tb \u001b[38;5;241m=\u001b[39m _process_traceback_frames(e\u001b[38;5;241m.\u001b[39m__traceback__)\n\u001b[1;32m---> 67\u001b[0m   \u001b[38;5;28;01mraise\u001b[39;00m e\u001b[38;5;241m.\u001b[39mwith_traceback(filtered_tb) \u001b[38;5;28;01mfrom\u001b[39;00m \u001b[38;5;28;01mNone\u001b[39;00m\n\u001b[0;32m     68\u001b[0m \u001b[38;5;28;01mfinally\u001b[39;00m:\n\u001b[0;32m     69\u001b[0m   \u001b[38;5;28;01mdel\u001b[39;00m filtered_tb\n",
      "File \u001b[1;32m~\\anaconda3\\lib\\site-packages\\tensorflow\\python\\framework\\tensor_shape.py:909\u001b[0m, in \u001b[0;36mTensorShape.__getitem__\u001b[1;34m(self, key)\u001b[0m\n\u001b[0;32m    907\u001b[0m \u001b[38;5;28;01melse\u001b[39;00m:\n\u001b[0;32m    908\u001b[0m   \u001b[38;5;28;01mif\u001b[39;00m \u001b[38;5;28mself\u001b[39m\u001b[38;5;241m.\u001b[39m_v2_behavior:\n\u001b[1;32m--> 909\u001b[0m     \u001b[38;5;28;01mreturn\u001b[39;00m \u001b[38;5;28;43mself\u001b[39;49m\u001b[38;5;241;43m.\u001b[39;49m\u001b[43m_dims\u001b[49m\u001b[43m[\u001b[49m\u001b[43mkey\u001b[49m\u001b[43m]\u001b[49m\n\u001b[0;32m    910\u001b[0m   \u001b[38;5;28;01melse\u001b[39;00m:\n\u001b[0;32m    911\u001b[0m     \u001b[38;5;28;01mreturn\u001b[39;00m \u001b[38;5;28mself\u001b[39m\u001b[38;5;241m.\u001b[39mdims[key]\n",
      "\u001b[1;31mIndexError\u001b[0m: tuple index out of range"
     ]
    }
   ],
   "source": [
    "# Assuming original_model and test_data_point are defined and preprocessed\n",
    "# Define your confidence_threshold\n",
    "original_model = model\n",
    "confidence_threshold = 0.8\n",
    "\n",
    "# Make a prediction with the original classifier\n",
    "original_prediction = original_model.predict(test_data_point)\n",
    "\n",
    "# If prediction confidence is low, check for the new class\n",
    "if max(original_prediction[0]) < confidence_threshold:\n",
    "    # Encode the test data point to get its latent space representation\n",
    "    encoded_test_data_point = encoder.predict(test_data_point)\n",
    "    \n",
    "    # Calculate the 'difference' based on your specific logic\n",
    "    # For instance, using Euclidean distance from a centroid\n",
    "    difference = np.linalg.norm(encoded_test_data_point - centroid)\n",
    "    \n",
    "    # Define your 'threshold' for anomaly detection\n",
    "    threshold = 10.0  # Replace with your actual threshold\n",
    "    \n",
    "    # Measure the difference and check against the threshold\n",
    "    if difference > threshold:\n",
    "        final_prediction = \"new_class\"\n",
    "    else:\n",
    "        final_prediction = np.argmax(original_prediction)  # or any other way to interpret the prediction\n",
    "else:\n",
    "    final_prediction = np.argmax(original_prediction)  # or any other way to interpret the prediction\n",
    "\n",
    "print(\"Final Prediction:\", final_prediction)\n"
   ]
  },
  {
   "cell_type": "code",
   "execution_count": null,
   "metadata": {},
   "outputs": [],
   "source": []
  }
 ],
 "metadata": {
  "accelerator": "GPU",
  "colab": {
   "name": "solution.ipynb",
   "provenance": [],
   "toc_visible": true,
   "version": "0.3.2"
  },
  "kernelspec": {
   "display_name": "Python 3 (ipykernel)",
   "language": "python",
   "name": "python3"
  },
  "language_info": {
   "codemirror_mode": {
    "name": "ipython",
    "version": 3
   },
   "file_extension": ".py",
   "mimetype": "text/x-python",
   "name": "python",
   "nbconvert_exporter": "python",
   "pygments_lexer": "ipython3",
   "version": "3.9.12"
  }
 },
 "nbformat": 4,
 "nbformat_minor": 1
}
