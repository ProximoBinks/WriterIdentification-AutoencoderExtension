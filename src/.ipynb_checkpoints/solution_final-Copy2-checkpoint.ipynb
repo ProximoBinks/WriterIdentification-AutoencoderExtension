{
 "cells": [
  {
   "cell_type": "markdown",
   "metadata": {
    "colab_type": "text",
    "id": "FOICGEz6jN_e"
   },
   "source": [
    "# IAM Writer Recognition"
   ]
  },
  {
   "cell_type": "markdown",
   "metadata": {},
   "source": [
    "The goal of the notebook is to use the method explained in the paper [DeepWriter: A Multi-Stream Deep CNN for Text-independent Writer Identification](https://arxiv.org/abs/1606.06472) to identify the writer (author) of a text based on their writing styles. To do so, we'll use the [IAM Handwriting Database](http://www.fki.inf.unibe.ch/databases/iam-handwriting-database/download-the-iam-handwriting-database)."
   ]
  },
  {
   "cell_type": "markdown",
   "metadata": {
    "colab_type": "text",
    "id": "inxlDgefjN_j"
   },
   "source": [
    "# Reading The Dataset"
   ]
  },
  {
   "cell_type": "markdown",
   "metadata": {},
   "source": [
    "The first step is to create a dictionary which will map each form ID (sentence) to a writer. This information is available in the ``forms.txt`` file, where each line (except for the first 16 lines, which are documentation) defines the form ID at index ``0``, and its writer at index ``1``."
   ]
  },
  {
   "cell_type": "code",
   "execution_count": 1,
   "metadata": {
    "colab": {},
    "colab_type": "code",
    "id": "2zHuGCQFjN_l"
   },
   "outputs": [],
   "source": [
    "# Create a dictionary to store each form ID and its writer\n",
    "import os\n",
    "from itertools import islice\n",
    "\n",
    "form_writer = {}\n",
    "forms_file_path = \"../data/forms.txt\"\n",
    "with open(forms_file_path) as f:\n",
    "    for line in islice(f, 16, None):\n",
    "        line_list = line.split(' ')\n",
    "        form_id = line_list[0]\n",
    "        writer = line_list[1]\n",
    "        form_writer[form_id] = writer"
   ]
  },
  {
   "cell_type": "markdown",
   "metadata": {
    "colab_type": "text",
    "id": "TGIUdr5cjN_p"
   },
   "source": [
    "Visualize dictionary (as array for simplicity):"
   ]
  },
  {
   "cell_type": "code",
   "execution_count": 2,
   "metadata": {
    "colab": {
     "base_uri": "https://localhost:8080/",
     "height": 102
    },
    "colab_type": "code",
    "id": "FKJ6dsAGjN_q",
    "outputId": "cb98eba3-137f-4573-cd9f-6d172ba7d6cd"
   },
   "outputs": [
    {
     "name": "stdout",
     "output_type": "stream",
     "text": [
      "Number of form-writer pairs: 1539\n",
      "[('a01-000u', '000'), ('a01-000x', '001'), ('a01-003', '002'), ('a01-003u', '000'), ('a01-003x', '003')]\n",
      "Sample form-writer mappings: [('a01-000u', '000'), ('a01-000x', '001'), ('a01-003', '002'), ('a01-003u', '000'), ('a01-003x', '003')]\n"
     ]
    }
   ],
   "source": [
    "list(form_writer.items())[0:5]\n",
    "print(\"Number of form-writer pairs:\", len(form_writer))\n",
    "print(list(form_writer.items())[0:5])\n",
    "print(\"Sample form-writer mappings:\", list(form_writer.items())[:5])"
   ]
  },
  {
   "cell_type": "markdown",
   "metadata": {
    "colab_type": "text",
    "id": "ZdHVHlU_jN_t"
   },
   "source": [
    "For efficiency reasons,  we'll select the 50 most common writers from the dictionary we have created, and the rest of the notebook will only focus on them (as opposed to using the 221 authors present in the dataset)."
   ]
  },
  {
   "cell_type": "code",
   "execution_count": 3,
   "metadata": {
    "colab": {},
    "colab_type": "code",
    "id": "B4le_mL3jN_t"
   },
   "outputs": [],
   "source": [
    "# Select the 50 most common writer\n",
    "\n",
    "from collections import Counter\n",
    "\n",
    "top_writers = []\n",
    "num_writers = 50\n",
    "writers_counter = Counter(form_writer.values())\n",
    "for writer_id,_ in writers_counter.most_common(num_writers):\n",
    "    top_writers.append(writer_id)"
   ]
  },
  {
   "cell_type": "markdown",
   "metadata": {
    "colab_type": "text",
    "id": "X7DKQ0VijN_w"
   },
   "source": [
    "Visualize the writer id of the top 50 writers:"
   ]
  },
  {
   "cell_type": "code",
   "execution_count": 4,
   "metadata": {
    "colab": {
     "base_uri": "https://localhost:8080/",
     "height": 34
    },
    "colab_type": "code",
    "id": "5mhwA0LrjN_x",
    "outputId": "7c141aa2-d171-499f-b1fd-738c182cdc83"
   },
   "outputs": [
    {
     "name": "stdout",
     "output_type": "stream",
     "text": [
      "Top writer IDs: ['000', '150', '151', '152', '153']\n",
      "['000', '150', '151', '152', '153']\n"
     ]
    }
   ],
   "source": [
    "print(\"Top writer IDs:\", top_writers[0:5])\n",
    "print(top_writers[0:5])"
   ]
  },
  {
   "cell_type": "markdown",
   "metadata": {
    "colab_type": "text",
    "id": "HwW7ts-mjN_0"
   },
   "source": [
    "From the 50 most common writers we have selected, we'll now need to select the forms (sentences) they have written:"
   ]
  },
  {
   "cell_type": "code",
   "execution_count": 5,
   "metadata": {
    "colab": {},
    "colab_type": "code",
    "id": "MeRZBANbjN_0"
   },
   "outputs": [],
   "source": [
    "top_forms = []\n",
    "for form_id, author_id in form_writer.items():\n",
    "    if author_id in top_writers:\n",
    "        top_forms.append(form_id)"
   ]
  },
  {
   "cell_type": "markdown",
   "metadata": {
    "colab_type": "text",
    "id": "5HDd4y12jN_4"
   },
   "source": [
    "Visualize the form id of the top 50 writers:"
   ]
  },
  {
   "cell_type": "code",
   "execution_count": 6,
   "metadata": {
    "colab": {
     "base_uri": "https://localhost:8080/",
     "height": 34
    },
    "colab_type": "code",
    "id": "Uu5W_aXUjN_6",
    "outputId": "321e8045-0560-454a-80fe-479272f9f369"
   },
   "outputs": [
    {
     "name": "stdout",
     "output_type": "stream",
     "text": [
      "Number of top forms: 452\n",
      "Sample form IDs: ['a01-000u', 'a01-003u', 'a01-007u', 'a01-011u', 'a01-014u']\n",
      "['a01-000u', 'a01-003u', 'a01-007u', 'a01-011u', 'a01-014u']\n"
     ]
    }
   ],
   "source": [
    "print(\"Number of top forms:\", len(top_forms))\n",
    "print(\"Sample form IDs:\", top_forms[:5])\n",
    "print(top_forms[0:5])"
   ]
  },
  {
   "cell_type": "markdown",
   "metadata": {
    "colab_type": "text",
    "id": "be_0siyXjN_-"
   },
   "source": [
    "Create a temp directory which contains only the sentences of the forms selected above:"
   ]
  },
  {
   "cell_type": "code",
   "execution_count": 7,
   "metadata": {
    "colab": {},
    "colab_type": "code",
    "id": "qQBL7IeajN__"
   },
   "outputs": [],
   "source": [
    "import os\n",
    "import glob\n",
    "import shutil\n",
    "\n",
    "# Create temp directory to save writers' forms in (assumes files have already been copied if the directory exists)\n",
    "temp_sentences_path = \"../data/temp_sentences\"\n",
    "if not os.path.exists(temp_sentences_path):\n",
    "    os.makedirs(temp_sentences_path)\n",
    "\n",
    "# Debugging Line 4: Check if 'top_forms' is correctly set\n",
    "#print(f\"Top Forms: {top_forms}\")\n",
    "\n",
    "original_sentences_path = os.path.join(\"..\", \"data\", \"sentences\", \"*\", \"*\", \"*.png\")\n",
    "\n",
    "# Debugging Line 5: Verify the Paths\n",
    "#print(\"Files found:\", glob.glob(original_sentences_path)[:5])\n",
    "\n",
    "for file_path in glob.glob(original_sentences_path):\n",
    "    image_name = file_path.split(os.path.sep)[-1]  # Use os.path.sep for cross-platform compatibility\n",
    "    form_id = image_name.split('-')[0] + '-' + image_name.split('-')[1]\n",
    "\n",
    "    if form_id in top_forms:\n",
    "        # Debugging Line 6: Check if Files are Copied\n",
    "        #print(f\"Copying file {file_path} to {temp_sentences_path}/{image_name}\")\n",
    "        try:\n",
    "            shutil.copy(file_path, os.path.join(temp_sentences_path, image_name))\n",
    "        except Exception as e:\n",
    "            print(f\"Failed to copy {file_path}. Error: {e}\")\n"
   ]
  },
  {
   "cell_type": "markdown",
   "metadata": {
    "colab_type": "text",
    "id": "hSSAlzWVjOAD"
   },
   "source": [
    "Create arrays of file inputs (a form) and their respective targets (a writer id):"
   ]
  },
  {
   "cell_type": "code",
   "execution_count": 8,
   "metadata": {
    "colab": {},
    "colab_type": "code",
    "id": "mfzwf2BKjOAH"
   },
   "outputs": [
    {
     "name": "stdout",
     "output_type": "stream",
     "text": [
      "Array lengths: 4909 4909\n"
     ]
    }
   ],
   "source": [
    "import os\n",
    "import glob\n",
    "import shutil\n",
    "import numpy as np\n",
    "\n",
    "img_files = np.zeros((0), dtype=str)\n",
    "img_targets = []\n",
    "\n",
    "path_to_files = os.path.join(temp_sentences_path, '*')\n",
    "for file_path in glob.glob(path_to_files):\n",
    "    img_files = np.append(img_files, file_path)\n",
    "    file_name, _ = os.path.splitext(file_path.split(os.path.sep)[-1])\n",
    "    form_id = '-'.join(file_name.split('-')[0:2])\n",
    "    if form_id in form_writer:\n",
    "        img_targets.append(form_writer[form_id])\n",
    "\n",
    "# Convert img_targets to a NumPy array\n",
    "img_targets = np.array(img_targets)\n",
    "\n",
    "# Debugging Line 7: Validate Array Populations\n",
    "print(\"Array lengths:\", len(img_files), len(img_targets))\n"
   ]
  },
  {
   "cell_type": "markdown",
   "metadata": {
    "colab_type": "text",
    "id": "Jb6AwFvIjOAP"
   },
   "source": [
    "Visualize the form -> writer id arrays:"
   ]
  },
  {
   "cell_type": "code",
   "execution_count": 9,
   "metadata": {
    "colab": {
     "base_uri": "https://localhost:8080/",
     "height": 119
    },
    "colab_type": "code",
    "id": "KI9InV7sjOAQ",
    "outputId": "42ad7fa7-b577-480a-c626-6cf0fe8b33f5",
    "scrolled": true
   },
   "outputs": [
    {
     "name": "stdout",
     "output_type": "stream",
     "text": [
      "Checking path: ../data/temp_sentences\\*\n",
      "Found 4909 files.\n",
      "['../data/temp_sentences\\\\a01-000u-s00-00.png'\n",
      " '../data/temp_sentences\\\\a01-000u-s00-01.png'\n",
      " '../data/temp_sentences\\\\a01-000u-s00-02.png'\n",
      " '../data/temp_sentences\\\\a01-000u-s00-03.png'\n",
      " '../data/temp_sentences\\\\a01-000u-s01-00.png']\n",
      "['000' '000' '000' '000' '000']\n"
     ]
    }
   ],
   "source": [
    "print(f\"Checking path: {path_to_files}\")\n",
    "files_found = glob.glob(path_to_files)\n",
    "print(f\"Found {len(files_found)} files.\")\n",
    "\n",
    "print(img_files[0:5])\n",
    "print(img_targets[0:5])"
   ]
  },
  {
   "cell_type": "markdown",
   "metadata": {
    "colab_type": "text",
    "id": "WKiDRakVjOAS"
   },
   "source": [
    "Visualize dataset's images:"
   ]
  },
  {
   "cell_type": "code",
   "execution_count": 10,
   "metadata": {
    "colab": {
     "base_uri": "https://localhost:8080/",
     "height": 182
    },
    "colab_type": "code",
    "id": "J1m2JtZyjOAT",
    "outputId": "65742ceb-8bbb-489a-846e-c07deaea435d",
    "scrolled": true
   },
   "outputs": [
    {
     "data": {
      "image/png": "[encoded data removed]",
      "text/plain": [
       "<Figure size 1000x1000 with 1 Axes>"
      ]
     },
     "metadata": {},
     "output_type": "display_data"
    },
    {
     "data": {
      "image/png": "[encoded data removed]",
      "text/plain": [
       "<Figure size 1000x1000 with 1 Axes>"
      ]
     },
     "metadata": {},
     "output_type": "display_data"
    }
   ],
   "source": [
    "import matplotlib.pyplot as plt\n",
    "import matplotlib.image as mpimg\n",
    "%matplotlib inline\n",
    "\n",
    "for file_name in img_files[:2]:\n",
    "    img = mpimg.imread(file_name)\n",
    "    plt.figure(figsize = (10,10))\n",
    "    plt.imshow(img, cmap ='gray')"
   ]
  },
  {
   "cell_type": "markdown",
   "metadata": {
    "colab_type": "text",
    "id": "5yYh5_3vjOAV"
   },
   "source": [
    "Encode writers with a value between 0 and ``n_classes-1``:"
   ]
  },
  {
   "cell_type": "code",
   "execution_count": 11,
   "metadata": {
    "colab": {
     "base_uri": "https://localhost:8080/",
     "height": 51
    },
    "colab_type": "code",
    "id": "y9A4WbqPjOAV",
    "outputId": "d1f8fcc5-8127-4231-b7cc-690c10dea186"
   },
   "outputs": [
    {
     "name": "stdout",
     "output_type": "stream",
     "text": [
      "Writer ID        :  ['000' '000']\n",
      "Encoded writer ID:  [0 0]\n"
     ]
    }
   ],
   "source": [
    "from sklearn.preprocessing import LabelEncoder\n",
    "\n",
    "encoder = LabelEncoder()\n",
    "encoded_img_targets = encoder.fit_transform(img_targets)\n",
    "\n",
    "print(\"Writer ID        : \", img_targets[:2])\n",
    "print(\"Encoded writer ID: \", encoded_img_targets[:2])"
   ]
  },
  {
   "cell_type": "markdown",
   "metadata": {
    "colab_type": "text",
    "id": "FPMqJtNnjOAZ"
   },
   "source": [
    "Split dataset into train, validation, and tests sets:"
   ]
  },
  {
   "cell_type": "code",
   "execution_count": 12,
   "metadata": {
    "colab": {
     "base_uri": "https://localhost:8080/",
     "height": 51
    },
    "colab_type": "code",
    "id": "SqFgVvjEjOAZ",
    "outputId": "5d069de7-a41a-4180-8106-42d213f4cd69",
    "scrolled": true
   },
   "outputs": [
    {
     "name": "stdout",
     "output_type": "stream",
     "text": [
      "(3141,) (786,) (982,)\n",
      "(3141,) (786,) (982,)\n"
     ]
    }
   ],
   "source": [
    "from sklearn.model_selection import train_test_split\n",
    "\n",
    "# Split dataset into training and test sets\n",
    "X_train, X_test, y_train, y_test = train_test_split(img_files, encoded_img_targets, test_size=0.2, shuffle = True)\n",
    "\n",
    "# Further split training set into training and validation sets\n",
    "X_train, X_val, y_train, y_val = train_test_split(X_train, y_train, test_size=0.2, shuffle = True)\n",
    "\n",
    "print(X_train.shape, X_val.shape, X_test.shape)\n",
    "print(y_train.shape, y_val.shape, y_test.shape)"
   ]
  },
  {
   "cell_type": "markdown",
   "metadata": {
    "colab_type": "text",
    "id": "S5-nRNWFjOAc"
   },
   "source": [
    "Define a couple of constants that will be used throughout the model:"
   ]
  },
  {
   "cell_type": "code",
   "execution_count": 13,
   "metadata": {
    "colab": {},
    "colab_type": "code",
    "id": "7UXwDegTjOAd"
   },
   "outputs": [],
   "source": [
    "CROP_SIZE = 113\n",
    "NUM_LABELS = 50\n",
    "BATCH_SIZE = 16"
   ]
  },
  {
   "cell_type": "markdown",
   "metadata": {},
   "source": [
    "As suggested in the paper, the input to the model are not unique sentences but rather random patches cropped from each sentence. The ``get_augmented_sample`` method is in charge of doing so by resizing each sentence's height to ``113`` pixels, and its width such that original aspect ratio is maintained. Finally, from the resized image, patches of ``113x113`` are randomly cropped."
   ]
  },
  {
   "cell_type": "code",
   "execution_count": 14,
   "metadata": {
    "colab": {},
    "colab_type": "code",
    "id": "ckp7A0ZbjOAi"
   },
   "outputs": [],
   "source": [
    "from sklearn.utils import shuffle\n",
    "from PIL import Image\n",
    "import random\n",
    "\n",
    "def get_augmented_sample(sample, label, sample_ratio):\n",
    "    # Get current image details\n",
    "    img = Image.open(sample)\n",
    "    img_width = img.size[0]\n",
    "    img_height = img.size[1]\n",
    "\n",
    "    # Compute resize dimensions such that aspect ratio is maintained\n",
    "    height_fac = CROP_SIZE / img_height\n",
    "    size = (int(img_width * height_fac), CROP_SIZE)\n",
    "\n",
    "    # Resize image \n",
    "    new_img = img.resize(size, Image.LANCZOS)\n",
    "    new_img_width = new_img.size[0]\n",
    "    new_img_height = new_img.size[1]\n",
    "\n",
    "    # Generate a random number of crops of size 113x113 from the resized image\n",
    "    x_coord = list(range(0, new_img_width - CROP_SIZE))\n",
    "    num_crops = int(len(x_coord) * sample_ratio)\n",
    "    random_x_coord = random.sample(x_coord, num_crops)\n",
    "    \n",
    "    # Create augmented images (cropped forms) and map them to a label (writer)\n",
    "    images = []\n",
    "    labels = []\n",
    "    for x in random_x_coord:\n",
    "        img_crop = new_img.crop((x, 0, x + CROP_SIZE, CROP_SIZE))\n",
    "        # Transform image to an array of numbers\n",
    "        images.append(np.asarray(img_crop))\n",
    "        labels.append(label)\n",
    "\n",
    "    return (images, labels)"
   ]
  },
  {
   "cell_type": "markdown",
   "metadata": {},
   "source": [
    "Let's visualize what the ``get_augmented_sample`` method does by augmenting one sample from the training set. Let's first take a look at how the original image looks like:"
   ]
  },
  {
   "cell_type": "code",
   "execution_count": 15,
   "metadata": {},
   "outputs": [
    {
     "name": "stdout",
     "output_type": "stream",
     "text": [
      "Label:  47\n"
     ]
    },
    {
     "data": {
      "image/png": "[encoded data removed]",
      "text/plain": [
       "<Figure size 1000x1000 with 1 Axes>"
      ]
     },
     "metadata": {},
     "output_type": "display_data"
    }
   ],
   "source": [
    "sample, label = X_train[0], y_train[0]\n",
    "img = mpimg.imread(sample)\n",
    "plt.figure(figsize = (10,10))\n",
    "plt.imshow(img, cmap ='gray')\n",
    "print(\"Label: \", label)"
   ]
  },
  {
   "cell_type": "markdown",
   "metadata": {},
   "source": [
    "A now, let's augment it and see the result:"
   ]
  },
  {
   "cell_type": "code",
   "execution_count": 16,
   "metadata": {},
   "outputs": [],
   "source": [
    "images, labels = get_augmented_sample(sample, label, 0.1)"
   ]
  },
  {
   "cell_type": "markdown",
   "metadata": {},
   "source": [
    "The ``labels`` returned by the ``get_augmented_sample`` is simply the label of the original image for each cropped patch:"
   ]
  },
  {
   "cell_type": "code",
   "execution_count": 17,
   "metadata": {},
   "outputs": [
    {
     "name": "stdout",
     "output_type": "stream",
     "text": [
      "[47, 47, 47, 47, 47, 47, 47, 47, 47, 47, 47, 47, 47, 47, 47, 47, 47, 47, 47, 47, 47, 47, 47, 47, 47, 47, 47, 47, 47, 47, 47, 47, 47, 47, 47, 47, 47, 47, 47, 47, 47, 47, 47, 47, 47, 47, 47, 47, 47, 47, 47, 47, 47, 47, 47, 47, 47, 47, 47, 47, 47, 47, 47, 47, 47, 47, 47, 47, 47, 47, 47, 47, 47, 47, 47, 47, 47, 47, 47, 47, 47, 47, 47, 47, 47, 47, 47, 47, 47, 47, 47, 47, 47, 47, 47, 47, 47, 47, 47, 47, 47, 47, 47, 47, 47, 47, 47, 47, 47, 47, 47, 47, 47, 47, 47, 47, 47, 47, 47, 47, 47, 47, 47, 47, 47, 47, 47, 47, 47, 47, 47, 47, 47, 47, 47, 47, 47, 47, 47, 47, 47, 47, 47, 47, 47, 47, 47, 47, 47, 47, 47, 47, 47, 47, 47, 47, 47, 47]\n",
      "Num of labels:  158\n"
     ]
    }
   ],
   "source": [
    "print(labels)\n",
    "print(\"Num of labels: \", len(labels))"
   ]
  },
  {
   "cell_type": "markdown",
   "metadata": {},
   "source": [
    "And the ``images`` returned by it are the random patches created from the original image (only two samples shown for simplicity):"
   ]
  },
  {
   "cell_type": "code",
   "execution_count": 18,
   "metadata": {},
   "outputs": [
    {
     "name": "stdout",
     "output_type": "stream",
     "text": [
      "158\n"
     ]
    },
    {
     "data": {
      "text/plain": [
       "<matplotlib.image.AxesImage at 0x1f252ba7eb0>"
      ]
     },
     "execution_count": 18,
     "metadata": {},
     "output_type": "execute_result"
    },
    {
     "data": {
      "image/png": "[encoded data removed]",
      "text/plain": [
       "<Figure size 640x480 with 1 Axes>"
      ]
     },
     "metadata": {},
     "output_type": "display_data"
    }
   ],
   "source": [
    "print(len(images))\n",
    "plt.imshow(images[0], cmap ='gray')"
   ]
  },
  {
   "cell_type": "code",
   "execution_count": 19,
   "metadata": {},
   "outputs": [
    {
     "data": {
      "text/plain": [
       "<matplotlib.image.AxesImage at 0x1f252d32eb0>"
      ]
     },
     "execution_count": 19,
     "metadata": {},
     "output_type": "execute_result"
    },
    {
     "data": {
      "image/png": "[encoded data removed]",
      "text/plain": [
       "<Figure size 640x480 with 1 Axes>"
      ]
     },
     "metadata": {},
     "output_type": "display_data"
    }
   ],
   "source": [
    "plt.imshow(images[1], cmap ='gray')"
   ]
  },
  {
   "cell_type": "markdown",
   "metadata": {},
   "source": [
    "The model uses a generator in order to be able to call ``get_augmented_sample`` when training the model:"
   ]
  },
  {
   "cell_type": "code",
   "execution_count": 20,
   "metadata": {
    "colab": {
     "base_uri": "https://localhost:8080/",
     "height": 34
    },
    "colab_type": "code",
    "id": "QpwonMROjOAm",
    "outputId": "66054b7c-046c-447d-c284-90ead6a2d4d0",
    "scrolled": true
   },
   "outputs": [],
   "source": [
    "import operator\n",
    "from functools import reduce\n",
    "from keras.utils import to_categorical\n",
    "\n",
    "def generate_data(samples, labels, batch_size, sample_ratio):\n",
    "    while 1: \n",
    "        for offset in range(0, len(samples), batch_size):\n",
    "            batch_samples = samples[offset:(offset + batch_size)]\n",
    "            batch_labels = labels[offset:(offset + batch_size)]\n",
    "            \n",
    "            # Augment each sample in batch\n",
    "            augmented_batch_samples = []\n",
    "            augmented_batch_labels = []\n",
    "            for i in range(len(batch_samples)):\n",
    "                sample = batch_samples[i]\n",
    "                label = batch_labels[i]\n",
    "                augmented_samples, augmented_labels = get_augmented_sample(sample, label, sample_ratio)\n",
    "                augmented_batch_samples.append(augmented_samples)\n",
    "                augmented_batch_labels.append(augmented_labels)\n",
    "\n",
    "            # Flatten out samples and labels\n",
    "            augmented_batch_samples = reduce(operator.add, augmented_batch_samples)\n",
    "            augmented_batch_labels = reduce(operator.add, augmented_batch_labels)\n",
    "            \n",
    "            # Reshape input format\n",
    "            X_train = np.array(augmented_batch_samples)\n",
    "            X_train = X_train.reshape(X_train.shape[0], CROP_SIZE, CROP_SIZE, 1)\n",
    "\n",
    "            # Transform input to float and normalize\n",
    "            X_train = X_train.astype('float32')\n",
    "            X_train /= 255\n",
    "\n",
    "            # Encode y\n",
    "            y_train = np.array(augmented_batch_labels)\n",
    "            y_train = to_categorical(y_train, NUM_LABELS)\n",
    "\n",
    "            yield X_train, y_train"
   ]
  },
  {
   "cell_type": "markdown",
   "metadata": {
    "colab_type": "text",
    "id": "xeHRbGh_jOAo"
   },
   "source": [
    "Create training, validation, and test generators:"
   ]
  },
  {
   "cell_type": "code",
   "execution_count": 21,
   "metadata": {
    "colab": {},
    "colab_type": "code",
    "id": "l9dr2pogjOAp"
   },
   "outputs": [],
   "source": [
    "train_generator = generate_data(X_train, y_train, BATCH_SIZE, 0.3)\n",
    "validation_generator = generate_data(X_val, y_val, BATCH_SIZE, 0.3)\n",
    "test_generator = generate_data(X_test, y_test, BATCH_SIZE, 0.1)"
   ]
  },
  {
   "cell_type": "code",
   "execution_count": 22,
   "metadata": {
    "colab": {
     "base_uri": "https://localhost:8080/",
     "height": 34
    },
    "colab_type": "code",
    "id": "KeHK6NkTjOAr",
    "outputId": "cccba7d3-41fe-4924-8259-57d209c216d9"
   },
   "outputs": [],
   "source": [
    "import tensorflow as tf\n",
    "gpus = tf.config.experimental.list_physical_devices('GPU')\n",
    "if gpus:\n",
    "    try:\n",
    "        for gpu in gpus:\n",
    "            tf.config.experimental.set_memory_growth(gpu, True)\n",
    "    except RuntimeError as e:\n",
    "        print(e)"
   ]
  },
  {
   "cell_type": "code",
   "execution_count": 23,
   "metadata": {
    "colab": {},
    "colab_type": "code",
    "id": "Fvu-0oV4jOAu"
   },
   "outputs": [],
   "source": [
    "def resize_image(img):\n",
    "    size = round(CROP_SIZE/2)\n",
    "    return tf.image.resize(img, [size, size])"
   ]
  },
  {
   "cell_type": "markdown",
   "metadata": {},
   "source": [
    "The model used is exactly the same as the one in the \"[handwriting_recognition](https://github.com/priya-dwivedi/Deep-Learning/tree/master/handwriting_recognition)\" notebook by [Priyanka Dwivedi](https://github.com/priya-dwivedi):"
   ]
  },
  {
   "cell_type": "code",
   "execution_count": 24,
   "metadata": {
    "colab": {
     "base_uri": "https://localhost:8080/",
     "height": 867
    },
    "colab_type": "code",
    "id": "mR01wBGijOAx",
    "outputId": "b8f4c4d1-6599-4569-d08e-2d48a060f47a"
   },
   "outputs": [
    {
     "name": "stdout",
     "output_type": "stream",
     "text": [
      "Model: \"sequential\"\n",
      "_________________________________________________________________\n",
      " Layer (type)                Output Shape              Param #   \n",
      "=================================================================\n",
      " zero_padding2d (ZeroPadding  (None, 115, 115, 1)      0         \n",
      " 2D)                                                             \n",
      "                                                                 \n",
      " lambda (Lambda)             (None, 56, 56, 1)         0         \n",
      "                                                                 \n",
      " conv1 (Conv2D)              (None, 28, 28, 32)        832       \n",
      "                                                                 \n",
      " activation (Activation)     (None, 28, 28, 32)        0         \n",
      "                                                                 \n",
      " pool1 (MaxPooling2D)        (None, 14, 14, 32)        0         \n",
      "                                                                 \n",
      " conv2 (Conv2D)              (None, 14, 14, 64)        18496     \n",
      "                                                                 \n",
      " activation_1 (Activation)   (None, 14, 14, 64)        0         \n",
      "                                                                 \n",
      " pool2 (MaxPooling2D)        (None, 7, 7, 64)          0         \n",
      "                                                                 \n",
      " conv3 (Conv2D)              (None, 7, 7, 128)         73856     \n",
      "                                                                 \n",
      " activation_2 (Activation)   (None, 7, 7, 128)         0         \n",
      "                                                                 \n",
      " pool3 (MaxPooling2D)        (None, 3, 3, 128)         0         \n",
      "                                                                 \n",
      " flatten (Flatten)           (None, 1152)              0         \n",
      "                                                                 \n",
      " dropout (Dropout)           (None, 1152)              0         \n",
      "                                                                 \n",
      " dense1 (Dense)              (None, 512)               590336    \n",
      "                                                                 \n",
      " activation_3 (Activation)   (None, 512)               0         \n",
      "                                                                 \n",
      " dropout_1 (Dropout)         (None, 512)               0         \n",
      "                                                                 \n",
      " dense2 (Dense)              (None, 256)               131328    \n",
      "                                                                 \n",
      " activation_4 (Activation)   (None, 256)               0         \n",
      "                                                                 \n",
      " dropout_2 (Dropout)         (None, 256)               0         \n",
      "                                                                 \n",
      " output (Dense)              (None, 50)                12850     \n",
      "                                                                 \n",
      " activation_5 (Activation)   (None, 50)                0         \n",
      "                                                                 \n",
      "=================================================================\n",
      "Total params: 827,698\n",
      "Trainable params: 827,698\n",
      "Non-trainable params: 0\n",
      "_________________________________________________________________\n",
      "None\n"
     ]
    }
   ],
   "source": [
    "from keras.models import Sequential\n",
    "from keras.layers import Dense, Dropout, Flatten, Lambda, Activation\n",
    "from keras.layers.convolutional import Convolution2D, ZeroPadding2D, MaxPooling2D\n",
    "from keras.optimizers import Adam\n",
    "from keras import metrics\n",
    "\n",
    "model = Sequential()\n",
    "\n",
    "# Define network input shape\n",
    "model.add(ZeroPadding2D((1, 1), input_shape=(CROP_SIZE, CROP_SIZE, 1)))\n",
    "# Resize images to allow for easy computation\n",
    "model.add(Lambda(resize_image))\n",
    "\n",
    "# CNN model - Building the model suggested in paper\n",
    "model.add(Convolution2D(filters= 32, kernel_size =(5,5), strides= (2, 2), padding='same', name='conv1'))\n",
    "model.add(Activation('relu'))\n",
    "model.add(MaxPooling2D(pool_size=(2, 2), strides=(2, 2), name='pool1'))\n",
    "\n",
    "model.add(Convolution2D(filters= 64, kernel_size =(3, 3), strides= (1, 1), padding='same', name='conv2'))\n",
    "model.add(Activation('relu'))\n",
    "model.add(MaxPooling2D(pool_size=(2, 2), strides=(2, 2), name='pool2'))\n",
    "\n",
    "model.add(Convolution2D(filters= 128, kernel_size =(3, 3), strides= (1, 1), padding='same', name='conv3'))\n",
    "model.add(Activation('relu'))\n",
    "model.add(MaxPooling2D(pool_size=(2, 2), strides=(2, 2), name='pool3'))\n",
    "\n",
    "\n",
    "model.add(Flatten())\n",
    "model.add(Dropout(0.5))\n",
    "\n",
    "model.add(Dense(512, name='dense1'))\n",
    "model.add(Activation('relu'))\n",
    "model.add(Dropout(0.5))\n",
    "\n",
    "model.add(Dense(256, name='dense2'))\n",
    "model.add(Activation('relu'))\n",
    "model.add(Dropout(0.5))\n",
    "\n",
    "model.add(Dense(NUM_LABELS, name='output'))\n",
    "model.add(Activation('softmax'))\n",
    "\n",
    "model.compile(loss='categorical_crossentropy', optimizer=Adam(), metrics=['acc'])\n",
    "\n",
    "print(model.summary())"
   ]
  },
  {
   "cell_type": "markdown",
   "metadata": {},
   "source": [
    "Next, the model is trained for 20 epochs and the models obtained after each epoch are saved to the ``./model_checkpoints`` directory"
   ]
  },
  {
   "cell_type": "code",
   "execution_count": 25,
   "metadata": {
    "colab": {
     "base_uri": "https://localhost:8080/",
     "height": 1397
    },
    "colab_type": "code",
    "id": "AWcVj_1WjOAy",
    "outputId": "5fb3ea7c-b304-40f3-ad21-ab2b06aad5a1"
   },
   "outputs": [
    {
     "name": "stdout",
     "output_type": "stream",
     "text": [
      "Model Trained\n"
     ]
    }
   ],
   "source": [
    "'''\n",
    "from keras.callbacks import ModelCheckpoint, EarlyStopping\n",
    "import os\n",
    "\n",
    "# Create directory to save checkpoints at\n",
    "model_checkpoints_path = \"./model_checkpoints\"\n",
    "if not os.path.exists(model_checkpoints_path):\n",
    "    os.makedirs(model_checkpoints_path)\n",
    "\n",
    "# Save model after every epoch using checkpoints\n",
    "create_checkpoint = ModelCheckpoint(\n",
    "    filepath=\"./model_checkpoints/check_{epoch:02d}_{val_loss:.4f}.hdf5\",\n",
    "    verbose=1,\n",
    "    save_best_only=False\n",
    ")\n",
    "\n",
    "# Early stopping to stop the training if the validation loss does not improve for 5 epochs\n",
    "early_stopping = EarlyStopping(\n",
    "    monitor='val_loss',\n",
    "    patience=5,\n",
    "    verbose=1,\n",
    "    restore_best_weights=True\n",
    ")\n",
    "\n",
    "# Fit model using generators\n",
    "history_object = model.fit(\n",
    "    train_generator,\n",
    "    steps_per_epoch=round(len(X_train) / BATCH_SIZE),\n",
    "    validation_data=validation_generator,\n",
    "    validation_steps=round(len(X_val) / BATCH_SIZE),\n",
    "    epochs=20,\n",
    "    verbose=1,\n",
    "    callbacks=[create_checkpoint, early_stopping]\n",
    ")\n",
    "'''\n",
    "print(\"Model Trained\")"
   ]
  },
  {
   "cell_type": "markdown",
   "metadata": {},
   "source": [
    "Load training checkpoint"
   ]
  },
  {
   "cell_type": "code",
   "execution_count": 45,
   "metadata": {},
   "outputs": [],
   "source": [
    "# Path to the checkpoint file\n",
    "#checkpoint_path = './model_checkpoints/old/model_weights.hdf5'\n",
    "#checkpoint_path = './model_checkpoints/check_20_0.7104.hdf5'\n",
    "checkpoint_path = './model_checkpoints/check_19_0.7173.hdf5'\n",
    "model.load_weights(checkpoint_path)"
   ]
  },
  {
   "cell_type": "markdown",
   "metadata": {},
   "source": [
    "Save weights"
   ]
  },
  {
   "cell_type": "code",
   "execution_count": 50,
   "metadata": {},
   "outputs": [],
   "source": [
    "# Save only the model's weights\n",
    "model.save_weights('my_model_weights.h5')"
   ]
  },
  {
   "cell_type": "markdown",
   "metadata": {},
   "source": [
    "Load a saved model weights and use them to predict labels in the test set:"
   ]
  },
  {
   "cell_type": "code",
   "execution_count": 51,
   "metadata": {},
   "outputs": [
    {
     "name": "stdout",
     "output_type": "stream",
     "text": [
      "61/61 [==============================] - 14s 236ms/step - loss: 0.6190 - acc: 0.8100\n",
      "Accuracy:  0.809961199760437\n"
     ]
    }
   ],
   "source": [
    "model_weights_path = \"./my_model_weights.h5\"\n",
    "if model_weights_path:\n",
    "    model.load_weights(model_weights_path)\n",
    "    scores = model.evaluate(test_generator, steps=round(len(X_test)/BATCH_SIZE))\n",
    "    print(\"Accuracy: \", scores[1])\n",
    "else:\n",
    "    print(\"Set model weights file to load in the 'model_weights_path' variable\")"
   ]
  },
  {
   "cell_type": "markdown",
   "metadata": {},
   "source": [
    "Save Model"
   ]
  },
  {
   "cell_type": "code",
   "execution_count": 52,
   "metadata": {},
   "outputs": [],
   "source": [
    "model.save('my_model.h5')"
   ]
  },
  {
   "cell_type": "markdown",
   "metadata": {},
   "source": [
    "Evaluate Model"
   ]
  },
  {
   "cell_type": "code",
   "execution_count": 53,
   "metadata": {},
   "outputs": [
    {
     "name": "stdout",
     "output_type": "stream",
     "text": [
      "61/61 [==============================] - 14s 235ms/step - loss: 0.6166 - acc: 0.8110\n",
      "Accuracy:  0.8110364675521851\n"
     ]
    }
   ],
   "source": [
    "from keras.models import load_model\n",
    "\n",
    "# Path to the saved entire model\n",
    "model_path = \"./my_model.h5\"\n",
    "\n",
    "if model_path:\n",
    "    # Load the entire saved model\n",
    "    model = load_model(model_path)\n",
    "    \n",
    "    # Evaluate the model using the test generator\n",
    "    scores = model.evaluate(test_generator, steps=round(len(X_test)/BATCH_SIZE))\n",
    "    \n",
    "    print(\"Accuracy: \", scores[1])\n",
    "else:\n",
    "    print(\"Set model file to load in the 'model_path' variable\")\n"
   ]
  },
  {
   "cell_type": "markdown",
   "metadata": {},
   "source": [
    "Model Demo"
   ]
  },
  {
   "cell_type": "code",
   "execution_count": 54,
   "metadata": {},
   "outputs": [
    {
     "data": {
      "image/png": "[encoded data removed]",
      "text/plain": [
       "<Figure size 640x480 with 1 Axes>"
      ]
     },
     "metadata": {},
     "output_type": "display_data"
    }
   ],
   "source": [
    "from PIL import Image\n",
    "import matplotlib.pyplot as plt\n",
    "\n",
    "# Load the image\n",
    "#image_path = '../data/Demo/a01-000u/a01-000u-s00-01.png'\n",
    "#image_path = '../data/Demo/a01-102u-s01-00.png'\n",
    "image_path = '../data/Demo/a01-003u-s00-00.png'\n",
    "img = Image.open(image_path)\n",
    "plt.imshow(img, cmap='gray')\n",
    "plt.show()"
   ]
  },
  {
   "cell_type": "code",
   "execution_count": 55,
   "metadata": {},
   "outputs": [
    {
     "data": {
      "image/png": "[encoded data removed]",
      "text/plain": [
       "<Figure size 640x480 with 1 Axes>"
      ]
     },
     "metadata": {},
     "output_type": "display_data"
    }
   ],
   "source": [
    "def preprocess_image(image_path):\n",
    "    img = Image.open(image_path)\n",
    "    \n",
    "    # Compute resize dimensions such that aspect ratio is maintained\n",
    "    img_width = img.size[0]\n",
    "    img_height = img.size[1]\n",
    "    height_fac = CROP_SIZE / img_height\n",
    "    new_width = int(img_width * height_fac)\n",
    "    \n",
    "    # Resize image \n",
    "    new_img = img.resize((new_width, CROP_SIZE), Image.LANCZOS)\n",
    "    \n",
    "    # Crop the width if it's greater than CROP_SIZE\n",
    "    if new_width > CROP_SIZE:\n",
    "        left = (new_width - CROP_SIZE) / 2\n",
    "        top = 0\n",
    "        right = (new_width + CROP_SIZE) / 2\n",
    "        bottom = CROP_SIZE\n",
    "        new_img = new_img.crop((left, top, right, bottom))\n",
    "    \n",
    "    # Ensure the image is exactly CROP_SIZE x CROP_SIZE\n",
    "    new_img = new_img.resize((CROP_SIZE, CROP_SIZE), Image.LANCZOS)\n",
    "    \n",
    "    # Convert image to numpy array\n",
    "    img_array = np.array(new_img)\n",
    "    \n",
    "    # Reshape to match the input format of the model and normalize\n",
    "    img_array = img_array.reshape(CROP_SIZE, CROP_SIZE, 1)\n",
    "    img_array = img_array.astype('float32')\n",
    "    img_array /= 255\n",
    "    \n",
    "    return img_array\n",
    "\n",
    "#processed_img = preprocess_image('../data/Demo/a01-000u/a01-000u-s00-01.png') #ID 000\n",
    "#processed_img = preprocess_image('../data/Demo/a01-102u-s01-00.png') #ID 102\n",
    "processed_img = preprocess_image('../data/Demo/a01-003u-s00-00.png') #ID 003\n",
    "plt.imshow(processed_img, cmap='gray')\n",
    "plt.show()"
   ]
  },
  {
   "cell_type": "code",
   "execution_count": 56,
   "metadata": {},
   "outputs": [
    {
     "name": "stdout",
     "output_type": "stream",
     "text": [
      "1/1 [==============================] - 0s 75ms/step\n",
      "[[9.9999619e-01 4.0172651e-24 1.7177088e-14 1.8783735e-21 3.7083275e-08\n",
      "  1.1923955e-15 1.5513027e-14 2.1188125e-20 6.4238079e-17 1.3183204e-17\n",
      "  2.8896983e-25 6.9812262e-10 8.5474301e-21 3.8636048e-15 1.9553059e-24\n",
      "  8.1143961e-14 3.4639516e-20 2.8565239e-13 1.4314926e-10 4.9457231e-28\n",
      "  3.4858003e-18 4.7144499e-23 1.6837527e-18 3.9063453e-15 2.6060835e-13\n",
      "  2.8416340e-13 1.2295737e-10 2.8346755e-11 3.6610233e-19 1.1046351e-13\n",
      "  1.2511692e-09 1.2614773e-17 9.3268735e-09 1.6793053e-13 1.2569057e-15\n",
      "  1.4019707e-23 6.8190205e-15 6.2034876e-22 3.6339291e-06 1.0022217e-13\n",
      "  3.8402513e-25 8.3536301e-22 8.5678304e-14 7.0386652e-10 2.0368860e-07\n",
      "  1.1223736e-12 1.2737007e-18 2.3477511e-16 2.0996067e-20 3.8621706e-10]]\n"
     ]
    }
   ],
   "source": [
    "# Expand dimensions to fit the model's input shape\n",
    "input_data = np.expand_dims(processed_img, axis=0)\n",
    "\n",
    "# Predict\n",
    "prediction = model.predict(input_data)\n",
    "predicted_label = np.argmax(prediction, axis=1)\n",
    "print(prediction)"
   ]
  },
  {
   "cell_type": "code",
   "execution_count": 57,
   "metadata": {},
   "outputs": [
    {
     "name": "stdout",
     "output_type": "stream",
     "text": [
      "Predicted Writer ID: 000\n"
     ]
    }
   ],
   "source": [
    "# Decode the predicted label to get the writer's ID\n",
    "writer_id = encoder.inverse_transform(predicted_label)\n",
    "print(f\"Predicted Writer ID: {writer_id[0]}\")"
   ]
  },
  {
   "cell_type": "markdown",
   "metadata": {},
   "source": [
    "### Train the Autoencoder"
   ]
  },
  {
   "cell_type": "code",
   "execution_count": 35,
   "metadata": {},
   "outputs": [
    {
     "name": "stdout",
     "output_type": "stream",
     "text": [
      "Epoch 1/50\n"
     ]
    },
    {
     "ename": "ValueError",
     "evalue": "in user code:\n\n    File \"C:\\Users\\User\\anaconda3\\lib\\site-packages\\keras\\engine\\training.py\", line 1051, in train_function  *\n        return step_function(self, iterator)\n    File \"C:\\Users\\User\\anaconda3\\lib\\site-packages\\keras\\engine\\training.py\", line 1040, in step_function  **\n        outputs = model.distribute_strategy.run(run_step, args=(data,))\n    File \"C:\\Users\\User\\anaconda3\\lib\\site-packages\\keras\\engine\\training.py\", line 1030, in run_step  **\n        outputs = model.train_step(data)\n    File \"C:\\Users\\User\\anaconda3\\lib\\site-packages\\keras\\engine\\training.py\", line 889, in train_step\n        y_pred = self(x, training=True)\n    File \"C:\\Users\\User\\anaconda3\\lib\\site-packages\\keras\\utils\\traceback_utils.py\", line 67, in error_handler\n        raise e.with_traceback(filtered_tb) from None\n    File \"C:\\Users\\User\\anaconda3\\lib\\site-packages\\keras\\engine\\input_spec.py\", line 200, in assert_input_compatibility\n        raise ValueError(f'Layer \"{layer_name}\" expects {len(input_spec)} input(s),'\n\n    ValueError: Layer \"model\" expects 1 input(s), but it received 158 input tensors. Inputs received: [<tf.Tensor 'IteratorGetNext:0' shape=(None, 113) dtype=uint8>, <tf.Tensor 'IteratorGetNext:1' shape=(None, 113) dtype=uint8>, <tf.Tensor 'IteratorGetNext:2' shape=(None, 113) dtype=uint8>, <tf.Tensor 'IteratorGetNext:3' shape=(None, 113) dtype=uint8>, <tf.Tensor 'IteratorGetNext:4' shape=(None, 113) dtype=uint8>, <tf.Tensor 'IteratorGetNext:5' shape=(None, 113) dtype=uint8>, <tf.Tensor 'IteratorGetNext:6' shape=(None, 113) dtype=uint8>, <tf.Tensor 'IteratorGetNext:7' shape=(None, 113) dtype=uint8>, <tf.Tensor 'IteratorGetNext:8' shape=(None, 113) dtype=uint8>, <tf.Tensor 'IteratorGetNext:9' shape=(None, 113) dtype=uint8>, <tf.Tensor 'IteratorGetNext:10' shape=(None, 113) dtype=uint8>, <tf.Tensor 'IteratorGetNext:11' shape=(None, 113) dtype=uint8>, <tf.Tensor 'IteratorGetNext:12' shape=(None, 113) dtype=uint8>, <tf.Tensor 'IteratorGetNext:13' shape=(None, 113) dtype=uint8>, <tf.Tensor 'IteratorGetNext:14' shape=(None, 113) dtype=uint8>, <tf.Tensor 'IteratorGetNext:15' shape=(None, 113) dtype=uint8>, <tf.Tensor 'IteratorGetNext:16' shape=(None, 113) dtype=uint8>, <tf.Tensor 'IteratorGetNext:17' shape=(None, 113) dtype=uint8>, <tf.Tensor 'IteratorGetNext:18' shape=(None, 113) dtype=uint8>, <tf.Tensor 'IteratorGetNext:19' shape=(None, 113) dtype=uint8>, <tf.Tensor 'IteratorGetNext:20' shape=(None, 113) dtype=uint8>, <tf.Tensor 'IteratorGetNext:21' shape=(None, 113) dtype=uint8>, <tf.Tensor 'IteratorGetNext:22' shape=(None, 113) dtype=uint8>, <tf.Tensor 'IteratorGetNext:23' shape=(None, 113) dtype=uint8>, <tf.Tensor 'IteratorGetNext:24' shape=(None, 113) dtype=uint8>, <tf.Tensor 'IteratorGetNext:25' shape=(None, 113) dtype=uint8>, <tf.Tensor 'IteratorGetNext:26' shape=(None, 113) dtype=uint8>, <tf.Tensor 'IteratorGetNext:27' shape=(None, 113) dtype=uint8>, <tf.Tensor 'IteratorGetNext:28' shape=(None, 113) dtype=uint8>, <tf.Tensor 'IteratorGetNext:29' shape=(None, 113) dtype=uint8>, <tf.Tensor 'IteratorGetNext:30' shape=(None, 113) dtype=uint8>, <tf.Tensor 'IteratorGetNext:31' shape=(None, 113) dtype=uint8>, <tf.Tensor 'IteratorGetNext:32' shape=(None, 113) dtype=uint8>, <tf.Tensor 'IteratorGetNext:33' shape=(None, 113) dtype=uint8>, <tf.Tensor 'IteratorGetNext:34' shape=(None, 113) dtype=uint8>, <tf.Tensor 'IteratorGetNext:35' shape=(None, 113) dtype=uint8>, <tf.Tensor 'IteratorGetNext:36' shape=(None, 113) dtype=uint8>, <tf.Tensor 'IteratorGetNext:37' shape=(None, 113) dtype=uint8>, <tf.Tensor 'IteratorGetNext:38' shape=(None, 113) dtype=uint8>, <tf.Tensor 'IteratorGetNext:39' shape=(None, 113) dtype=uint8>, <tf.Tensor 'IteratorGetNext:40' shape=(None, 113) dtype=uint8>, <tf.Tensor 'IteratorGetNext:41' shape=(None, 113) dtype=uint8>, <tf.Tensor 'IteratorGetNext:42' shape=(None, 113) dtype=uint8>, <tf.Tensor 'IteratorGetNext:43' shape=(None, 113) dtype=uint8>, <tf.Tensor 'IteratorGetNext:44' shape=(None, 113) dtype=uint8>, <tf.Tensor 'IteratorGetNext:45' shape=(None, 113) dtype=uint8>, <tf.Tensor 'IteratorGetNext:46' shape=(None, 113) dtype=uint8>, <tf.Tensor 'IteratorGetNext:47' shape=(None, 113) dtype=uint8>, <tf.Tensor 'IteratorGetNext:48' shape=(None, 113) dtype=uint8>, <tf.Tensor 'IteratorGetNext:49' shape=(None, 113) dtype=uint8>, <tf.Tensor 'IteratorGetNext:50' shape=(None, 113) dtype=uint8>, <tf.Tensor 'IteratorGetNext:51' shape=(None, 113) dtype=uint8>, <tf.Tensor 'IteratorGetNext:52' shape=(None, 113) dtype=uint8>, <tf.Tensor 'IteratorGetNext:53' shape=(None, 113) dtype=uint8>, <tf.Tensor 'IteratorGetNext:54' shape=(None, 113) dtype=uint8>, <tf.Tensor 'IteratorGetNext:55' shape=(None, 113) dtype=uint8>, <tf.Tensor 'IteratorGetNext:56' shape=(None, 113) dtype=uint8>, <tf.Tensor 'IteratorGetNext:57' shape=(None, 113) dtype=uint8>, <tf.Tensor 'IteratorGetNext:58' shape=(None, 113) dtype=uint8>, <tf.Tensor 'IteratorGetNext:59' shape=(None, 113) dtype=uint8>, <tf.Tensor 'IteratorGetNext:60' shape=(None, 113) dtype=uint8>, <tf.Tensor 'IteratorGetNext:61' shape=(None, 113) dtype=uint8>, <tf.Tensor 'IteratorGetNext:62' shape=(None, 113) dtype=uint8>, <tf.Tensor 'IteratorGetNext:63' shape=(None, 113) dtype=uint8>, <tf.Tensor 'IteratorGetNext:64' shape=(None, 113) dtype=uint8>, <tf.Tensor 'IteratorGetNext:65' shape=(None, 113) dtype=uint8>, <tf.Tensor 'IteratorGetNext:66' shape=(None, 113) dtype=uint8>, <tf.Tensor 'IteratorGetNext:67' shape=(None, 113) dtype=uint8>, <tf.Tensor 'IteratorGetNext:68' shape=(None, 113) dtype=uint8>, <tf.Tensor 'IteratorGetNext:69' shape=(None, 113) dtype=uint8>, <tf.Tensor 'IteratorGetNext:70' shape=(None, 113) dtype=uint8>, <tf.Tensor 'IteratorGetNext:71' shape=(None, 113) dtype=uint8>, <tf.Tensor 'IteratorGetNext:72' shape=(None, 113) dtype=uint8>, <tf.Tensor 'IteratorGetNext:73' shape=(None, 113) dtype=uint8>, <tf.Tensor 'IteratorGetNext:74' shape=(None, 113) dtype=uint8>, <tf.Tensor 'IteratorGetNext:75' shape=(None, 113) dtype=uint8>, <tf.Tensor 'IteratorGetNext:76' shape=(None, 113) dtype=uint8>, <tf.Tensor 'IteratorGetNext:77' shape=(None, 113) dtype=uint8>, <tf.Tensor 'IteratorGetNext:78' shape=(None, 113) dtype=uint8>, <tf.Tensor 'IteratorGetNext:79' shape=(None, 113) dtype=uint8>, <tf.Tensor 'IteratorGetNext:80' shape=(None, 113) dtype=uint8>, <tf.Tensor 'IteratorGetNext:81' shape=(None, 113) dtype=uint8>, <tf.Tensor 'IteratorGetNext:82' shape=(None, 113) dtype=uint8>, <tf.Tensor 'IteratorGetNext:83' shape=(None, 113) dtype=uint8>, <tf.Tensor 'IteratorGetNext:84' shape=(None, 113) dtype=uint8>, <tf.Tensor 'IteratorGetNext:85' shape=(None, 113) dtype=uint8>, <tf.Tensor 'IteratorGetNext:86' shape=(None, 113) dtype=uint8>, <tf.Tensor 'IteratorGetNext:87' shape=(None, 113) dtype=uint8>, <tf.Tensor 'IteratorGetNext:88' shape=(None, 113) dtype=uint8>, <tf.Tensor 'IteratorGetNext:89' shape=(None, 113) dtype=uint8>, <tf.Tensor 'IteratorGetNext:90' shape=(None, 113) dtype=uint8>, <tf.Tensor 'IteratorGetNext:91' shape=(None, 113) dtype=uint8>, <tf.Tensor 'IteratorGetNext:92' shape=(None, 113) dtype=uint8>, <tf.Tensor 'IteratorGetNext:93' shape=(None, 113) dtype=uint8>, <tf.Tensor 'IteratorGetNext:94' shape=(None, 113) dtype=uint8>, <tf.Tensor 'IteratorGetNext:95' shape=(None, 113) dtype=uint8>, <tf.Tensor 'IteratorGetNext:96' shape=(None, 113) dtype=uint8>, <tf.Tensor 'IteratorGetNext:97' shape=(None, 113) dtype=uint8>, <tf.Tensor 'IteratorGetNext:98' shape=(None, 113) dtype=uint8>, <tf.Tensor 'IteratorGetNext:99' shape=(None, 113) dtype=uint8>, <tf.Tensor 'IteratorGetNext:100' shape=(None, 113) dtype=uint8>, <tf.Tensor 'IteratorGetNext:101' shape=(None, 113) dtype=uint8>, <tf.Tensor 'IteratorGetNext:102' shape=(None, 113) dtype=uint8>, <tf.Tensor 'IteratorGetNext:103' shape=(None, 113) dtype=uint8>, <tf.Tensor 'IteratorGetNext:104' shape=(None, 113) dtype=uint8>, <tf.Tensor 'IteratorGetNext:105' shape=(None, 113) dtype=uint8>, <tf.Tensor 'IteratorGetNext:106' shape=(None, 113) dtype=uint8>, <tf.Tensor 'IteratorGetNext:107' shape=(None, 113) dtype=uint8>, <tf.Tensor 'IteratorGetNext:108' shape=(None, 113) dtype=uint8>, <tf.Tensor 'IteratorGetNext:109' shape=(None, 113) dtype=uint8>, <tf.Tensor 'IteratorGetNext:110' shape=(None, 113) dtype=uint8>, <tf.Tensor 'IteratorGetNext:111' shape=(None, 113) dtype=uint8>, <tf.Tensor 'IteratorGetNext:112' shape=(None, 113) dtype=uint8>, <tf.Tensor 'IteratorGetNext:113' shape=(None, 113) dtype=uint8>, <tf.Tensor 'IteratorGetNext:114' shape=(None, 113) dtype=uint8>, <tf.Tensor 'IteratorGetNext:115' shape=(None, 113) dtype=uint8>, <tf.Tensor 'IteratorGetNext:116' shape=(None, 113) dtype=uint8>, <tf.Tensor 'IteratorGetNext:117' shape=(None, 113) dtype=uint8>, <tf.Tensor 'IteratorGetNext:118' shape=(None, 113) dtype=uint8>, <tf.Tensor 'IteratorGetNext:119' shape=(None, 113) dtype=uint8>, <tf.Tensor 'IteratorGetNext:120' shape=(None, 113) dtype=uint8>, <tf.Tensor 'IteratorGetNext:121' shape=(None, 113) dtype=uint8>, <tf.Tensor 'IteratorGetNext:122' shape=(None, 113) dtype=uint8>, <tf.Tensor 'IteratorGetNext:123' shape=(None, 113) dtype=uint8>, <tf.Tensor 'IteratorGetNext:124' shape=(None, 113) dtype=uint8>, <tf.Tensor 'IteratorGetNext:125' shape=(None, 113) dtype=uint8>, <tf.Tensor 'IteratorGetNext:126' shape=(None, 113) dtype=uint8>, <tf.Tensor 'IteratorGetNext:127' shape=(None, 113) dtype=uint8>, <tf.Tensor 'IteratorGetNext:128' shape=(None, 113) dtype=uint8>, <tf.Tensor 'IteratorGetNext:129' shape=(None, 113) dtype=uint8>, <tf.Tensor 'IteratorGetNext:130' shape=(None, 113) dtype=uint8>, <tf.Tensor 'IteratorGetNext:131' shape=(None, 113) dtype=uint8>, <tf.Tensor 'IteratorGetNext:132' shape=(None, 113) dtype=uint8>, <tf.Tensor 'IteratorGetNext:133' shape=(None, 113) dtype=uint8>, <tf.Tensor 'IteratorGetNext:134' shape=(None, 113) dtype=uint8>, <tf.Tensor 'IteratorGetNext:135' shape=(None, 113) dtype=uint8>, <tf.Tensor 'IteratorGetNext:136' shape=(None, 113) dtype=uint8>, <tf.Tensor 'IteratorGetNext:137' shape=(None, 113) dtype=uint8>, <tf.Tensor 'IteratorGetNext:138' shape=(None, 113) dtype=uint8>, <tf.Tensor 'IteratorGetNext:139' shape=(None, 113) dtype=uint8>, <tf.Tensor 'IteratorGetNext:140' shape=(None, 113) dtype=uint8>, <tf.Tensor 'IteratorGetNext:141' shape=(None, 113) dtype=uint8>, <tf.Tensor 'IteratorGetNext:142' shape=(None, 113) dtype=uint8>, <tf.Tensor 'IteratorGetNext:143' shape=(None, 113) dtype=uint8>, <tf.Tensor 'IteratorGetNext:144' shape=(None, 113) dtype=uint8>, <tf.Tensor 'IteratorGetNext:145' shape=(None, 113) dtype=uint8>, <tf.Tensor 'IteratorGetNext:146' shape=(None, 113) dtype=uint8>, <tf.Tensor 'IteratorGetNext:147' shape=(None, 113) dtype=uint8>, <tf.Tensor 'IteratorGetNext:148' shape=(None, 113) dtype=uint8>, <tf.Tensor 'IteratorGetNext:149' shape=(None, 113) dtype=uint8>, <tf.Tensor 'IteratorGetNext:150' shape=(None, 113) dtype=uint8>, <tf.Tensor 'IteratorGetNext:151' shape=(None, 113) dtype=uint8>, <tf.Tensor 'IteratorGetNext:152' shape=(None, 113) dtype=uint8>, <tf.Tensor 'IteratorGetNext:153' shape=(None, 113) dtype=uint8>, <tf.Tensor 'IteratorGetNext:154' shape=(None, 113) dtype=uint8>, <tf.Tensor 'IteratorGetNext:155' shape=(None, 113) dtype=uint8>, <tf.Tensor 'IteratorGetNext:156' shape=(None, 113) dtype=uint8>, <tf.Tensor 'IteratorGetNext:157' shape=(None, 113) dtype=uint8>]\n",
     "output_type": "error",
     "traceback": [
      "\u001b[1;31m---------------------------------------------------------------------------\u001b[0m",
      "\u001b[1;31mValueError\u001b[0m                                Traceback (most recent call last)",
      "Cell \u001b[1;32mIn[35], line 28\u001b[0m\n\u001b[0;32m     25\u001b[0m autoencoder\u001b[38;5;241m.\u001b[39mcompile(optimizer\u001b[38;5;241m=\u001b[39m\u001b[38;5;124m'\u001b[39m\u001b[38;5;124madam\u001b[39m\u001b[38;5;124m'\u001b[39m, loss\u001b[38;5;241m=\u001b[39m\u001b[38;5;124m'\u001b[39m\u001b[38;5;124mbinary_crossentropy\u001b[39m\u001b[38;5;124m'\u001b[39m)\n\u001b[0;32m     27\u001b[0m \u001b[38;5;66;03m# Train the autoencoder\u001b[39;00m\n\u001b[1;32m---> 28\u001b[0m \u001b[43mautoencoder\u001b[49m\u001b[38;5;241;43m.\u001b[39;49m\u001b[43mfit\u001b[49m\u001b[43m(\u001b[49m\u001b[43mimages\u001b[49m\u001b[43m,\u001b[49m\u001b[43m \u001b[49m\u001b[43mimages\u001b[49m\u001b[43m,\u001b[49m\u001b[43m \u001b[49m\u001b[43mepochs\u001b[49m\u001b[38;5;241;43m=\u001b[39;49m\u001b[38;5;241;43m50\u001b[39;49m\u001b[43m,\u001b[49m\u001b[43m \u001b[49m\u001b[43mbatch_size\u001b[49m\u001b[38;5;241;43m=\u001b[39;49m\u001b[38;5;241;43m256\u001b[39;49m\u001b[43m,\u001b[49m\u001b[43m \u001b[49m\u001b[43mshuffle\u001b[49m\u001b[38;5;241;43m=\u001b[39;49m\u001b[38;5;28;43;01mTrue\u001b[39;49;00m\u001b[43m,\u001b[49m\u001b[43m \u001b[49m\u001b[43mvalidation_split\u001b[49m\u001b[38;5;241;43m=\u001b[39;49m\u001b[38;5;241;43m0.2\u001b[39;49m\u001b[43m)\u001b[49m\n\u001b[0;32m     30\u001b[0m \u001b[38;5;66;03m# Save the model\u001b[39;00m\n\u001b[0;32m     31\u001b[0m autoencoder\u001b[38;5;241m.\u001b[39msave(\u001b[38;5;124m'\u001b[39m\u001b[38;5;124mautoencoder_model.h5\u001b[39m\u001b[38;5;124m'\u001b[39m)\n",
      "File \u001b[1;32m~\\anaconda3\\lib\\site-packages\\keras\\utils\\traceback_utils.py:67\u001b[0m, in \u001b[0;36mfilter_traceback.<locals>.error_handler\u001b[1;34m(*args, **kwargs)\u001b[0m\n\u001b[0;32m     65\u001b[0m \u001b[38;5;28;01mexcept\u001b[39;00m \u001b[38;5;167;01mException\u001b[39;00m \u001b[38;5;28;01mas\u001b[39;00m e:  \u001b[38;5;66;03m# pylint: disable=broad-except\u001b[39;00m\n\u001b[0;32m     66\u001b[0m   filtered_tb \u001b[38;5;241m=\u001b[39m _process_traceback_frames(e\u001b[38;5;241m.\u001b[39m__traceback__)\n\u001b[1;32m---> 67\u001b[0m   \u001b[38;5;28;01mraise\u001b[39;00m e\u001b[38;5;241m.\u001b[39mwith_traceback(filtered_tb) \u001b[38;5;28;01mfrom\u001b[39;00m \u001b[38;5;28;01mNone\u001b[39;00m\n\u001b[0;32m     68\u001b[0m \u001b[38;5;28;01mfinally\u001b[39;00m:\n\u001b[0;32m     69\u001b[0m   \u001b[38;5;28;01mdel\u001b[39;00m filtered_tb\n",
      "File \u001b[1;32m~\\AppData\\Local\\Temp\\__autograph_generated_filely5rk_fz.py:15\u001b[0m, in \u001b[0;36mouter_factory.<locals>.inner_factory.<locals>.tf__train_function\u001b[1;34m(iterator)\u001b[0m\n\u001b[0;32m     13\u001b[0m \u001b[38;5;28;01mtry\u001b[39;00m:\n\u001b[0;32m     14\u001b[0m     do_return \u001b[38;5;241m=\u001b[39m \u001b[38;5;28;01mTrue\u001b[39;00m\n\u001b[1;32m---> 15\u001b[0m     retval_ \u001b[38;5;241m=\u001b[39m ag__\u001b[38;5;241m.\u001b[39mconverted_call(ag__\u001b[38;5;241m.\u001b[39mld(step_function), (ag__\u001b[38;5;241m.\u001b[39mld(\u001b[38;5;28mself\u001b[39m), ag__\u001b[38;5;241m.\u001b[39mld(iterator)), \u001b[38;5;28;01mNone\u001b[39;00m, fscope)\n\u001b[0;32m     16\u001b[0m \u001b[38;5;28;01mexcept\u001b[39;00m:\n\u001b[0;32m     17\u001b[0m     do_return \u001b[38;5;241m=\u001b[39m \u001b[38;5;28;01mFalse\u001b[39;00m\n",
      "\u001b[1;31mValueError\u001b[0m: in user code:\n\n    File \"C:\\Users\\User\\anaconda3\\lib\\site-packages\\keras\\engine\\training.py\", line 1051, in train_function  *\n        return step_function(self, iterator)\n    File \"C:\\Users\\User\\anaconda3\\lib\\site-packages\\keras\\engine\\training.py\", line 1040, in step_function  **\n        outputs = model.distribute_strategy.run(run_step, args=(data,))\n    File \"C:\\Users\\User\\anaconda3\\lib\\site-packages\\keras\\engine\\training.py\", line 1030, in run_step  **\n        outputs = model.train_step(data)\n    File \"C:\\Users\\User\\anaconda3\\lib\\site-packages\\keras\\engine\\training.py\", line 889, in train_step\n        y_pred = self(x, training=True)\n    File \"C:\\Users\\User\\anaconda3\\lib\\site-packages\\keras\\utils\\traceback_utils.py\", line 67, in error_handler\n        raise e.with_traceback(filtered_tb) from None\n    File \"C:\\Users\\User\\anaconda3\\lib\\site-packages\\keras\\engine\\input_spec.py\", line 200, in assert_input_compatibility\n        raise ValueError(f'Layer \"{layer_name}\" expects {len(input_spec)} input(s),'\n\n    ValueError: Layer \"model\" expects 1 input(s), but it received 158 input tensors. Inputs received: [<tf.Tensor 'IteratorGetNext:0' shape=(None, 113) dtype=uint8>, <tf.Tensor 'IteratorGetNext:1' shape=(None, 113) dtype=uint8>, <tf.Tensor 'IteratorGetNext:2' shape=(None, 113) dtype=uint8>, <tf.Tensor 'IteratorGetNext:3' shape=(None, 113) dtype=uint8>, <tf.Tensor 'IteratorGetNext:4' shape=(None, 113) dtype=uint8>, <tf.Tensor 'IteratorGetNext:5' shape=(None, 113) dtype=uint8>, <tf.Tensor 'IteratorGetNext:6' shape=(None, 113) dtype=uint8>, <tf.Tensor 'IteratorGetNext:7' shape=(None, 113) dtype=uint8>, <tf.Tensor 'IteratorGetNext:8' shape=(None, 113) dtype=uint8>, <tf.Tensor 'IteratorGetNext:9' shape=(None, 113) dtype=uint8>, <tf.Tensor 'IteratorGetNext:10' shape=(None, 113) dtype=uint8>, <tf.Tensor 'IteratorGetNext:11' shape=(None, 113) dtype=uint8>, <tf.Tensor 'IteratorGetNext:12' shape=(None, 113) dtype=uint8>, <tf.Tensor 'IteratorGetNext:13' shape=(None, 113) dtype=uint8>, <tf.Tensor 'IteratorGetNext:14' shape=(None, 113) dtype=uint8>, <tf.Tensor 'IteratorGetNext:15' shape=(None, 113) dtype=uint8>, <tf.Tensor 'IteratorGetNext:16' shape=(None, 113) dtype=uint8>, <tf.Tensor 'IteratorGetNext:17' shape=(None, 113) dtype=uint8>, <tf.Tensor 'IteratorGetNext:18' shape=(None, 113) dtype=uint8>, <tf.Tensor 'IteratorGetNext:19' shape=(None, 113) dtype=uint8>, <tf.Tensor 'IteratorGetNext:20' shape=(None, 113) dtype=uint8>, <tf.Tensor 'IteratorGetNext:21' shape=(None, 113) dtype=uint8>, <tf.Tensor 'IteratorGetNext:22' shape=(None, 113) dtype=uint8>, <tf.Tensor 'IteratorGetNext:23' shape=(None, 113) dtype=uint8>, <tf.Tensor 'IteratorGetNext:24' shape=(None, 113) dtype=uint8>, <tf.Tensor 'IteratorGetNext:25' shape=(None, 113) dtype=uint8>, <tf.Tensor 'IteratorGetNext:26' shape=(None, 113) dtype=uint8>, <tf.Tensor 'IteratorGetNext:27' shape=(None, 113) dtype=uint8>, <tf.Tensor 'IteratorGetNext:28' shape=(None, 113) dtype=uint8>, <tf.Tensor 'IteratorGetNext:29' shape=(None, 113) dtype=uint8>, <tf.Tensor 'IteratorGetNext:30' shape=(None, 113) dtype=uint8>, <tf.Tensor 'IteratorGetNext:31' shape=(None, 113) dtype=uint8>, <tf.Tensor 'IteratorGetNext:32' shape=(None, 113) dtype=uint8>, <tf.Tensor 'IteratorGetNext:33' shape=(None, 113) dtype=uint8>, <tf.Tensor 'IteratorGetNext:34' shape=(None, 113) dtype=uint8>, <tf.Tensor 'IteratorGetNext:35' shape=(None, 113) dtype=uint8>, <tf.Tensor 'IteratorGetNext:36' shape=(None, 113) dtype=uint8>, <tf.Tensor 'IteratorGetNext:37' shape=(None, 113) dtype=uint8>, <tf.Tensor 'IteratorGetNext:38' shape=(None, 113) dtype=uint8>, <tf.Tensor 'IteratorGetNext:39' shape=(None, 113) dtype=uint8>, <tf.Tensor 'IteratorGetNext:40' shape=(None, 113) dtype=uint8>, <tf.Tensor 'IteratorGetNext:41' shape=(None, 113) dtype=uint8>, <tf.Tensor 'IteratorGetNext:42' shape=(None, 113) dtype=uint8>, <tf.Tensor 'IteratorGetNext:43' shape=(None, 113) dtype=uint8>, <tf.Tensor 'IteratorGetNext:44' shape=(None, 113) dtype=uint8>, <tf.Tensor 'IteratorGetNext:45' shape=(None, 113) dtype=uint8>, <tf.Tensor 'IteratorGetNext:46' shape=(None, 113) dtype=uint8>, <tf.Tensor 'IteratorGetNext:47' shape=(None, 113) dtype=uint8>, <tf.Tensor 'IteratorGetNext:48' shape=(None, 113) dtype=uint8>, <tf.Tensor 'IteratorGetNext:49' shape=(None, 113) dtype=uint8>, <tf.Tensor 'IteratorGetNext:50' shape=(None, 113) dtype=uint8>, <tf.Tensor 'IteratorGetNext:51' shape=(None, 113) dtype=uint8>, <tf.Tensor 'IteratorGetNext:52' shape=(None, 113) dtype=uint8>, <tf.Tensor 'IteratorGetNext:53' shape=(None, 113) dtype=uint8>, <tf.Tensor 'IteratorGetNext:54' shape=(None, 113) dtype=uint8>, <tf.Tensor 'IteratorGetNext:55' shape=(None, 113) dtype=uint8>, <tf.Tensor 'IteratorGetNext:56' shape=(None, 113) dtype=uint8>, <tf.Tensor 'IteratorGetNext:57' shape=(None, 113) dtype=uint8>, <tf.Tensor 'IteratorGetNext:58' shape=(None, 113) dtype=uint8>, <tf.Tensor 'IteratorGetNext:59' shape=(None, 113) dtype=uint8>, <tf.Tensor 'IteratorGetNext:60' shape=(None, 113) dtype=uint8>, <tf.Tensor 'IteratorGetNext:61' shape=(None, 113) dtype=uint8>, <tf.Tensor 'IteratorGetNext:62' shape=(None, 113) dtype=uint8>, <tf.Tensor 'IteratorGetNext:63' shape=(None, 113) dtype=uint8>, <tf.Tensor 'IteratorGetNext:64' shape=(None, 113) dtype=uint8>, <tf.Tensor 'IteratorGetNext:65' shape=(None, 113) dtype=uint8>, <tf.Tensor 'IteratorGetNext:66' shape=(None, 113) dtype=uint8>, <tf.Tensor 'IteratorGetNext:67' shape=(None, 113) dtype=uint8>, <tf.Tensor 'IteratorGetNext:68' shape=(None, 113) dtype=uint8>, <tf.Tensor 'IteratorGetNext:69' shape=(None, 113) dtype=uint8>, <tf.Tensor 'IteratorGetNext:70' shape=(None, 113) dtype=uint8>, <tf.Tensor 'IteratorGetNext:71' shape=(None, 113) dtype=uint8>, <tf.Tensor 'IteratorGetNext:72' shape=(None, 113) dtype=uint8>, <tf.Tensor 'IteratorGetNext:73' shape=(None, 113) dtype=uint8>, <tf.Tensor 'IteratorGetNext:74' shape=(None, 113) dtype=uint8>, <tf.Tensor 'IteratorGetNext:75' shape=(None, 113) dtype=uint8>, <tf.Tensor 'IteratorGetNext:76' shape=(None, 113) dtype=uint8>, <tf.Tensor 'IteratorGetNext:77' shape=(None, 113) dtype=uint8>, <tf.Tensor 'IteratorGetNext:78' shape=(None, 113) dtype=uint8>, <tf.Tensor 'IteratorGetNext:79' shape=(None, 113) dtype=uint8>, <tf.Tensor 'IteratorGetNext:80' shape=(None, 113) dtype=uint8>, <tf.Tensor 'IteratorGetNext:81' shape=(None, 113) dtype=uint8>, <tf.Tensor 'IteratorGetNext:82' shape=(None, 113) dtype=uint8>, <tf.Tensor 'IteratorGetNext:83' shape=(None, 113) dtype=uint8>, <tf.Tensor 'IteratorGetNext:84' shape=(None, 113) dtype=uint8>, <tf.Tensor 'IteratorGetNext:85' shape=(None, 113) dtype=uint8>, <tf.Tensor 'IteratorGetNext:86' shape=(None, 113) dtype=uint8>, <tf.Tensor 'IteratorGetNext:87' shape=(None, 113) dtype=uint8>, <tf.Tensor 'IteratorGetNext:88' shape=(None, 113) dtype=uint8>, <tf.Tensor 'IteratorGetNext:89' shape=(None, 113) dtype=uint8>, <tf.Tensor 'IteratorGetNext:90' shape=(None, 113) dtype=uint8>, <tf.Tensor 'IteratorGetNext:91' shape=(None, 113) dtype=uint8>, <tf.Tensor 'IteratorGetNext:92' shape=(None, 113) dtype=uint8>, <tf.Tensor 'IteratorGetNext:93' shape=(None, 113) dtype=uint8>, <tf.Tensor 'IteratorGetNext:94' shape=(None, 113) dtype=uint8>, <tf.Tensor 'IteratorGetNext:95' shape=(None, 113) dtype=uint8>, <tf.Tensor 'IteratorGetNext:96' shape=(None, 113) dtype=uint8>, <tf.Tensor 'IteratorGetNext:97' shape=(None, 113) dtype=uint8>, <tf.Tensor 'IteratorGetNext:98' shape=(None, 113) dtype=uint8>, <tf.Tensor 'IteratorGetNext:99' shape=(None, 113) dtype=uint8>, <tf.Tensor 'IteratorGetNext:100' shape=(None, 113) dtype=uint8>, <tf.Tensor 'IteratorGetNext:101' shape=(None, 113) dtype=uint8>, <tf.Tensor 'IteratorGetNext:102' shape=(None, 113) dtype=uint8>, <tf.Tensor 'IteratorGetNext:103' shape=(None, 113) dtype=uint8>, <tf.Tensor 'IteratorGetNext:104' shape=(None, 113) dtype=uint8>, <tf.Tensor 'IteratorGetNext:105' shape=(None, 113) dtype=uint8>, <tf.Tensor 'IteratorGetNext:106' shape=(None, 113) dtype=uint8>, <tf.Tensor 'IteratorGetNext:107' shape=(None, 113) dtype=uint8>, <tf.Tensor 'IteratorGetNext:108' shape=(None, 113) dtype=uint8>, <tf.Tensor 'IteratorGetNext:109' shape=(None, 113) dtype=uint8>, <tf.Tensor 'IteratorGetNext:110' shape=(None, 113) dtype=uint8>, <tf.Tensor 'IteratorGetNext:111' shape=(None, 113) dtype=uint8>, <tf.Tensor 'IteratorGetNext:112' shape=(None, 113) dtype=uint8>, <tf.Tensor 'IteratorGetNext:113' shape=(None, 113) dtype=uint8>, <tf.Tensor 'IteratorGetNext:114' shape=(None, 113) dtype=uint8>, <tf.Tensor 'IteratorGetNext:115' shape=(None, 113) dtype=uint8>, <tf.Tensor 'IteratorGetNext:116' shape=(None, 113) dtype=uint8>, <tf.Tensor 'IteratorGetNext:117' shape=(None, 113) dtype=uint8>, <tf.Tensor 'IteratorGetNext:118' shape=(None, 113) dtype=uint8>, <tf.Tensor 'IteratorGetNext:119' shape=(None, 113) dtype=uint8>, <tf.Tensor 'IteratorGetNext:120' shape=(None, 113) dtype=uint8>, <tf.Tensor 'IteratorGetNext:121' shape=(None, 113) dtype=uint8>, <tf.Tensor 'IteratorGetNext:122' shape=(None, 113) dtype=uint8>, <tf.Tensor 'IteratorGetNext:123' shape=(None, 113) dtype=uint8>, <tf.Tensor 'IteratorGetNext:124' shape=(None, 113) dtype=uint8>, <tf.Tensor 'IteratorGetNext:125' shape=(None, 113) dtype=uint8>, <tf.Tensor 'IteratorGetNext:126' shape=(None, 113) dtype=uint8>, <tf.Tensor 'IteratorGetNext:127' shape=(None, 113) dtype=uint8>, <tf.Tensor 'IteratorGetNext:128' shape=(None, 113) dtype=uint8>, <tf.Tensor 'IteratorGetNext:129' shape=(None, 113) dtype=uint8>, <tf.Tensor 'IteratorGetNext:130' shape=(None, 113) dtype=uint8>, <tf.Tensor 'IteratorGetNext:131' shape=(None, 113) dtype=uint8>, <tf.Tensor 'IteratorGetNext:132' shape=(None, 113) dtype=uint8>, <tf.Tensor 'IteratorGetNext:133' shape=(None, 113) dtype=uint8>, <tf.Tensor 'IteratorGetNext:134' shape=(None, 113) dtype=uint8>, <tf.Tensor 'IteratorGetNext:135' shape=(None, 113) dtype=uint8>, <tf.Tensor 'IteratorGetNext:136' shape=(None, 113) dtype=uint8>, <tf.Tensor 'IteratorGetNext:137' shape=(None, 113) dtype=uint8>, <tf.Tensor 'IteratorGetNext:138' shape=(None, 113) dtype=uint8>, <tf.Tensor 'IteratorGetNext:139' shape=(None, 113) dtype=uint8>, <tf.Tensor 'IteratorGetNext:140' shape=(None, 113) dtype=uint8>, <tf.Tensor 'IteratorGetNext:141' shape=(None, 113) dtype=uint8>, <tf.Tensor 'IteratorGetNext:142' shape=(None, 113) dtype=uint8>, <tf.Tensor 'IteratorGetNext:143' shape=(None, 113) dtype=uint8>, <tf.Tensor 'IteratorGetNext:144' shape=(None, 113) dtype=uint8>, <tf.Tensor 'IteratorGetNext:145' shape=(None, 113) dtype=uint8>, <tf.Tensor 'IteratorGetNext:146' shape=(None, 113) dtype=uint8>, <tf.Tensor 'IteratorGetNext:147' shape=(None, 113) dtype=uint8>, <tf.Tensor 'IteratorGetNext:148' shape=(None, 113) dtype=uint8>, <tf.Tensor 'IteratorGetNext:149' shape=(None, 113) dtype=uint8>, <tf.Tensor 'IteratorGetNext:150' shape=(None, 113) dtype=uint8>, <tf.Tensor 'IteratorGetNext:151' shape=(None, 113) dtype=uint8>, <tf.Tensor 'IteratorGetNext:152' shape=(None, 113) dtype=uint8>, <tf.Tensor 'IteratorGetNext:153' shape=(None, 113) dtype=uint8>, <tf.Tensor 'IteratorGetNext:154' shape=(None, 113) dtype=uint8>, <tf.Tensor 'IteratorGetNext:155' shape=(None, 113) dtype=uint8>, <tf.Tensor 'IteratorGetNext:156' shape=(None, 113) dtype=uint8>, <tf.Tensor 'IteratorGetNext:157' shape=(None, 113) dtype=uint8>]\n"
     ]
    }
   ],
   "source": [
    "from keras.layers import Input, Dense, Flatten, Reshape, Conv2D, MaxPooling2D, UpSampling2D\n",
    "from keras.models import Model\n",
    "\n",
    "# Define the shape of the input images\n",
    "input_shape = (128, 128, 1)\n",
    "\n",
    "# Encoder\n",
    "input_img = Input(shape=input_shape)\n",
    "x = Conv2D(16, (3, 3), activation='relu', padding='same')(input_img)\n",
    "x = MaxPooling2D((2, 2), padding='same')(x)\n",
    "x = Conv2D(8, (3, 3), activation='relu', padding='same')(x)\n",
    "encoded = MaxPooling2D((2, 2), padding='same')(x)\n",
    "\n",
    "# Decoder\n",
    "x = Conv2D(8, (3, 3), activation='relu', padding='same')(encoded)\n",
    "x = UpSampling2D((2, 2))(x)\n",
    "x = Conv2D(16, (3, 3), activation='relu', padding='same')(x)\n",
    "x = UpSampling2D((2, 2))(x)\n",
    "decoded = Conv2D(1, (3, 3), activation='sigmoid', padding='same')(x)\n",
    "\n",
    "# Full autoencoder\n",
    "autoencoder = Model(input_img, decoded)\n",
    "\n",
    "# Compile the autoencoder\n",
    "autoencoder.compile(optimizer='adam', loss='binary_crossentropy')\n",
    "\n",
    "# Train the autoencoder\n",
    "autoencoder.fit(images, images, epochs=50, batch_size=256, shuffle=True, validation_split=0.2)\n",
    "\n",
    "# Save the model\n",
    "autoencoder.save('autoencoder_model.h5')\n"
   ]
  },
  {
   "cell_type": "code",
   "execution_count": null,
   "metadata": {},
   "outputs": [],
   "source": [
    "from keras.models import load_model\n",
    "from sklearn.metrics import mean_squared_error\n",
    "\n",
    "# Load the trained autoencoder\n",
    "autoencoder = load_model('autoencoder_model.h5')\n",
    "\n",
    "# Extract the encoder part\n",
    "encoder = Model(inputs=autoencoder.input, outputs=autoencoder.layers[-7].output)\n",
    "\n",
    "# Function to get latent representations\n",
    "def get_latent_representations(images):\n",
    "    return encoder.predict(images)\n",
    "\n",
    "# Calculate the centroid of the latent representations of the training data\n",
    "latent_representations = get_latent_representations(images)\n",
    "centroid = np.mean(latent_representations, axis=0)\n",
    "\n",
    "# For a new image:\n",
    "new_image = preprocess_image('./data/Demo/a01-043u/a01-043u-s00-00.png')  # adjust path\n",
    "new_image = np.expand_dims(new_image, axis=0)\n",
    "reconstructed_image = autoencoder.predict(new_image)\n",
    "\n",
    "# Calculate reconstruction error\n",
    "error = mean_squared_error(new_image.flatten(), reconstructed_image.flatten())\n",
    "print(f\"Reconstruction error: {error}\")\n",
    "\n",
    "# Get latent representation for the new image\n",
    "new_latent_representation = get_latent_representations(new_image)\n",
    "\n",
    "# Calculate distance from the centroid\n",
    "distance = np.linalg.norm(new_latent_representation - centroid)\n",
    "print(f\"Distance from centroid: {distance}\")\n",
    "\n",
    "# Decide if it's a new writer (you might need to adjust the threshold based on your observations)\n",
    "threshold = 0.5\n",
    "if distance > threshold:\n",
    "    print(\"It might be a new writer!\")"
   ]
  },
  {
   "cell_type": "code",
   "execution_count": null,
   "metadata": {},
   "outputs": [],
   "source": [
    "def autoencoder_data_generator(samples, batch_size):\n",
    "    while 1: \n",
    "        for offset in range(0, len(samples), batch_size):\n",
    "            batch_samples = samples[offset:offset + batch_size]\n",
    "            \n",
    "            images = []\n",
    "            for sample in batch_samples:\n",
    "                img = Image.open(sample)\n",
    "                img = img.resize((113, 113))  # Resize to your input size\n",
    "                img_array = np.asarray(img)\n",
    "                images.append(img_array)\n",
    "            \n",
    "            X_train = np.array(images)\n",
    "            X_train = X_train.reshape(X_train.shape[0], 113, 113, 1)\n",
    "            X_train = X_train.astype('float32')\n",
    "            X_train /= 255\n",
    "            \n",
    "            yield X_train, X_train  # x and y are the same for an autoencoder\n",
    "\n",
    "# Create autoencoder data generators\n",
    "autoencoder_train_generator = autoencoder_data_generator(X_train, 16)\n",
    "autoencoder_val_generator = autoencoder_data_generator(X_val, 16)\n",
    "\n",
    "# Now you can use these in your autoencoder training:\n",
    "autoencoder.fit(autoencoder_train_generator, epochs=50, \n",
    "                steps_per_epoch=len(X_train) // 16,\n",
    "                validation_data=autoencoder_val_generator,\n",
    "                validation_steps=len(X_val) // 16)\n"
   ]
  },
  {
   "cell_type": "code",
   "execution_count": null,
   "metadata": {},
   "outputs": [],
   "source": [
    "from keras.layers import Input, Dense, Flatten, Reshape\n",
    "from keras.models import Model\n",
    "\n",
    "# Assuming each image has a shape of (113, 113, 1)\n",
    "input_shape = (113, 113, 1)\n",
    "encoding_dim = 64  # size of the encoded representations\n",
    "\n",
    "# Encoder\n",
    "input_img = Input(shape=input_shape)\n",
    "flattened = Flatten()(input_img)\n",
    "encoded = Dense(encoding_dim, activation='relu')(flattened)\n",
    "\n",
    "# Decoder\n",
    "decoded = Dense(np.prod(input_shape), activation='sigmoid')(encoded)\n",
    "decoded = Reshape(input_shape)(decoded)\n",
    "\n",
    "# Full autoencoder model\n",
    "autoencoder = Model(input_img, decoded)\n",
    "\n",
    "# Compile the autoencoder\n",
    "autoencoder.compile(optimizer='adam', loss='binary_crossentropy')\n",
    "\n",
    "# You may need to adjust your data generators to work with the autoencoder.\n",
    "# For now, I'm assuming you have suitable `autoencoder_train_generator` and `autoencoder_val_generator`.\n",
    "autoencoder.fit(autoencoder_train_generator, epochs=50, \n",
    "                steps_per_epoch=len(X_train) // 16,\n",
    "                validation_data=autoencoder_val_generator,\n",
    "                validation_steps=len(X_val) // 16)"
   ]
  },
  {
   "cell_type": "markdown",
   "metadata": {},
   "source": [
    "### Extract the Encoder"
   ]
  },
  {
   "cell_type": "code",
   "execution_count": null,
   "metadata": {},
   "outputs": [],
   "source": [
    "# Encoder model for feature extraction\n",
    "encoder = Model(input_img, encoded)"
   ]
  },
  {
   "cell_type": "code",
   "execution_count": null,
   "metadata": {},
   "outputs": [],
   "source": [
    "from collections import defaultdict\n",
    "import numpy as np\n",
    "\n",
    "writer_centroids = defaultdict(list)\n",
    "\n",
    "# Loop through each writer's images\n",
    "for writer_id in top_writers:  # Assuming top_writers contains the writer IDs\n",
    "    writer_images = []  # Collect all images for this writer\n",
    "    for form_id, writer in form_writer.items():\n",
    "        if writer == writer_id:\n",
    "            image_path = os.path.join(temp_sentences_path, form_id + '.png')  # Adjust as needed\n",
    "            image = Image.open(\"../data/a01-043u-s04-03.png\")\n",
    "            image = image.resize((113, 113))\n",
    "            writer_images.append(np.asarray(image))\n",
    "            \n",
    "    writer_images = np.array(writer_images).reshape(len(writer_images), 113, 113, 1)\n",
    "    encoded_images = encoder.predict(writer_images)\n",
    "    centroid = np.mean(encoded_images, axis=0)\n",
    "    writer_centroids[writer_id] = centroid\n"
   ]
  },
  {
   "cell_type": "code",
   "execution_count": null,
   "metadata": {},
   "outputs": [],
   "source": [
    "writer_thresholds = {}\n",
    "\n",
    "for writer_id, centroid in writer_centroids.items():\n",
    "    writer_images = []  # Collect all images for this writer\n",
    "    for form_id, writer in form_writer.items():\n",
    "        if writer == writer_id:\n",
    "            image_path = os.path.join(temp_sentences_path, form_id + '.png')  # Adjust as needed\n",
    "            image = Image.open(\"../data/a01-043u-s04-03.png\")\n",
    "            image = image.resize((113, 113))\n",
    "            writer_images.append(np.asarray(image))\n",
    "            \n",
    "    writer_images = np.array(writer_images).reshape(len(writer_images), 113, 113, 1)\n",
    "    encoded_images = encoder.predict(writer_images)\n",
    "    distances = [np.linalg.norm(encoded - centroid) for encoded in encoded_images]\n",
    "    avg_distance = np.mean(distances)\n",
    "    writer_thresholds[writer_id] = avg_distance * 1.2  # Adding some margin\n"
   ]
  },
  {
   "cell_type": "code",
   "execution_count": null,
   "metadata": {},
   "outputs": [],
   "source": [
    "def identify_writer(new_image, writer_centroids, writer_thresholds):\n",
    "    # Preprocess the new image and encode it\n",
    "    new_image = Image.open(new_image).resize((113, 113))\n",
    "    new_image = np.asarray(new_image).reshape(1, 113, 113, 1)\n",
    "    encoded_image = encoder.predict(new_image)\n",
    "\n",
    "    for writer_id, centroid in writer_centroids.items():\n",
    "        distance = np.linalg.norm(encoded_image - centroid)\n",
    "        if distance < writer_thresholds[writer_id]:\n",
    "            print(f\"Writer identified as {writer_id}\")\n",
    "            return writer_id\n",
    "\n",
    "    print(\"This is a new writer.\")\n",
    "    return None\n"
   ]
  },
  {
   "cell_type": "code",
   "execution_count": null,
   "metadata": {},
   "outputs": [],
   "source": []
  },
  {
   "cell_type": "markdown",
   "metadata": {},
   "source": [
    "### Anomaly Detection for New Class"
   ]
  },
  {
   "cell_type": "code",
   "execution_count": null,
   "metadata": {},
   "outputs": [],
   "source": [
    "# Assume you have some 'normal_data_points' and one 'new_data_point'\n",
    "normal_data_points = np.random.rand(100, 113, 113, 1)  # Replace with your actual normal data\n",
    "new_data_point = np.random.rand(1, 113, 113, 1)  # Replace with your actual new data point\n",
    "\n",
    "# Encode the normal data points to get their latent space representations\n",
    "encoded_normal_data_points = encoder.predict(normal_data_points)\n",
    "\n",
    "# Encode the new data point to get its latent space representation\n",
    "encoded_new_data_point = encoder.predict(new_data_point)\n",
    "\n",
    "# Calculate the centroid of the normal data points in the latent space\n",
    "centroid = np.mean(encoded_normal_data_points, axis=0)\n",
    "\n",
    "# Calculate the distance between the new data point and the centroid\n",
    "distance = np.linalg.norm(encoded_new_data_point - centroid)\n",
    "\n",
    "# Define a threshold for anomaly detection (this should be based on your specific case)\n",
    "threshold = 10.0\n",
    "\n",
    "# Detect if the new data point is an anomaly\n",
    "if distance > threshold:\n",
    "    print(\"Anomaly detected\")\n",
    "else:\n",
    "    print(\"No anomaly detected\")\n"
   ]
  },
  {
   "cell_type": "markdown",
   "metadata": {},
   "source": [
    "### Add new class"
   ]
  },
  {
   "cell_type": "code",
   "execution_count": null,
   "metadata": {},
   "outputs": [],
   "source": [
    "from PIL import Image\n",
    "import numpy as np\n",
    "\n",
    "# Step 1: Read the image\n",
    "img_path = 'path/to/your/test/image.png'  # Replace with the actual path\n",
    "img = Image.open(img_path)\n",
    "\n",
    "# Step 2: Resize and preprocess\n",
    "img = img.resize((CROP_SIZE, CROP_SIZE))  # Replace CROP_SIZE with the actual size\n",
    "img_array = np.asarray(img)\n",
    "\n",
    "# Step 3: Expand dimensions to match the input shape\n",
    "test_data_point = np.expand_dims(img_array, axis=0)  # Makes it (1, CROP_SIZE, CROP_SIZE, num_channels)\n",
    "\n",
    "# If your images are grayscale and your model expects a single channel image, you might also need to reshape:\n",
    "test_data_point = test_data_point.reshape(test_data_point.shape[0], CROP_SIZE, CROP_SIZE, 1)\n",
    "\n",
    "# Normalize the data if your model expects that\n",
    "test_data_point = test_data_point.astype('float32') / 255.0\n"
   ]
  },
  {
   "cell_type": "markdown",
   "metadata": {},
   "source": [
    "### Integrate with Original Classifier"
   ]
  },
  {
   "cell_type": "code",
   "execution_count": null,
   "metadata": {},
   "outputs": [],
   "source": [
    "# Assuming original_model and test_data_point are defined and preprocessed\n",
    "# Define your confidence_threshold\n",
    "original_model = model\n",
    "confidence_threshold = 0.8\n",
    "\n",
    "# Make a prediction with the original classifier\n",
    "original_prediction = original_model.predict(test_data_point)\n",
    "\n",
    "# If prediction confidence is low, check for the new class\n",
    "if max(original_prediction[0]) < confidence_threshold:\n",
    "    # Encode the test data point to get its latent space representation\n",
    "    encoded_test_data_point = encoder.predict(test_data_point)\n",
    "    \n",
    "    # Calculate the 'difference' based on your specific logic\n",
    "    # For instance, using Euclidean distance from a centroid\n",
    "    difference = np.linalg.norm(encoded_test_data_point - centroid)\n",
    "    \n",
    "    # Define your 'threshold' for anomaly detection\n",
    "    threshold = 10.0  # Replace with your actual threshold\n",
    "    \n",
    "    # Measure the difference and check against the threshold\n",
    "    if difference > threshold:\n",
    "        final_prediction = \"new_class\"\n",
    "    else:\n",
    "        final_prediction = np.argmax(original_prediction)  # or any other way to interpret the prediction\n",
    "else:\n",
    "    final_prediction = np.argmax(original_prediction)  # or any other way to interpret the prediction\n",
    "\n",
    "print(\"Final Prediction:\", final_prediction)\n"
   ]
  },
  {
   "cell_type": "code",
   "execution_count": null,
   "metadata": {},
   "outputs": [],
   "source": []
  }
 ],
 "metadata": {
  "accelerator": "GPU",
  "colab": {
   "name": "solution.ipynb",
   "provenance": [],
   "toc_visible": true,
   "version": "0.3.2"
  },
  "kernelspec": {
   "display_name": "Python 3 (ipykernel)",
   "language": "python",
   "name": "python3"
  },
  "language_info": {
   "codemirror_mode": {
    "name": "ipython",
    "version": 3
   },
   "file_extension": ".py",
   "mimetype": "text/x-python",
   "name": "python",
   "nbconvert_exporter": "python",
   "pygments_lexer": "ipython3",
   "version": "3.9.12"
  }
 },
 "nbformat": 4,
 "nbformat_minor": 1
}
